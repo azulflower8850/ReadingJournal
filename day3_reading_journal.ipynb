{
 "cells": [
  {
   "cell_type": "markdown",
   "metadata": {},
   "source": [
    "# Day 3 Reading Journal\n",
    "\n",
    "This journal includes several required exercises, but it is meant to encourage active reading more generally.  You should use the journal to take detailed notes, catalog questions, and explore the content from Think Python deeply.\n",
    "\n",
    "Reading: Think Python Chapter 8, 10.1-10.6\n",
    "\n",
    "**Due: Monday, February 1 at 12 noon**\n",
    "\n"
   ]
  },
  {
   "cell_type": "markdown",
   "metadata": {},
   "source": [
    "## [Chapter 8](http://www.greenteapress.com/thinkpython/html/thinkpython009.html)\n",
    "\n",
    "Note: the exercise numbers below match up with the reading for ease of cross referencing."
   ]
  },
  {
   "cell_type": "markdown",
   "metadata": {},
   "source": [
    "Strings\n",
    "\n",
    "A string is a sequence of characters. Bracket operator allows for accessing characters one at a time.\n",
    "Ex. letter = fruit[1]\n",
    "\n",
    "An index indicates which character in the sequence you want. It starts at 0.\n",
    "\n",
    "You can use any expression as an index, but the value of the index has to be integer.\n",
    "\n",
    "Len is a built-in function that returns the number of characters in a string.\n",
    "\n",
    "Beware that len actually counts past the total index of the string, so be sure to subtract one from len to get the last character of a string.\n",
    "\n",
    "You can also use negative indices, which count backward from the end of the string.\n",
    "\n",
    "Traversal - Pattern of processing where a computation starts at the beginning, select each character in turn, do something to it, and continue until the end.\n",
    "\n",
    "for char in fruit:\n",
    "    print char\n",
    "    \n",
    "Use a for loop for traversal. Each time through the loop, the next character in the string is assigned to the variable char. The loop continues until no characters are left.\n",
    "\n",
    "Slice - a segment of a string. Use the operator [n:m], which return the part of the string from the nth character to the mth, including the first but excluding the last.\n",
    "\n",
    "If you omit the first index before the colon, the slice starts at the beginning of the string. if you oit the second index, the slice goes to the end of the string.\n",
    "\n",
    "If the first index is greater than or equal to the second index, the result is an empty string.\n",
    "\n",
    "STRINGS ARE IMMUTABLE, just concatenate\n",
    "\n",
    "A search - traversing a sequence and returning when we find what we are looking for\n",
    "\n",
    "Counter - a variable that is initialized and then incremented each time an a is found. \n",
    "\n",
    "A method - it takes arguments and returns a value, similar to a function, but the syntax is different.\n",
    "\n",
    "Ex. Instead of the function syntax upper(word), it uses the method syntax word.upper()\n",
    "\n",
    "Invocation - a method call\n",
    "\n",
    "The word \"in\" is a boolean operator that takes two strings and returns True if the first appears as a substring in the second.\n",
    "\n",
    "The relational operators works on strings.\n",
    "== - checks if two strings are equal\n",
    "<, > = Useful for putting words in alphabetical order\n",
    "\n",
    "Capitals come before lowercase\n",
    "\n",
    "\n"
   ]
  },
  {
   "cell_type": "markdown",
   "metadata": {},
   "source": [
    "### Exercise 1  \n",
    "\n",
    "Write a function that takes a string as an argument and displays the letters backward, one per line."
   ]
  },
  {
   "cell_type": "code",
   "execution_count": 2,
   "metadata": {
    "collapsed": false
   },
   "outputs": [
    {
     "name": "stdout",
     "output_type": "stream",
     "text": [
      "n\n",
      "e\n",
      "k\n",
      "c\n",
      "i\n",
      "h\n",
      "c\n"
     ]
    }
   ],
   "source": [
    "def backwards(str): #Displays letters backwards\n",
    "    index = -1 * len(str)   #I will be traversing backwards, starting at the last letter\n",
    "\n",
    "    count = -1\n",
    "    while(count >= index):\n",
    "        print str[count]\n",
    "        count = count -1\n",
    "        \n",
    "        \n",
    "backwards(\"chicken\")    \n",
    "    "
   ]
  },
  {
   "cell_type": "markdown",
   "metadata": {},
   "source": [
    "**Challenge (optional):** Write a function that translates words into [Pig Latin](https://en.wikipedia.org/wiki/Pig_Latin). \n",
    "\n",
    "**Additional challenge**: Write a function that translates back into English."
   ]
  },
  {
   "cell_type": "code",
   "execution_count": 47,
   "metadata": {
    "collapsed": false
   },
   "outputs": [
    {
     "name": "stdout",
     "output_type": "stream",
     "text": [
      "oftwaresay\n",
      "software\n",
      "Finding tests in NoName\n",
      "Trying:\n",
      "    pig_latin(\"software\")\n",
      "Expecting:\n",
      "    'oftwaresay'\n",
      "**********************************************************************\n",
      "File \"__main__\", line 28, in NoName\n",
      "Failed example:\n",
      "    pig_latin(\"software\")\n",
      "Expected:\n",
      "    'oftwaresay'\n",
      "Got:\n",
      "    oftwaresay\n"
     ]
    }
   ],
   "source": [
    "def check_first_letter(letter):  #Function that checks the first letter of the word, returning True if a vowel or False if consonant\n",
    "    vowels = [\"a\",\"e\",\"i\",\"o\",\"u\"]\n",
    "    result = False\n",
    "    for stuff in vowels:\n",
    "        if(stuff == letter):\n",
    "            result = True\n",
    "    return result        \n",
    "            \n",
    "def check_last_bit(str):  #Function that checks the end of the word, returning True if way is there, meaning the word began with a vowel\n",
    "    if((\"way\" in str)):    #or False if only ay is there, meaning the word began with a consonant.\n",
    "        return True\n",
    "    elif((\"ay\" in str)):\n",
    "        return False\n",
    "    return None\n",
    "def back_to_normal(word):\n",
    "    back_bit = word[-1:-4]\n",
    "    normal_word = \"\"\n",
    "    if(check_last_bit(back_bit)):\n",
    "        normal_word = word[-4] + word[0:len(word)-4]\n",
    "    else:\n",
    "        normal_word = word[-3] + word[0:len(word)-3]\n",
    "    print normal_word    \n",
    "        \n",
    "def pig_latin(word):\n",
    "    \"\"\"\n",
    "    Return given 'word' translated into Pig Latin\n",
    "    \n",
    "    >>> pig_latin(\"software\")\n",
    "    'oftwaresay'\n",
    "    \"\"\"\n",
    "    pass \n",
    "    first_letter = word[0]\n",
    "    pig_word = ''\n",
    "    if(check_first_letter(first_letter)):   #Using the boolean from check_first_letter, will either way to the end or\n",
    "        pig_word = word + 'way'              #put the first letter to the end and then add ay depending on vowel or consonant\n",
    "    else:\n",
    "        pig_word = word[1:len(word)] + first_letter + 'ay'\n",
    "    \n",
    "    print pig_word \n",
    "# If you'd like to actually run the doctests here, you can uncomment the lines below.\n",
    "# We use this slightly more complex method to test only the pig_latin function, without running tests on any other functions that may be in this notebook.\n",
    "\n",
    "pig_latin(\"software\")\n",
    "back_to_normal(\"oftwaresay\")\n",
    "import doctest\n",
    "doctest.run_docstring_examples(pig_latin, globals(),verbose=True) #This doctest thing in notebook is really jank."
   ]
  },
  {
   "cell_type": "markdown",
   "metadata": {},
   "source": [
    "### Exercise 5\n",
    "Encapsulate the character counting code in a fruitful function named `count` that accepts the string and the letter as arguments and returns the count."
   ]
  },
  {
   "cell_type": "code",
   "execution_count": 29,
   "metadata": {
    "collapsed": false
   },
   "outputs": [
    {
     "name": "stdout",
     "output_type": "stream",
     "text": [
      "Your word has 2 c's\n"
     ]
    }
   ],
   "source": [
    "def count(string,letter):\n",
    "    count = 0\n",
    "    for stuff in string:\n",
    "        if(stuff == letter):\n",
    "            count = count +1\n",
    "    print \"Your word has \" + str(count) + \" \" + letter + \"'s\"       \n",
    "\n",
    "count(\"chicken\", \"c\")"
   ]
  },
  {
   "cell_type": "markdown",
   "metadata": {},
   "source": [
    "### Exercise 8\n",
    "Skim the documentation of the Python [string methods](http://docs.python.org/2/library/stdtypes.html#string-methods). Experiment with some of them to make sure you understand how they work. strip, replace, and upper/lower are particularly useful."
   ]
  },
  {
   "cell_type": "code",
   "execution_count": 35,
   "metadata": {
    "collapsed": false
   },
   "outputs": [
    {
     "name": "stdout",
     "output_type": "stream",
     "text": [
      "p    chicken                g\n",
      "chicken\n",
      "chickenssssssssssssssssssss!!!!!!!!!!!!!\n",
      "chicken$$$$$sssssssssssssss!!!!!!!!!!!!!\n",
      "CHICKENSSSSSSSSSSSSSSSSSSSS!!!!!!!!!!!!!\n",
      "chickenssssssssssssssssssss!!!!!!!!!!!!!\n"
     ]
    }
   ],
   "source": [
    "word = \"p    chicken                g\"\n",
    "print word\n",
    "word2 = word.strip('pg ')\n",
    "print word2\n",
    "word3 = word2.replace('n',\"nssssssssssssssssssss!!!!!!!!!!!!!\")\n",
    "print word3\n",
    "word4 = word3.replace('s',\"$\",5)\n",
    "print word4\n",
    "word5 = word3.upper()\n",
    "print word5\n",
    "word6 = word5.lower()\n",
    "print word6\n",
    "\n",
    "#THESE ARE SO USEFUL OMG"
   ]
  },
  {
   "cell_type": "markdown",
   "metadata": {},
   "source": [
    "### Exercise 11  \n",
    "\n",
    "The following functions are all intended to check whether a string contains any lowercase letters, but at least some of them are wrong. For each function, describe what the function actually does (assuming that the parameter is a string)."
   ]
  },
  {
   "cell_type": "code",
   "execution_count": null,
   "metadata": {
    "collapsed": true
   },
   "outputs": [],
   "source": [
    "def any_lowercase1(s):\n",
    "    for c in s:\n",
    "        if c.islower():\n",
    "            return True\n",
    "        else:\n",
    "            return False"
   ]
  },
  {
   "cell_type": "markdown",
   "metadata": {},
   "source": [
    "The above function is incorrect. When invoked, the function will begin a for loop, examining every letter in the string. For every letter, it will call a string method that checks if c is lowercase, and then return a boolean. Based on the boolean, the function returns too quickly, as it will literally only check the first letter. Since If and else are both inside the loop, then on the first letter, there will a return executed, and the function stops."
   ]
  },
  {
   "cell_type": "markdown",
   "metadata": {},
   "source": [
    " "
   ]
  },
  {
   "cell_type": "code",
   "execution_count": null,
   "metadata": {
    "collapsed": true
   },
   "outputs": [],
   "source": [
    "def any_lowercase2(s):\n",
    "    for c in s:\n",
    "        if 'c'.islower():\n",
    "            return 'True'\n",
    "        else:\n",
    "            return 'False'"
   ]
  },
  {
   "cell_type": "markdown",
   "metadata": {},
   "source": [
    "This function is incorrect. The function also begins with a for loop and check every character, but upon entering the conditonal statement, it has the quotations around \"c\", meaning that it is literally using the letter \"c\". This means that the statement will also result in true, regardless of what's going on in the actual string."
   ]
  },
  {
   "cell_type": "markdown",
   "metadata": {},
   "source": [
    " "
   ]
  },
  {
   "cell_type": "code",
   "execution_count": null,
   "metadata": {
    "collapsed": true
   },
   "outputs": [],
   "source": [
    "def any_lowercase3(s):\n",
    "    for c in s:\n",
    "        flag = c.islower()\n",
    "    return flag"
   ]
  },
  {
   "cell_type": "markdown",
   "metadata": {},
   "source": [
    "This function doesn't work. The function will begin with a loop and examine every letter, but the assignment statement is called repeatedly inside the loop, so flag will continually be reassigned, and the previous data will be lost. This means that flag really only represents the boolean for the final letter."
   ]
  },
  {
   "cell_type": "markdown",
   "metadata": {},
   "source": [
    " "
   ]
  },
  {
   "cell_type": "code",
   "execution_count": null,
   "metadata": {
    "collapsed": true
   },
   "outputs": [],
   "source": [
    "def any_lowercase4(s):\n",
    "    flag = False\n",
    "    for c in s:\n",
    "        flag = flag or c.islower()\n",
    "    return flag"
   ]
  },
  {
   "cell_type": "markdown",
   "metadata": {},
   "source": [
    "This function works. The function begins with a loop which looks at all letters in the string. Then since the flag variable is outside the loop this time can starts on the assumption that there are no uppercase letters until proven otherwise, the loop runs and can properly record all the booleans and whether or no there will be a lowercase, for in one lowercase is determined, then flag switches to True, and the \"or\" statement retains the True throughout the rest of the loop, so that True is returned."
   ]
  },
  {
   "cell_type": "markdown",
   "metadata": {},
   "source": [
    " "
   ]
  },
  {
   "cell_type": "code",
   "execution_count": null,
   "metadata": {
    "collapsed": true
   },
   "outputs": [],
   "source": [
    "def any_lowercase5(s):\n",
    "    for c in s:\n",
    "        if not c.islower():\n",
    "            return False\n",
    "    return True"
   ]
  },
  {
   "cell_type": "markdown",
   "metadata": {},
   "source": [
    "This function doesn't work. The functions begins with a for loop and examines all letters in the string. However, given the not in the conditional followed by the immediate return statement, this function will stop too quickly if there is even one uppercase letter."
   ]
  },
  {
   "cell_type": "markdown",
   "metadata": {},
   "source": [
    " "
   ]
  },
  {
   "cell_type": "markdown",
   "metadata": {},
   "source": [
    "## [Chapter 10.1 - 10.6](http://www.greenteapress.com/thinkpython/html/thinkpython011.html)\n",
    "\n",
    "You may want to review [state diagrams in Chapter 2](http://www.greenteapress.com/thinkpython/html/thinkpython003.html#toc13).\n",
    "\n"
   ]
  },
  {
   "cell_type": "markdown",
   "metadata": {},
   "source": [
    "Lists\n",
    "\n",
    "A list is a sequence of values. In a list they can be any type, unlike a string.\n",
    "\n",
    "The values are called elements, sometimes items.\n",
    "\n",
    "The simplest way to create a new list is to enclose the elements in square brackets []\n",
    "\n",
    "The elements also don't have to be of the same type.\n",
    "There can also be nested lists.\n",
    "\n",
    "You can assign list values to variables.\n",
    "\n",
    "LISTS ARE MUTABLE, the syntax for accessing the elements of a list is the same as for accessing the characters of a string - []\n",
    "\n",
    "When the bracket operator appears on the left of an assignment, it identifies the element of the list that will be assigned.\n",
    "\n",
    "Mapping - a relationship between a list's indices and elements.\n",
    "\n",
    "List indices work the same as string:\n",
    "1. Any integer expression can be used as an index\n",
    "2. Ifyou try to read an element that doesn't exist, you get IndexError\n",
    "3. If an index has a negative value, it counts backward from the end of the list.\n",
    "\n",
    "The in operator also works on lists\n",
    "Ex. cheeses = ['Cheddar', 'Edam']\n",
    "'Edam' in cheeses\n",
    "True\n",
    "\n",
    "The most common way to traverse the elements of a list is with a for loop.\n",
    "Ex. cheese in cheese:\n",
    "print cheese\n",
    "\n",
    "To write or update the elements, you need the indices, so use range and len\n",
    "\n",
    "Ex. for i in range(len(numbers)):\n",
    "    numbers[i] = numbers[i]*2\n",
    "    \n",
    "A for loop over an empty list never executes the body\n",
    "\n",
    "Nested lists still count as single elements\n",
    "\n",
    "List Operations:\n",
    "1. The  + operator concatenates lists\n",
    "2. The * operator repeats a list\n",
    "3. The slice operator also works on lists\n",
    "\n",
    "List Methods:\n",
    "1. append adds a new element to the end of a list\n",
    "2. extend takes a list as an argument and appends all of the elements\n",
    "3. sort arranges the elements of the list from low to high\n",
    "\n",
    "All lists are void methods\n",
    "\n"
   ]
  },
  {
   "cell_type": "markdown",
   "metadata": {},
   "source": [
    "**Quick check:** What type of items can be placed in a list?"
   ]
  },
  {
   "cell_type": "markdown",
   "metadata": {},
   "source": [
    "Any item can be placed in a list, including integers, strings, booleans, even other lists. Items can also be mixed and can be in any order."
   ]
  },
  {
   "cell_type": "markdown",
   "metadata": {},
   "source": [
    " "
   ]
  },
  {
   "cell_type": "markdown",
   "metadata": {},
   "source": [
    "**Quick check:** Give at least one similarity and one difference between lists and strings."
   ]
  },
  {
   "cell_type": "markdown",
   "metadata": {},
   "source": [
    "One similarity between lists and strings is that they both use the same [] operator to access their values, and they both use the same rules for indices.\n",
    "\n",
    "The biggest difference bewteen lists and strings is that lists are mutable, while strings are not."
   ]
  },
  {
   "cell_type": "markdown",
   "metadata": {},
   "source": [
    " "
   ]
  },
  {
   "cell_type": "markdown",
   "metadata": {},
   "source": [
    "### Exercise\n",
    "\n",
    "Write a function `average` that takes a list of numbers and returns their arithmetic mean."
   ]
  },
  {
   "cell_type": "code",
   "execution_count": 39,
   "metadata": {
    "collapsed": false
   },
   "outputs": [
    {
     "name": "stdout",
     "output_type": "stream",
     "text": [
      "5\n",
      "732\n"
     ]
    }
   ],
   "source": [
    "def average(numbers):\n",
    "    sum = 0;\n",
    "    for number in numbers:\n",
    "        sum = sum + number\n",
    "    return sum/len(numbers)\n",
    "\n",
    "print average([1,2,3,4,5,6,7,8,9,10])\n",
    "chicken = [1,4,6,7,26,24,67,6858,87,976,4]\n",
    "print average(chicken)"
   ]
  },
  {
   "cell_type": "markdown",
   "metadata": {},
   "source": [
    "### Exercise\n",
    "You own a restaurant, and you need to keep up with the latest food fads or risk losing your fickle customers. You decide to write a Python function that adds the hot new ingredient _du jour_ to each of your regular menu items and returns the trendy new menu."
   ]
  },
  {
   "cell_type": "code",
   "execution_count": 46,
   "metadata": {
    "collapsed": false
   },
   "outputs": [
    {
     "name": "stdout",
     "output_type": "stream",
     "text": [
      "['chicken with broccoli', 'pork with broccoli', 'beef with broccoli', 'lamb with broccoli', 'tenderloin with broccoli', 'steak with broccoli']\n",
      "Finding tests in NoName\n",
      "Trying:\n",
      "    add_ingredient([\"burger\", \"salad\", \"ice cream\"], \"kale\")\n",
      "Expecting:\n",
      "    ['burger with kale', 'salad with kale', 'ice cream with kale']\n",
      "ok\n"
     ]
    }
   ],
   "source": [
    "def add_stuff(menu_item, ingredient): #function that concatenates the original menu item string with the new ingredient\n",
    "    return menu_item + \" with \" + ingredient\n",
    "    \n",
    "def add_ingredient(menu, ingredient):\n",
    "    \"\"\"\n",
    "    Given a list of string 'menu' items and a trendy 'ingredient' string of the day,\n",
    "    return a new menu list of strings with the ingredient added to each.\n",
    "    \n",
    "    >>> add_ingredient([\"burger\", \"salad\", \"ice cream\"], \"kale\")\n",
    "    ['burger with kale', 'salad with kale', 'ice cream with kale']\n",
    "    \n",
    "    \"\"\"\n",
    "    pass    # TODO: Implement me\n",
    "    new_menu = []\n",
    "    for item in menu:\n",
    "        new_menu.append(add_stuff(item,ingredient))\n",
    "    print new_menu    \n",
    "\n",
    "# Running doctests in jupyter notebook:\n",
    "# If you'd like to actually run the doctests here, you can uncomment the lines below.\n",
    "# We use this slightly more complex method to test only the add_ingredient function,\n",
    "# without running tests on any other functions that may be in this notebook.\n",
    "\n",
    "add_ingredient([\"chicken\", \"pork\", \"beef\", \"lamb\", \"tenderloin\", \"steak\"],\"broccoli\")\n",
    "import doctest\n",
    "doctest.run_docstring_examples(add_ingredient, globals(),verbose=True) #this line never works for me. sad face\n",
    "#EDIT: Now it works, read Piazza happy face"
   ]
  },
  {
   "cell_type": "markdown",
   "metadata": {},
   "source": [
    "## Reading Journal feedback\n",
    "\n",
    "Have any comments on this Reading Journal? Feel free to leave them below and we'll read them when you submit your journal entry. This could include suggestions to improve the exercises, topics you'd like to see covered in class next time, or other feedback.\n",
    "\n",
    "If you have Python questions or run into problems while completing the reading, you should post them to Piazza instead so you can get a quick response before your journal is submitted."
   ]
  },
  {
   "cell_type": "markdown",
   "metadata": {},
   "source": [
    "I thought this one was pretty straightforward. Although, I'm a little confused as to why we keep skipping around so much. "
   ]
  },
  {
   "cell_type": "markdown",
   "metadata": {},
   "source": [
    " "
   ]
  }
 ],
 "metadata": {
  "kernelspec": {
   "display_name": "Python 2",
   "language": "python",
   "name": "python2"
  },
  "language_info": {
   "codemirror_mode": {
    "name": "ipython",
    "version": 2
   },
   "file_extension": ".py",
   "mimetype": "text/x-python",
   "name": "python",
   "nbconvert_exporter": "python",
   "pygments_lexer": "ipython2",
   "version": "2.7.6"
  }
 },
 "nbformat": 4,
 "nbformat_minor": 0
}
