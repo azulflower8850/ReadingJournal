{
 "cells": [
  {
   "cell_type": "markdown",
   "metadata": {},
   "source": [
    "# Day 7 Reading Journal\n",
    "\n",
    "This journal includes several required exercises, but it is meant to encourage active reading more generally.  You should use the journal to take detailed notes, catalog questions, and explore the content from Think Python deeply.\n",
    "\n",
    "Reading: Think Python Chapter 11, 12\n",
    "\n",
    "**Due: Thursday, February 18 at 12 noon**\n",
    "\n"
   ]
  },
  {
   "cell_type": "markdown",
   "metadata": {},
   "source": [
    "## [Chapter 11](http://www.greenteapress.com/thinkpython/html/thinkpython012.html)\n"
   ]
  },
  {
   "cell_type": "markdown",
   "metadata": {},
   "source": [
    "Dictionaries\n",
    "\n",
    "A dictionary is like a list, but more general. The indices in a dictionary can be almost any type, unlike a list which requires integers.\n",
    "\n",
    "A dictionary can be thought of as a mapping between a set of indices (called keys) and a set of values. Each key maps to a value. The association of a key and a value is called a kay-value pair or sometimes an item.\n",
    "\n",
    "Ex. eng2sp = dict()\n",
    "eng2sp['one'] = 'uno'\n",
    "eng2sp['two'] = 'dos'\n",
    "eng2sp['three'] = 'tres'\n",
    "print eng2sp\n",
    "{'one':'uno','three':'tres','two':'dos'}\n",
    "\n",
    "The order of items in a dictionary is unpredictable. But that doesn't matter because elements of a dictionary are found using the keys to look up the corresponding values.\n",
    "\n",
    "print eng2sp['two'] \n",
    "'dos'\n",
    "\n",
    "The key 'two' always maps to 'dos', so the order of the items doesn't matter.\n",
    "\n",
    "If the key isn't in the dictionary, you get an exception.\n",
    "\n",
    "The len function works on dictionaries; it returns the number of key-value pairs.\n",
    "\n",
    "The in operator works on dictionaries; it tells you whether something appears as a key in the dicionary (not the value)\n",
    "\n",
    "The .values() method can be used to see whether something appears as a value in a dictionary\n",
    "\n",
    "The in operator is different in dictionaries than for lists. Lists use a search algorithm, whereas dictionaries utilize a hashtable that  takes the same amont of time no matter how many items there are in a dictionary.\n",
    "\n",
    "Suppose you are given a string and you want to count how many times each letter appears. There are several ways to do this:\n",
    "1. Create 2 variables, then travserse the string and increment each variables per letter.\n",
    "2. Create a list of 26 variables, convert each character to a number, use the number as an index into the list, and increment the appropriate counter.\n",
    "3. You could create a dictionary with characters as keys and counters as the corresponding values. The first time you see a character, you would add an item to the dictionary. Then increment existing values.\n",
    "\n",
    "Implementation is a way of performing a computation; some are better than others. For dictionaries, an advantage is that  we don't know ahead of time which letters appear in the string and only have to make room for the letters that do appear.\n",
    "\n",
    "Using a for statement on a dictionary traverses the keys of the dictionary. Remember that the keys are in no particular order.\n",
    "\n",
    "Lookup - given dictionary and key, find the corresponding value\n",
    "\n",
    "Reverse Lookup - given value, find key, requires searching algorithms.\n",
    "\n",
    "Raise - causes an exception. takes an argument for messaging.\n",
    "\n",
    "Reverse lookup much slower than forward lookup\n",
    "\n",
    "Lists can appear as values in a dictionary. Ex. given a dictionary that maps letters to frequencies, but now invert it so that the dictionary maps frequencies to letters.\n",
    "\n",
    "Lists can be values, but not keys\n",
    "\n",
    "Keys must be hashable. A hash is any function that takes a value and returns an integer. Dictionaries use these to store and lok up items.\n",
    "\n",
    "It works fine only if the keys are immutable; that's why lists are bad as keys.\n",
    "\n",
    "Memos - a previously computed value that is stored for later use.\n",
    "\n",
    "Create a dictionary that stores computed values.\n",
    "\n",
    "\n",
    "Global variables - variables that are declared outside functions and are part of the global \"__main__\" frame. Can be accessed by any function and persists through all function calls.\n",
    "\n",
    "Global variables can't be changed with a variable within functions because those functions are local.\n",
    "\n",
    "To reassign, you must declare the global variable before you use it in a function.\n",
    "\n",
    "You can add, remove, and replace elements of mutable global variables, but if you want to reassign it, you must declare it.\n",
    "\n",
    "global variable name\n",
    "\n",
    "Numbers with an L in the back are long integers, they can be arbitrarily long, but they consume more time and space as they get bigger.\n",
    "\n",
    "As you work with bigger datasets it can become unwieldy to debug by printing and checking data by hand. here are some suggestions for debugging large datasets:\n",
    "1. Scale down the input\n",
    "2. Check summaries and types.\n",
    "3. Write self checks\n",
    "4. Pretty print the output"
   ]
  },
  {
   "cell_type": "markdown",
   "metadata": {},
   "source": [
    "**Quick check:** In about one sentence using your own words, what is a dictionary?"
   ]
  },
  {
   "cell_type": "markdown",
   "metadata": {},
   "source": [
    "A dictionary is a mutable list of keys and values, where the keys can of almost any type."
   ]
  },
  {
   "cell_type": "markdown",
   "metadata": {
    "is_question": true,
    "problem": "Exercise 11.2"
   },
   "source": [
    "### Exercise 2  \n",
    "\n",
    "Dictionaries have a [method called `get`](https://docs.python.org/2/library/stdtypes.html#mapping-types-dict) that takes a key and a default value. If the key appears in the dictionary, `get` returns the corresponding value; otherwise it returns the default value. For example:\n",
    "\n",
    "```\n",
    ">>> h = histogram('a')\n",
    ">>> print h\n",
    "{'a': 1}\n",
    ">>> h.get('a', 0)\n",
    "1\n",
    ">>> h.get('b', 0)\n",
    "0\n",
    "```\n",
    "\n",
    "Use `get` to write `histogram` more concisely. You should be able to eliminate the `if` statement. Add unit tests for your histogram implementation."
   ]
  },
  {
   "cell_type": "code",
   "execution_count": 7,
   "metadata": {
    "collapsed": false,
    "solution": "Exercise 11.2"
   },
   "outputs": [
    {
     "name": "stdout",
     "output_type": "stream",
     "text": [
      "Finding tests in NoName\n",
      "Trying:\n",
      "    histogram('chicken')\n",
      "Expecting:\n",
      "    {'c': 2, 'e': 1, 'i': 1, 'h': 1, 'k': 1, 'n': 1}\n",
      "ok\n"
     ]
    }
   ],
   "source": [
    "def histogram(s):\n",
    "    \"\"\"\n",
    "    This method will create a dictionary that stores all the frequencies of the letters in a word.\n",
    "    Using the get method, it is much more concise. I am testing to see if it works.\n",
    "    \n",
    "    However since the order of the dictionary is unpredictable, it's hard to really come up with good doctests. I just\n",
    "    did one to show proof that it works.\n",
    "    >>> histogram('chicken')\n",
    "    {'c': 2, 'e': 1, 'i': 1, 'h': 1, 'k': 1, 'n': 1}\n",
    "    \"\"\"\n",
    "    d = dict()\n",
    "    for c in s:\n",
    "        d[c] = d.get(c,0)+1\n",
    "    print d\n",
    "    \n",
    "import doctest\n",
    "doctest.run_docstring_examples(histogram, globals(),verbose=True)\n"
   ]
  },
  {
   "cell_type": "markdown",
   "metadata": {
    "is_question": true,
    "problem": "Exercise 11.4"
   },
   "source": [
    "### Exercise 4  \n",
    "\n",
    "Modify `reverse_lookup` so that it builds and returns a list of all keys that map to `v`, or an empty list if there are none. Add unit tests for your implementation."
   ]
  },
  {
   "cell_type": "code",
   "execution_count": 10,
   "metadata": {
    "collapsed": false,
    "solution": "Exercise 11.4"
   },
   "outputs": [
    {
     "name": "stdout",
     "output_type": "stream",
     "text": [
      "Finding tests in NoName\n",
      "Trying:\n",
      "    reverse_lookup({'Im': 1, 'chicken': 1, 'and': 2, 'wut': 3},1)\n",
      "Expecting:\n",
      "    ['chicken', 'Im']\n",
      "ok\n",
      "Trying:\n",
      "    reverse_lookup({'Im': 2, 'chicken': 2, 'and': 2, 'wut': 3},1)\n",
      "Expecting:\n",
      "    []\n",
      "ok\n"
     ]
    }
   ],
   "source": [
    "def reverse_lookup(d, v):\n",
    "    \"\"\"\n",
    "    This method utilizes the dictionary and lists to make reverse lookup return a list instead of just one key.\n",
    "    Doctesting to check that it works properly.\n",
    "    \n",
    "    Once again, it appears that dictionary is randomizing the order, so doctesting is hard.\n",
    "    \n",
    "    >>> reverse_lookup({'Im': 1, 'chicken': 1, 'and': 2, 'wut': 3},1)\n",
    "    ['chicken', 'Im']\n",
    "    >>> reverse_lookup({'Im': 2, 'chicken': 2, 'and': 2, 'wut': 3},1)\n",
    "    []\n",
    "    \"\"\"\n",
    "    result = []\n",
    "    for k in d:\n",
    "        if d[k] == v:\n",
    "            result.append(k)\n",
    "    return result\n",
    "\n",
    "import doctest\n",
    "doctest.run_docstring_examples(reverse_lookup,globals(),verbose=True)\n"
   ]
  },
  {
   "cell_type": "markdown",
   "metadata": {},
   "source": [
    "If you'd like to learn more about errors and exceptions, you can check out the [Python tutorial](https://docs.python.org/2/tutorial/errors.html) or read ahead to [Appendix A](http://www.greenteapress.com/thinkpython/html/thinkpython021.html) of Think Python. If you choose to use doctest for your unit testing, it can also [deal with exceptions](https://docs.python.org/2/library/doctest.html#what-about-exceptions)."
   ]
  },
  {
   "cell_type": "markdown",
   "metadata": {},
   "source": [
    "**Quick check** What type of objects can be used as keys to a dictionary, i.e. what property must they have?"
   ]
  },
  {
   "cell_type": "markdown",
   "metadata": {},
   "source": [
    "A lot of objects can be used as keys to a dictionary, including tuples, strings, integers. The objects must be hashable, or in other words immutable. Mutable objects like lists would mess up the key-value pairing."
   ]
  },
  {
   "cell_type": "markdown",
   "metadata": {
    "is_question": true,
    "problem": "Exercise 11.6"
   },
   "source": [
    "### Exercise 6 (modified)\n",
    "\n",
    "Create a memoized version of your Levenshtein distance function from Day 7. What kind of performance change do you see?\n",
    "\n",
    "Optional: If you'd like to get some quantitative results, you could check out the [timeit](https://docs.python.org/2/library/timeit.html) module\n",
    "\n",
    "Note: You can also study Fibonacci here if you prefer."
   ]
  },
  {
   "cell_type": "code",
   "execution_count": 2,
   "metadata": {
    "collapsed": false,
    "solution": "Exercise 11.6"
   },
   "outputs": [
    {
     "name": "stdout",
     "output_type": "stream",
     "text": [
      "1\n",
      "1\n",
      "14\n",
      "39\n"
     ]
    }
   ],
   "source": [
    "dicts = {}\n",
    "\n",
    "def levenshtein_distance(a, b):\n",
    "    \"\"\"\n",
    "    This method uses a dictionary to keep track of all possible character set pairs, and\n",
    "    their corresponding values representing how many more operations are required until the end of the string.\n",
    "    \n",
    "    I tested it for both long and small, obviously not using doctest because IDK what the number of operations\n",
    "    required is.\n",
    "    \"\"\"\n",
    "\tif (a,b) in dicts.keys():\n",
    "\t\treturn dicts[a,b] \n",
    "\telse:\t\n",
    "\t\tif len(a)==0:\n",
    "\t\t\treturn len(b)\n",
    "\t\telif len(b)==0:\n",
    "\t\t\treturn len(a)\n",
    "\t\telif a[0] == b[0]:\n",
    "\t\t\toption1 = levenshtein_distance(a[1:],b[1:])\n",
    "\t\telse:\n",
    "\t\t\toption1 = 1 + levenshtein_distance(a[1:],b[1:])\n",
    "\t\toption2 = 1 + levenshtein_distance(a[1:],b)\n",
    "\t\toption3 = 1 + levenshtein_distance(a,b[1:])\n",
    "\n",
    "\t\tminimum = min(option1,option2,option3)\n",
    "\n",
    "\t\tdicts[a,b] = minimum\n",
    "\t\treturn minimum\n",
    "\n",
    "print levenshtein_distance('a','b')\n",
    "print levenshtein_distance('ab','bb')\n",
    "print levenshtein_distance('imagianthickcenwholoveschickens','imagiantbuttwholovesbutts')\n",
    "print levenshtein_distance('dfsndnvsdjscovhweofvrogihvwochohv','epfijcmasidcqwpdjcjwqAJLDASKSJKSDJSGERGVSOSI')"
   ]
  },
  {
   "cell_type": "markdown",
   "metadata": {},
   "source": [
    "## [Chapter 12](http://www.greenteapress.com/thinkpython/html/thinkpython013.html)\n",
    "\n",
    "**Quick check:** In about one sentence using your own words, what is a tuple?"
   ]
  },
  {
   "cell_type": "markdown",
   "metadata": {},
   "source": [
    "A tuple is an immutable sequence of values, where the values can be any type and are indexed by integers."
   ]
  },
  {
   "cell_type": "markdown",
   "metadata": {},
   "source": [
    "A tuple is a sequence of values. The values can be any type, and they are indexed by integers, so in that respect they are a lot like lists. The importance difference is that tuples are immutable.\n",
    "\n",
    "t = ('a','b','c','d','e')\n",
    "t1 = 'a',\n",
    "t2 = tuple()\n",
    "\n",
    "Different ways to create a tuple, also if the argument in tuple() is a sequence of some sort, the result is a tuple with the element of the sequence.\n",
    "\n",
    "They work similarly like lists:\n",
    "1. Bracket operator indxes an element\n",
    "2. slice operator selects a range of elements.\n",
    "3. can't modify the elements of a tuple, can you replace one tuple with another.\n",
    "\n",
    "Tuple assignment allows for east swapping of variables.\n",
    "a,b = b,a\n",
    "\n",
    "The left side is tuple of variables, and the right side is a tuple of expressions.\n",
    "\n",
    "Each value is assigned to its respective vairable. All the expressions on the right are evaluated before any of the assignments.\n",
    "\n",
    "The number of variables on the left and the values on the right have to be the same.\n",
    "\n",
    "More generally, the right side can be any kind of sequence.\n",
    "\n",
    "\n",
    "Tuples as return values can allow for returning multiple values.\n",
    "\n",
    "qout, rem = divmod(7,3)\n",
    "\n",
    "or \n",
    "\n",
    "def min_max(t):\n",
    "    return min(t), max(t)\n",
    "    \n",
    "Functions can take a variable number of arguments. A parameter name that begins with * gathers arguments into a tuple.\n",
    "\n",
    "def printall(*args):\n",
    "    print args\n",
    "\n",
    "printall(1,2,3)\n",
    "(1,2,3)\n",
    "\n",
    "The complement of gather is scatter. If you want to make a sequence of value be passed as a function of multiple arguments, you can use the * operator.\n",
    "\n",
    "t = (7,3)\n",
    "divmod(t) Error\n",
    "divmod(*t)\n",
    "(2,1)\n",
    "\n",
    "The zip built in function takes two or more sequences and zips them into a list of tuple where each tuple contains one element from each sequence\n",
    "\n",
    "s = 'abc'\n",
    "t = [0,1,2]\n",
    "zip(s,t)\n",
    "[('a',0),('b',1),('c',2)]\n",
    "\n",
    "if the sequences are not the same length, the result has the length of the shorter one.\n",
    "\n",
    "You can use tuple assignment in a for loop to traverse the list of tuples.\n",
    "\n",
    "You can use tuple assignment, zip, and for to traverse two sequences at the same time.\n",
    "\n",
    "Dictionaries have a method called items that returns a list of tuples, each one as a key-value pair\n",
    "\n",
    "They are in no particular order.\n",
    "\n",
    "You can also use a tuple list to initialize a new dictionary with the dict() function\n",
    "\n",
    "Combining zip with dictionaries is a concise way to create a dictionary.\n",
    "\n",
    "dict(zip(stuff, otherstuff))\n",
    "\n",
    "Dictionary method update also takes a list of tuples and adds them, as key-value pairs, to an existing dictionary.\n",
    "\n",
    "Combining items, tuple assignment, and for, you can traverse the keys and values of a dictionary.\n",
    "\n",
    "You can use tuples as keys in dictionaries\n",
    "\n",
    "Relational operators work with tuples and other sequences. Python starts by comparing the first element from each sequence. If they are equal, it goes on the next element, until it finds differing elements. Subsequent elements are not considered regardless of their size.\n",
    "\n",
    "The sort function works similarly. It sorts by the first element, and in the case of a tie, it moves to the second.\n",
    "\n",
    "A pattern called DSU:\n",
    "1. Decorate a sequence by building a list of tuples with one or more keys preceding the elements from the sequence\n",
    "2. Sort the list of tuples\n",
    "3. Undedcorate by extracting the sorts elements of the sequence.\n",
    "\n",
    "Sequences of sequences, why choose one over the other?\n",
    "\n",
    "Strings are more limited than others because of the elements have to be characters. They are also immutable. If you want to change characters, you might want to use a list instead.\n",
    "\n",
    "Lists are more common than tuples because they are mutable, but a few cases where you prefer tuples:\n",
    "1. In some contexts, like a return statement, it is syntactically simpler to create a tuple than a list.\n",
    "2. If you want to use a sequence as a dictionary key, you have to use an immutable type like a string or tuple\n",
    "3. If you are passing a sequence as an argument to a function, using tuples reduces the potential for unexpected behavior due to aliasing.\n",
    "\n",
    "Tuples are immutable - can't modify with sort and reverse. But can use sorted and reversed, which take any sequence and return a new list with the same elements in a different order.\n",
    "\n",
    "Compound data structures - prone to shape errors - errors caused when a data structure has the wrong type, size, or composition.\n",
    "\n",
    "Ex. expecting a list of one integer, but instead gave a plain old integer.\n",
    "\n",
    "Structshape debugging program is nice.\n"
   ]
  },
  {
   "cell_type": "markdown",
   "metadata": {
    "is_question": true,
    "problem": "Exercise 12.1"
   },
   "source": [
    "### Exercise 1  \n",
    "\n",
    "Many of the built-in functions use variable-length argument tuples. For example, `max` and `min` can take any number of arguments:\n",
    "\n",
    "```\n",
    ">>> max(1,2,3)\n",
    "3\n",
    "```\n",
    "\n",
    "But `sum` does not.\n",
    "\n",
    "```\n",
    ">>> sum(1,2,3)\n",
    "TypeError: sum expected at most 2 arguments, got 3\n",
    "```\n",
    "\n",
    "Write a function called ```sumall``` that takes any number of arguments and returns their sum. \n",
    "\n",
    "Write unit tests for your function. Do I actually need to keep saying this? Let's assume it's always a good idea :)"
   ]
  },
  {
   "cell_type": "code",
   "execution_count": 11,
   "metadata": {
    "collapsed": false,
    "solution": "Exercise 12.1"
   },
   "outputs": [
    {
     "name": "stdout",
     "output_type": "stream",
     "text": [
      "Finding tests in NoName\n",
      "Trying:\n",
      "    sumall(1,2,3,4,5,6,7,8,9,10)\n",
      "Expecting:\n",
      "    55\n",
      "ok\n",
      "Trying:\n",
      "    sumall()\n",
      "Expecting:\n",
      "    0\n",
      "ok\n",
      "Trying:\n",
      "    sumall(1,1)\n",
      "Expecting:\n",
      "    2\n",
      "ok\n"
     ]
    }
   ],
   "source": [
    "def sumall(*args):\n",
    "    \"\"\"\n",
    "    This method utilizes the * operator that groups all arguments into a tuple, thus allowing for an infinite number of arguments\n",
    "    It then sums all of them buy iterating through the tuple. Here are some doctests to prove functionality.\n",
    "    \n",
    "    >>> sumall(1,2,3,4,5,6,7,8,9,10)\n",
    "    55\n",
    "    >>> sumall()\n",
    "    0\n",
    "    >>> sumall(1,1)\n",
    "    2\n",
    "    \"\"\"\n",
    "    total = 0\n",
    "    for i in args:\n",
    "        total +=i\n",
    "    return total\n",
    "\n",
    "doctest.run_docstring_examples(sumall, globals(),verbose=True)\n",
    "    "
   ]
  },
  {
   "cell_type": "markdown",
   "metadata": {},
   "source": [
    "If you're interested in more flexible ways to pass arguments to functions, check out the [Python tutorial](https://docs.python.org/2/tutorial/controlflow.html#more-on-defining-functions). For instance, you can also use keyword arguments, which are collected into a dictionary just like `*` gathers variable numbers of positional arguments into a tuple.\n",
    "\n",
    "This pattern is very common for defining functions with complex optional behaviors in Python, and you will often see definitions like:\n",
    "\n",
    "```\n",
    "def my_func(required_argument1, *arguments, **keywords):\n",
    "    ...\n",
    "```"
   ]
  },
  {
   "cell_type": "markdown",
   "metadata": {
    "is_question": true,
    "problem": "Exercise 12 sort"
   },
   "source": [
    "### Exercise\n",
    "\n",
    "Write a function `sort_by_last_letter` that takes a list of words and returns a new list with the words sorted alphabetically by the _last letter_ in the word. Hint: use the **Decorate, Sort, Undecorate** pattern. Write unit tests for your function."
   ]
  },
  {
   "cell_type": "code",
   "execution_count": 12,
   "metadata": {
    "collapsed": false,
    "solution": "Exercise 12 sort"
   },
   "outputs": [
    {
     "name": "stdout",
     "output_type": "stream",
     "text": [
      "Finding tests in NoName\n",
      "Trying:\n",
      "    sort_by_last_letter(['chicken','butt','Im','a'])\n",
      "Expecting:\n",
      "    ['a', 'Im', 'chicken', 'butt']\n",
      "ok\n",
      "Trying:\n",
      "    sort_by_last_letter([])\n",
      "Expecting:\n",
      "    []\n",
      "ok\n",
      "Trying:\n",
      "    sort_by_last_letter(['chicken','butt','bun','a'])\n",
      "Expecting:\n",
      "    ['a', 'bun', 'chicken', 'butt']\n",
      "ok\n"
     ]
    }
   ],
   "source": [
    "def sort_by_last_letter(wordlist):\n",
    "        \n",
    "        \"\"\"\n",
    "        This method utilizes DSU to sort words by the last letter. Doctesting with the stuffs.\n",
    "        \n",
    "        >>> sort_by_last_letter(['chicken','butt','Im','a'])\n",
    "        ['a', 'Im', 'chicken', 'butt']\n",
    "        >>> sort_by_last_letter([])\n",
    "        []\n",
    "        >>> sort_by_last_letter(['chicken','butt','bun','a'])\n",
    "        ['a', 'bun', 'chicken', 'butt']\n",
    "        \"\"\"\n",
    "        t = []\n",
    "        for word in wordlist:\n",
    "            t.append((word[-1],word))\n",
    "        \n",
    "        t.sort()\n",
    "        \n",
    "        result = []\n",
    "        for lastletter, word in t:\n",
    "            result.append(word)\n",
    "        return result\n",
    "    \n",
    "doctest.run_docstring_examples(sort_by_last_letter,globals(), verbose=True)    "
   ]
  },
  {
   "cell_type": "markdown",
   "metadata": {},
   "source": [
    "**Quick check** Give an example of when you might use each sequence type:\n",
    "\n",
    "- tuple\n",
    "\n",
    "- list\n",
    "\n",
    "- string"
   ]
  },
  {
   "cell_type": "markdown",
   "metadata": {},
   "source": [
    "A tuple would be used in some contexts where perhaps a return statement is being used, or when you want to have a multiple valued key in a dictionary, or when you're passing arguments to a function.\n",
    "\n",
    "A list would be used for when things need to be mutable. They can be changed and can be used to serve the needs of modification.\n",
    "\n",
    "A string would be most useful when you're dealing mainly with characters and immutability is a thing."
   ]
  },
  {
   "cell_type": "markdown",
   "metadata": {
    "is_question": true,
    "problem": "Exercise 12.3"
   },
   "source": [
    "### Exercise 3  \n",
    "\n",
    "Write a function called `most_frequent` that takes a string and prints the letters in decreasing order of frequency. Find text samples from several different languages and see how letter frequency varies between languages. Compare your results with the tables at http://en.wikipedia.org/wiki/Letter_frequencies. \n",
    "\n",
    "Allen's solution (try it on your own first): http://thinkpython.com/code/most_frequent.py. "
   ]
  },
  {
   "cell_type": "code",
   "execution_count": 36,
   "metadata": {
    "collapsed": false,
    "solution": "Exercise 12.3"
   },
   "outputs": [
    {
     "name": "stdout",
     "output_type": "stream",
     "text": [
      "Finding tests in NoName\n",
      "Trying:\n",
      "    most_frequent('Im a chicken')\n",
      "Expecting:\n",
      "    i c n m k h e a\n",
      "ok\n",
      "Trying:\n",
      "    most_frequent('')\n",
      "Expecting nothing\n",
      "ok\n",
      "Trying:\n",
      "    most_frequent('abcdefg')\n",
      "Expecting:\n",
      "    g f e d c b a\n",
      "ok\n",
      "\n",
      "i n c a t m k h g e \n",
      "n i e h u s r m \n",
      "o n l i g u t p m e a \n",
      "u t n � � p o m l i g e a\n"
     ]
    }
   ],
   "source": [
    "def most_frequent(string):\n",
    "    \"\"\"\n",
    "    This method sorts a string by decreasing order of frequency. It uses both DSU and the get method.\n",
    "    One thing I found I couldn't stop is that if the frequencies are the same, then it will still display the letters in reverse order\n",
    "    \n",
    "    In any case, here are some doctests to show functionality, bigger strings got too complicated to try and figure out.\n",
    "    \n",
    "    >>> most_frequent('Im a chicken')\n",
    "    i c n m k h e a\n",
    "    >>> most_frequent('')\n",
    "    \n",
    "    >>> most_frequent('abcdefg')\n",
    "    g f e d c b a\n",
    "    \"\"\"\n",
    "    string1 = string.replace(\" \", \"\").lower()\n",
    "    d = {}\n",
    "    for letter in string1:\n",
    "        d[letter] = d.get(letter,0) + 1\n",
    "    t = []\n",
    "    for letter in d:\n",
    "        t.append((d[letter],letter))\n",
    "    t.sort(reverse=True)\n",
    "    for freq, letter in t:\n",
    "        print letter,\n",
    "        \n",
    "import doctest   \n",
    "doctest.run_docstring_examples(most_frequent, globals(),verbose=True)\n",
    "\n",
    "print \"\"\n",
    "\n",
    "most_frequent(\"Im a giant chicken\")\n",
    "print \"\"\n",
    "most_frequent('im ein RiesenHuhn') #German\n",
    "print \"\"\n",
    "most_frequent('im un pollo gigante') #Spanish\n",
    "print \"\"\n",
    "most_frequent(\"im un poulet géant\") #French,  IDK what to do when letters get weird."
   ]
  },
  {
   "cell_type": "markdown",
   "metadata": {
    "is_question": true,
    "problem": "Exercise 12.6"
   },
   "source": [
    "### Challenge: Exercise 6   (optional)\n",
    "\n",
    "From a [Car Talk Puzzler](http://www.cartalk.com/content/puzzlers):\n",
    "\n",
    "What is the longest English word, that remains a valid English word, as you remove its letters one at a time?\n",
    "\n",
    "Now, letters can be removed from either end, or the middle, but you can’t rearrange any of the letters. Every time you drop a letter, you wind up with another English word. If you do that, you’re eventually going to wind up with one letter and that too is going to be an English word—one that’s found in the dictionary. I want to know what’s the longest word and how many letters does it have?\n",
    "\n",
    "I’m going to give you a little modest example: Sprite. Ok? You start off with sprite, you take a letter off, one from the interior of the word, take the r away, and we’re left with the word spite, then we take the e off the end, we’re left with spit, we take the s off, we’re left with pit, it, and I. \n",
    "\n",
    "Write a program to find all words that can be reduced in this way, and then find the longest one.\n",
    "\n",
    "This exercise is a little more challenging than most, so here are some suggestions:\n",
    "\n",
    "- You might want to write a function that takes a word and computes a list of all the words that can be formed by removing one letter. These are the “children” of the word.\n",
    "- Recursively, a word is reducible if any of its children are reducible. As a base case, you can consider the empty string reducible.\n",
    "- The word list from [Chapter 9.1](http://www.greenteapress.com/thinkpython/html/thinkpython010.html) Exercise 1 doesn’t contain single letter words. So you might want to add “I”, “a”, and the empty string.\n",
    "- To improve the performance of your program, you might want to memoize the words that are known to be reducible.\n",
    "\n",
    "Allen's solution: http://thinkpython.com/code/reducible.py."
   ]
  },
  {
   "cell_type": "code",
   "execution_count": 3,
   "metadata": {
    "collapsed": false,
    "solution": "Exercise 12.6"
   },
   "outputs": [
    {
     "name": "stdout",
     "output_type": "stream",
     "text": [
      "I'm sad because I didn't have the time to complete this code :(\n"
     ]
    }
   ],
   "source": [
    "fin = open('words.txt')\n",
    "wordlist = []\n",
    "for line in fin:\n",
    "    word = line.strip()\n",
    "    wordlist.append(word)\n",
    "    \n",
    "    \n",
    "     \n",
    "def is_reducible(word):\n",
    "    if word == '':\n",
    "        return True\n",
    "    elif word in wordlist:\n",
    "        for i in range(len(word)):\n",
    "            word.replace(word[i],\"\")\n",
    "            return is_reducible(word)\n",
    "    else:\n",
    "        return False\n",
    "    \n",
    "def longest_word():\n",
    "    longestword = \"\"\n",
    "    max_length = 0\n",
    "    for word in wordlist:\n",
    "        if is_reducible(word) and len(word)>max_length:\n",
    "            longestword = word\n",
    "    return word  \n",
    "\n",
    "print \"I'm sad because I didn't have the time to complete this code :(\"\n",
    "longest_word() # So after my code just completely broke jupyter notebook, and I lost the last 15 minutes of my work,\n",
    "#I decided not to continue to bash my head against this problem, as I know how to do it, I just don't have\n",
    "#the time to implement and debug it, and also risk losing my work in the process. I did read Allen's solution as well,\n",
    "#so I understand how it works.\n",
    "            "
   ]
  },
  {
   "cell_type": "code",
   "execution_count": 1,
   "metadata": {
    "collapsed": false
   },
   "outputs": [
    {
     "name": "stdout",
     "output_type": "stream",
     "text": [
      "complecting completing competing compting comping coping oping ping pig pi i \n",
      "\n",
      "twitchiest witchiest withiest withies withes wites wits its is i \n",
      "\n",
      "stranglers strangers stranger strange strang stang tang tag ta a \n",
      "\n",
      "staunchest stanchest stanches stances stanes sanes anes ane ae a \n",
      "\n",
      "restarting restating estating stating sating sting ting tin in i \n",
      "\n"
     ]
    }
   ],
   "source": [
    "def make_word_dict():\n",
    "    \"\"\"Reads the words in words.txt and returns a dictionary\n",
    "    that contains the words as keys.\"\"\"\n",
    "    d = dict()\n",
    "    fin = open('words.txt')\n",
    "    for line in fin:\n",
    "        word = line.strip().lower()\n",
    "        d[word] = word\n",
    "\n",
    "    # have to add single letter words to the word list;\n",
    "    # also, the empty string is considered a word.\n",
    "    for letter in ['a', 'i', '']:\n",
    "        d[letter] = letter\n",
    "    return d\n",
    "\n",
    "\n",
    "\"\"\"memo is a dictionary that maps from each word that is known\n",
    "to be reducible to a list of its reducible children.  It starts\n",
    "with the empty string.\"\"\"\n",
    "\n",
    "memo = {}\n",
    "memo[''] = ['']\n",
    "\n",
    "\n",
    "def is_reducible(word, word_dict):\n",
    "    \"\"\"If word is reducible, returns a list of its reducible children.\n",
    "\n",
    "    Also adds an entry to the memo dictionary.\n",
    "\n",
    "    A string is reducible if it has at least one child that is \n",
    "    reducible.  The empty string is also reducible.\n",
    "\n",
    "    word: string\n",
    "    word_dict: dictionary with words as keys\n",
    "    \"\"\"\n",
    "     # if have already checked this word, return the answer\n",
    "    if word in memo:\n",
    "        return memo[word]\n",
    "\n",
    "    # check each of the children and make a list of the reducible ones\n",
    "    res = []\n",
    "    for child in children(word, word_dict):\n",
    "        t = is_reducible(child, word_dict)\n",
    "        if t:\n",
    "            res.append(child)\n",
    "\n",
    "    # memoize and return the result\n",
    "    memo[word] = res\n",
    "    return res\n",
    "\n",
    "\n",
    "def children(word, word_dict):\n",
    "    \"\"\"Returns a list of all words that can be formed by removing one letter.\n",
    "\n",
    "    word: string\n",
    "\n",
    "    Returns: list of strings\n",
    "    \"\"\"\n",
    "    res = []\n",
    "    for i in range(len(word)):\n",
    "        child = word[:i] + word[i+1:]\n",
    "        if child in word_dict:\n",
    "            res.append(child)\n",
    "    return res\n",
    "\n",
    "\n",
    "def all_reducible(word_dict):\n",
    "    \"\"\"Checks all words in the word_dict; returns a list reducible ones.\n",
    "\n",
    "    word_dict: dictionary with words as keys\n",
    "    \"\"\"\n",
    "    res = []\n",
    "    for word in word_dict:\n",
    "        t = is_reducible(word, word_dict)\n",
    "        if t != []:\n",
    "            res.append(word)\n",
    "    return res\n",
    "\n",
    "\n",
    "def print_trail(word):\n",
    "    \"\"\"Prints the sequence of words that reduces this word to the empty string.\n",
    "\n",
    "    If there is more than one choice, it chooses the first.\n",
    "\n",
    "    word: string\n",
    "    \"\"\"\n",
    "    if len(word) == 0:\n",
    "        return\n",
    "    print word,\n",
    "    t = is_reducible(word, word_dict)\n",
    "    print_trail(t[0])\n",
    "\n",
    "\n",
    "def print_longest_words(word_dict):\n",
    "    words = all_reducible(word_dict)\n",
    "\n",
    "    # use DSU to sort by word length\n",
    "    t = []\n",
    "    for word in words:\n",
    "        t.append((len(word), word))\n",
    "    t.sort(reverse=True)\n",
    "\n",
    "    # print the longest 5 words\n",
    "    for length, word in t[0:5]:\n",
    "        print_trail(word)\n",
    "        print '\\n'\n",
    "\n",
    "\n",
    "if __name__ == '__main__':\n",
    "    word_dict = make_word_dict()\n",
    "    print_longest_words(word_dict)"
   ]
  },
  {
   "cell_type": "markdown",
   "metadata": {
    "is_question": true,
    "problem": "Feedback"
   },
   "source": [
    "## Reading Journal feedback\n",
    "\n",
    "Have any comments on this Reading Journal? Feel free to leave them below and we'll read them when you submit your journal entry. This could include suggestions to improve the exercises, topics you'd like to see covered in class next time, or other feedback.\n",
    "\n",
    "If you have Python questions or run into problems while completing the reading, you should post them to Piazza instead so you can get a quick response before your journal is submitted."
   ]
  },
  {
   "cell_type": "markdown",
   "metadata": {
    "feedback_response": true,
    "solution": "Feedback"
   },
   "source": [
    "The last problem was ridiculous, and while I get how to do it, I just couldn't implement it due to the fact that the complexity of the code akin to that of a mini project's worth of code which I don't have the time to do (as shown by Allen Downey). Not sure if it's the best thing to put in an exercise. "
   ]
  }
 ],
 "metadata": {
  "celltoolbar": "Edit Metadata",
  "kernelspec": {
   "display_name": "Python 2",
   "language": "python",
   "name": "python2"
  },
  "language_info": {
   "codemirror_mode": {
    "name": "ipython",
    "version": 2
   },
   "file_extension": ".py",
   "mimetype": "text/x-python",
   "name": "python",
   "nbconvert_exporter": "python",
   "pygments_lexer": "ipython2",
   "version": "2.7.6"
  }
 },
 "nbformat": 4,
 "nbformat_minor": 0
}
