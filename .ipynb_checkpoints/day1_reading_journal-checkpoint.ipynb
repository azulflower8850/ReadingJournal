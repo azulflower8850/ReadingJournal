{
 "cells": [
  {
   "cell_type": "markdown",
   "metadata": {},
   "source": [
    "# Day 1 Reading Journal\n",
    "\n",
    "Hi everyone.  These are the exercises for the first set of readings from ThinkPython.  While this journal consists of several required exercises, it is meant to encourage active reading more generally.  You should use this journal to take detailed notes, catalog questions, and explore the content from ThinkPython deeply.\n",
    "\n",
    "For more information on using the Jupyter notebook, check out the documentation [here](http://nbviewer.jupyter.org/github/jupyter/notebook/blob/master/docs/source/examples/Notebook/Examples%20and%20Tutorials%20Index.ipynb).  Additionally, in order to write text in this document, you will be making use of markdown cells. A handy cheatsheet for markdown is available [here](https://github.com/adam-p/markdown-here/wiki/Markdown-Cheatsheet)."
   ]
  },
  {
   "cell_type": "markdown",
   "metadata": {},
   "source": [
    "Hi There this is a test."
   ]
  },
  {
   "cell_type": "markdown",
   "metadata": {},
   "source": [
    "## Chapter 1\n",
    "\n",
    "Note: the exercise numbers below match up with the reading for ease of cross referencing."
   ]
  },
  {
   "cell_type": "markdown",
   "metadata": {},
   "source": [
    "Python is a high-level language, such as C, C++, Perl, and Java. They have to be processed before they can run. \n",
    "\n",
    "Low-level languages are referred to as machine languages or assemble languages. Computers run low-level languages directly.\n",
    "\n",
    "Advantages of High-Level: Easier to program, less time to write, easier to read. Portable-run on different kinds of computers with few or no modifications. Low-level is not portable.\n",
    "\n",
    "Two kinds of program process high-level:\n",
    "1. Interpreters- reads high-level and executes it; processes it a little at a time, alternatively reading and computing.\n",
    "2. Compiler- reads high-level program and translates it before running it. Source code is translated to object code or excecutable. Once compiled, can execute repeatedly without re-translation.\n",
    "\n",
    "Python- interpreted language. Twos ways:\n",
    "1. Interactive mode - type python, interpreters displays result. Good for a few lines of code.\n",
    "2. Script mode - store code in a file and interpreter executes content of file. Better for big programs.\n",
    "\n",
    "Program - sequence of instructions that specific how to perform a computation. Can be mathematical, searching, replacing\n",
    "\n",
    "Key instructions in every language:\n",
    "1. input: get data\n",
    "2. otput: display data\n",
    "3. math: compute stuff\n",
    "4. conditonal execution: check conditions\n",
    "5. repetition: perform repeats\n",
    "\n",
    "Bugs -  programming errors\n",
    "Debugging - tracking them down\n",
    "\n",
    "Three types of errors\n",
    "1. Syntax errors -  structure error or rule error of program. There can't be a single syntax for python to run\n",
    "2. Runtime errors - error doesn't appear until after program starts running. Also called exceptions.\n",
    "3. Semantic error - Will run fine, but not do the right thing you wanted. Must work backwards, most tricky to find.\n",
    "\n",
    "Natural languages - languages people speak, not deisgned by people\n",
    "Formal languages - languages designed by people for specific application. Programming languages are formal, designed to express computations. Strict syntax.\n",
    "\n",
    "Syntax rules, two flavors:\n",
    "1. Tokens - basic elements of a languages, like words, numbers.\n",
    "2. Structure - the way the tokens are arranged.\n",
    "\n",
    "Parsing - figuring out what the structure of the sentence is.\n",
    "\n",
    "Difference between Formal and Natural: \n",
    "1. Ambiguity - natural languages full of it, formal languages meant to be completely unambiguous.\n",
    "2. Redundancy - natural has a lot, formal less so and more concise\n",
    "3. literalness - natural full of idioms and metaphors, formal mean exactly what they say.\n",
    "\n",
    "Programs - meaning of a program is unambiguous, and literal, and can be understood entirely by analysis of the tokens and structure.\n",
    "\n",
    "Debugging is important, think of computers with certain strengths weaknesses, be a good managers.\n"
   ]
  },
  {
   "cell_type": "markdown",
   "metadata": {},
   "source": [
    "### Exercise 3\n",
    "\n",
    "Type `help()` to start the online help utility. Or you can type help('print') to get information about the print statement.  You should type `q` and then hit `enter` in the text box to exit the help utility. \n",
    "\n",
    "Note: this exercise is pretty simple (and there's not much to put in the box)!  We just want to make sure that you have tried out this super-handy feature of Python!"
   ]
  },
  {
   "cell_type": "code",
   "execution_count": 1,
   "metadata": {
    "collapsed": false
   },
   "outputs": [
    {
     "name": "stdout",
     "output_type": "stream",
     "text": [
      "\n",
      "Welcome to Python 2.7!  This is the online help utility.\n",
      "\n",
      "If this is your first time using Python, you should definitely check out\n",
      "the tutorial on the Internet at http://docs.python.org/2.7/tutorial/.\n",
      "\n",
      "Enter the name of any module, keyword, or topic to get help on writing\n",
      "Python programs and using Python modules.  To quit this help utility and\n",
      "return to the interpreter, just type \"quit\".\n",
      "\n",
      "To get a list of available modules, keywords, or topics, type \"modules\",\n",
      "\"keywords\", or \"topics\".  Each module also comes with a one-line summary\n",
      "of what it does; to list the modules whose summaries contain a given word\n",
      "such as \"spam\", type \"modules spam\".\n",
      "\n",
      "help> q\n",
      "\n",
      "You are now leaving help and returning to the Python interpreter.\n",
      "If you want to ask for help on a particular object directly from the\n",
      "interpreter, you can type \"help(object)\".  Executing \"help('string')\"\n",
      "has the same effect as typing a particular string at the help> prompt.\n"
     ]
    }
   ],
   "source": [
    "help()"
   ]
  },
  {
   "cell_type": "markdown",
   "metadata": {},
   "source": [
    "### Exercise 4  \n",
    "\n",
    "Start the Python interpreter and use it as a calculator. Python’s syntax for math operations is almost the same as standard mathematical notation. For example, the symbols +, - and / denote addition, subtraction and division, as you would expect. The symbol for multiplication is *.\n",
    "\n",
    "If you run a 10 kilometer race in 43 minutes 30 seconds, what is your average time per mile? What is your average speed in miles per hour? (Hint: there are 1.61 kilometers in a mile). "
   ]
  },
  {
   "cell_type": "code",
   "execution_count": 7,
   "metadata": {
    "collapsed": false
   },
   "outputs": [
    {
     "name": "stdout",
     "output_type": "stream",
     "text": [
      "420.21\n",
      "8.56714499893\n"
     ]
    }
   ],
   "source": [
    "print (43*60+30)/(10/1.61)\n",
    "print (10/1.61)/(43*60+30)*3600"
   ]
  },
  {
   "cell_type": "markdown",
   "metadata": {},
   "source": [
    "## Chapter 2"
   ]
  },
  {
   "cell_type": "markdown",
   "metadata": {},
   "source": [
    "value - basic thing like letter or number. different types:\n",
    "1. string - letters (str)\n",
    "2. integers - numbers (int)\n",
    "3. decimals - fractions (float)\n",
    "\n",
    "Strings are put in quotations\n",
    "Numbers do have commas in between\n",
    "\n",
    "Variables - name that refers to a value\n",
    "Assignment statement - creates new variables and gives them values;\n",
    "Ex. n=17\n",
    "\n",
    "Names for Variables should be meaningful. Good documentation\n",
    "Rules for Names:\n",
    "1. Must start with a letter, best to begin with lowercase\n",
    "2. underscore char is allowed\n",
    "3. illegal name is syntax error\n",
    "4. cannot have keywords\n",
    "\n",
    "Operators are special symbols that represent computations like add or multiply. The values that the operator is applied to are operands.\n",
    "\n",
    "** is exponentiation, not ^\n",
    "\n",
    "Expression is a combination of values, variables, or operators. A alue all by itself is considered an expression, so is a variable.\n",
    "Ex. 17, x, x+17\n",
    "\n",
    "Statement is a unit of code that Python interpreter can execute, like print and assignment.\n",
    "\n",
    "An expression has a value, a statement does not.\n",
    "\n",
    "interpreter functions a bit differently than script mode. expressions display in interpreter, but not in script. In script, results appear one at a time as statements execute.\n",
    "\n",
    "Order of operations:\n",
    "Parenthesis\n",
    "Exponentation\n",
    "Multiplication and \n",
    "Division\n",
    "Addition and\n",
    "Subtraction\n",
    "\n",
    "Operators on same precedence done left to right.\n",
    "\n",
    "String concatenation = +\n",
    "String repetition = *\n",
    "\n",
    "Comments - notes in programs in natural languages\n",
    "Use the # symbol\n",
    "Should be used to explain why\n",
    "\n",
    "Runtime error - most common, \"use before def\", trying to use a variable before it's assigned a value.\n",
    "\n",
    "Semantic error - order of operations"
   ]
  },
  {
   "cell_type": "markdown",
   "metadata": {},
   "source": [
    "### Exercise 2  \n",
    "\n",
    "Assume that we execute the following assignment statements:\n",
    "\n",
    "width = 17\n",
    "height = 12.0\n",
    "delimiter = '.'\n",
    "\n",
    "For each of the following expressions, write the value of the expression and the type (of the value of the expression).\n",
    "\n",
    "1. `width/2`\n",
    "2. `width/2.0`\n",
    "3. `height/3`\n",
    "4. `1 + 2 * 5`\n",
    "5. `delimiter * 5`\n",
    "\n",
    "Please use the following markdown cell to provide your answer."
   ]
  },
  {
   "cell_type": "code",
   "execution_count": 12,
   "metadata": {
    "collapsed": false
   },
   "outputs": [
    {
     "name": "stdout",
     "output_type": "stream",
     "text": [
      "8\n",
      "8.5\n",
      "4.0\n",
      "11\n",
      ".....\n"
     ]
    }
   ],
   "source": [
    "print 17/2\n",
    "print 17/2.0\n",
    "print 12.0/3\n",
    "print 1+2*5\n",
    "print '.'*5"
   ]
  },
  {
   "cell_type": "markdown",
   "metadata": {},
   "source": [
    "#This was done first, the above was used to check\n",
    "1. 8\n",
    "2. 8.5\n",
    "3. 4.0\n",
    "4. 11\n",
    "5. ....."
   ]
  },
  {
   "cell_type": "markdown",
   "metadata": {},
   "source": [
    "### Exercise 3  \n",
    "\n",
    "Practice using the Python interpreter as a calculator.  For each of these provide Python code that computes each answer.\n",
    "\n",
    "    \n"
   ]
  },
  {
   "cell_type": "markdown",
   "metadata": {},
   "source": [
    "The volume of a sphere with radius r is 4/3 $\\pi r^3$. What is the volume of a sphere with radius 5? Hint: 392.7 is wrong!"
   ]
  },
  {
   "cell_type": "code",
   "execution_count": 15,
   "metadata": {
    "collapsed": false
   },
   "outputs": [
    {
     "name": "stdout",
     "output_type": "stream",
     "text": [
      "523.598775\n"
     ]
    }
   ],
   "source": [
    "radius = 5\n",
    "pi = 3.14159265\n",
    "print radius**3*pi*4/3"
   ]
  },
  {
   "cell_type": "markdown",
   "metadata": {},
   "source": [
    "Suppose the cover price of a book is \\$24.95, but bookstores get a 40% discount. Shipping costs \\$3 for the first copy and 75 cents for each additional copy. What is the total wholesale cost for 60 copies?"
   ]
  },
  {
   "cell_type": "code",
   "execution_count": 19,
   "metadata": {
    "collapsed": false
   },
   "outputs": [
    {
     "name": "stdout",
     "output_type": "stream",
     "text": [
      "945.45\n"
     ]
    }
   ],
   "source": [
    "cover = 24.95\n",
    "bookstore = cover*.6\n",
    "copies = 60\n",
    "shipping = 3+.75*(copies-1)\n",
    "\n",
    "print bookstore*60+shipping"
   ]
  },
  {
   "cell_type": "markdown",
   "metadata": {},
   "source": [
    "If I leave my house at 6:52 am and run 1 mile at an easy pace (8:15 per mile), then 3 miles at tempo (7:12 per mile) and 1 mile at easy pace again, what time do I get home for breakfast? "
   ]
  },
  {
   "cell_type": "code",
   "execution_count": 22,
   "metadata": {
    "collapsed": false
   },
   "outputs": [
    {
     "name": "stdout",
     "output_type": "stream",
     "text": [
      "final time is \n",
      "7\n",
      "hours\n",
      "30\n",
      "minutes\n",
      "6\n",
      "seconds\n"
     ]
    }
   ],
   "source": [
    "starthour = 6\n",
    "startmin = 52\n",
    "\n",
    "firstmin = 8\n",
    "firstsec = 15\n",
    "secondmin = 7*3\n",
    "secondsec = 12*3\n",
    "thirdmin = 8\n",
    "thirdsec = 15\n",
    "\n",
    "finishhour = 6+(52+firstmin+secondmin+thirdmin)/60\n",
    "finishmin = (52+firstmin+secondmin+thirdmin)%60+(firstsec+secondsec+thirdsec)/60\n",
    "finishsec = (firstsec+secondsec+thirdsec)%60\n",
    "\n",
    "print \"final time is \" \n",
    "print finishhour\n",
    "print \"hours\"\n",
    "print finishmin\n",
    "print \"minutes\"\n",
    "print finishsec\n",
    "print \"seconds\""
   ]
  },
  {
   "cell_type": "markdown",
   "metadata": {},
   "source": [
    "## Chapter 3"
   ]
  },
  {
   "cell_type": "markdown",
   "metadata": {},
   "source": [
    "Function is a named sequance of statements that performs a computation. Must specify the name and the sequence of statements. Later, you can call\n",
    "\n",
    "expression in parenthesis is the argument\n",
    "result of a function is a return value, if it returns something\n",
    "\n",
    "Python built-in function:\n",
    "1. int function - takes any value and converts to integer, converts floats to integers, but truncates decimal\n",
    "2. float function - converts integers and strings to floating point\n",
    "3. str function - converts argument to a string\n",
    "\n",
    "module is a file that contains a collection of related functions\n",
    "\n",
    "Python Math module is nice to have\n",
    "\n",
    "Modules must be imported with \"import\", which creates a module object, print object get some info\n",
    "\n",
    "module object contains functions and variables defined in the module. To access, specify the name of the module and the name of the function, separated by a dot. Dot Notation\n",
    "\n",
    "Composition - the ability to take small building blocks and compose them\n",
    "\n",
    "Make new functions! Function definition - specificies the name of a new function and the sequence of statements that execute when the function is called.\n",
    "\n",
    "\"def\" is the keyword for function definition. Rules for function names same as variable names.\n",
    "\n",
    "First line of function definition is the header, the rest if called the body. Header has to end with a colon and the body has to be indented. Indentation is always 4 spaces.\n",
    "\n",
    "Double and single quotes are the same thing, except when an apostrophe is used in a line.\n",
    "\n",
    "Defining a function creates a variable with the same name. The function is a function object, which has type \"function\".\n",
    "print print_lyrics\n",
    "<function print_lyrics at 0xb7e99e9c>\n",
    "type(print_lyrics)\n",
    "<type 'function'>\n",
    "\n",
    "Once you have defined  function can use it inside another function. Function definitions get executed just like other statements, but the effect is to create function objects. The statements inside the function do not get executed until the function is called, and the function definition generates no output.\n",
    "\n",
    "Flow of execution - the order in which statements are executed. Ensures that a function is defined before its first use.\n",
    "1. Execution always begins at the first statement of the program. Statements executed one at a time, top to bottom.\n",
    "2. Function definitions do not alter the flow of execution, but the statemtns inside are not called until the function is called.\n",
    "3. Function call is like a detour in the flow. Goes to the function segment, executes all statements in function, then returns to original flow.\n",
    "\n",
    "Inside a function, arguments are assigned to variables called parameters. Same rules of composition apply to user-defined functions, so we can use any kind of expression as arguments. Arguments are evaluated before the function is called.\n",
    "\n",
    "Variables inside functions are local, only inside the function.\n",
    "\n",
    "Stack diagrams - show the value of each variable, but also show the function each vairable belongs to, to keep track of which variables can be used where.\n",
    "\n",
    "Each function represented by a frame - a box with the name of a function beside it and the parameters and variables of the functions inside it.\n",
    "\n",
    "If an error occurs during a function call, Python prints the name of the function, and the name of the function that called that, all the way back to __main__\n",
    "\n",
    "This list of function is called  a traceback. Tells you what program file, what line, and what functions were executing at the time of an error. Also show line of code. For traceback, function that is currently running is at the bottom.\n",
    "\n",
    "Two types of functions:\n",
    "1. Fruitful - yield results, return something\n",
    "2. Void - perform an acftion but don't return a value\n",
    "\n",
    "Fruitful function should be called with the intention of doing something with the result, otherwise the result is just lost.\n",
    "\n",
    "Voids don't return anything, when assigned to a variable, None is returned.\n",
    "\n",
    "Reasons for using Functions:\n",
    "1. New functions allows for naming a group of statements, easier to read\n",
    "2. Functions make programs smaller by eliminating repetitive code.\n",
    "3. Dividing a long program into functions allows debugging parts one at a time\n",
    "4. Good functions can be used for many programs.\n",
    "\n",
    "\n",
    "Importing with \"from\" instead of \"import\":\n",
    "from math import pi\n",
    "\n",
    "Now you can access pi directly with dot notation.\n",
    "Or:\n",
    "from math import *\n",
    "everything and access it all directly.\n",
    "\n",
    "Code is more concise, but may become confusing\n",
    "\n",
    "Tabbing and spacing is tricky with syntax in text editors, hard to debug because they're invisible.\n",
    "\n",
    "Save program before running, make sure the code you're looking at is the code you're running.\n",
    "\n"
   ]
  },
  {
   "cell_type": "markdown",
   "metadata": {},
   "source": [
    "### Exercise 3\n",
    "\n",
    "Python provides a built-in function called len that returns the length of a string, so the value of len('allen') is 5.\n",
    "Write a function named right_justify that takes a string named s as a parameter and prints the string with enough leading spaces so that the last letter of the string is in column 70 of the display.\n",
    "\n",
    "```\n",
    ">>> right_justify('allen')\n",
    "                                                                 allen```"
   ]
  },
  {
   "cell_type": "code",
   "execution_count": 63,
   "metadata": {
    "collapsed": false
   },
   "outputs": [
    {
     "name": "stdout",
     "output_type": "stream",
     "text": [
      "                                                                   chicken\n"
     ]
    }
   ],
   "source": [
    "def right_justify(s):\n",
    "    print \"                                                                   \" + s\n",
    "    \n",
    "right_justify(\"chicken\")    "
   ]
  },
  {
   "cell_type": "markdown",
   "metadata": {},
   "source": [
    "### Exercise 5\n",
    "\n",
    "This exercise can be done using only the statements and other features we have learned so far.\n",
    "\n",
    "(a) Write a function that draws a grid like the following:\n",
    "```\n",
    "+ - - - - + - - - - +\n",
    "|         |         |\n",
    "|         |         |\n",
    "|         |         |\n",
    "|         |         |\n",
    "+ - - - - + - - - - +\n",
    "|         |         |\n",
    "|         |         |\n",
    "|         |         |\n",
    "|         |         |\n",
    "+ - - - - + - - - - +\n",
    "```\n",
    "**Hint:** to print more than one value on a line, you can print a comma-separated sequence:\n",
    "print '+', '-'\n",
    "If the sequence ends with a comma, Python leaves the line unfinished, so the value printed next appears on the same line.\n",
    "print '+', \n",
    "print '-'\n",
    "The output of these statements is '+ -'.\n",
    "A print statement all by itself ends the current line and goes to the next line."
   ]
  },
  {
   "cell_type": "code",
   "execution_count": 42,
   "metadata": {
    "collapsed": false
   },
   "outputs": [
    {
     "name": "stdout",
     "output_type": "stream",
     "text": [
      "+ -\n"
     ]
    }
   ],
   "source": [
    "print '+', '-' "
   ]
  },
  {
   "cell_type": "code",
   "execution_count": 40,
   "metadata": {
    "collapsed": false
   },
   "outputs": [
    {
     "ename": "SyntaxError",
     "evalue": "invalid syntax (<ipython-input-40-09ccea45849d>, line 1)",
     "output_type": "error",
     "traceback": [
      "\u001b[1;36m  File \u001b[1;32m\"<ipython-input-40-09ccea45849d>\"\u001b[1;36m, line \u001b[1;32m1\u001b[0m\n\u001b[1;33m    print '+', print '-'\u001b[0m\n\u001b[1;37m                   ^\u001b[0m\n\u001b[1;31mSyntaxError\u001b[0m\u001b[1;31m:\u001b[0m invalid syntax\n"
     ]
    }
   ],
   "source": [
    "print '+', print '-' "
   ]
  },
  {
   "cell_type": "code",
   "execution_count": 39,
   "metadata": {
    "collapsed": false
   },
   "outputs": [
    {
     "name": "stdout",
     "output_type": "stream",
     "text": [
      "+ - - - - + - - - - +\n",
      "|         |         |\n",
      "|         |         |\n",
      "|         |         |\n",
      "|         |         |\n",
      "+ - - - - + - - - - +\n",
      "|         |         |\n",
      "|         |         |\n",
      "|         |         |\n",
      "|         |         |\n",
      "+ - - - - + - - - - +\n"
     ]
    }
   ],
   "source": [
    "#I feel that the comma method is really slow, so I'm going to use a different\n",
    "#method that accomplishes the same thing with the statements we know.\n",
    "def drawGrid():\n",
    "    print '+ - - - - + - - - - +'\n",
    "    print '|         |         |'\n",
    "    print '|         |         |'\n",
    "    print '|         |         |'\n",
    "    print '|         |         |'\n",
    "    print '+ - - - - + - - - - +'\n",
    "    print '|         |         |'\n",
    "    print '|         |         |'\n",
    "    print '|         |         |'\n",
    "    print '|         |         |'\n",
    "    print '+ - - - - + - - - - +'\n",
    "    \n",
    "drawGrid()    "
   ]
  },
  {
   "cell_type": "markdown",
   "metadata": {},
   "source": [
    "(b) Write a function that draws a similar grid with four rows and four columns."
   ]
  },
  {
   "cell_type": "code",
   "execution_count": 41,
   "metadata": {
    "collapsed": false
   },
   "outputs": [
    {
     "name": "stdout",
     "output_type": "stream",
     "text": [
      "+ - - - - + - - - - + - - - - + - - - - +\n",
      "|         |         |         |         |\n",
      "|         |         |         |         |\n",
      "|         |         |         |         |\n",
      "|         |         |         |         |\n",
      "+ - - - - + - - - - + - - - - + - - - - +\n",
      "|         |         |         |         |\n",
      "|         |         |         |         |\n",
      "|         |         |         |         |\n",
      "|         |         |         |         |\n",
      "+ - - - - + - - - - + - - - - + - - - - +\n",
      "|         |         |         |         |\n",
      "|         |         |         |         |\n",
      "|         |         |         |         |\n",
      "|         |         |         |         |\n",
      "+ - - - - + - - - - + - - - - + - - - - +\n",
      "|         |         |         |         |\n",
      "|         |         |         |         |\n",
      "|         |         |         |         |\n",
      "|         |         |         |         |\n",
      "+ - - - - + - - - - + - - - - + - - - - +\n"
     ]
    }
   ],
   "source": [
    "#Wish I could use a for loop :(\n",
    "def drawGrid():\n",
    "    print '+ - - - - + - - - - + - - - - + - - - - +'\n",
    "    print '|         |         |         |         |'\n",
    "    print '|         |         |         |         |'\n",
    "    print '|         |         |         |         |'\n",
    "    print '|         |         |         |         |'\n",
    "    print '+ - - - - + - - - - + - - - - + - - - - +'   \n",
    "    print '|         |         |         |         |'\n",
    "    print '|         |         |         |         |'\n",
    "    print '|         |         |         |         |'\n",
    "    print '|         |         |         |         |'\n",
    "    print '+ - - - - + - - - - + - - - - + - - - - +'\n",
    "    print '|         |         |         |         |'\n",
    "    print '|         |         |         |         |'\n",
    "    print '|         |         |         |         |'\n",
    "    print '|         |         |         |         |'\n",
    "    print '+ - - - - + - - - - + - - - - + - - - - +'\n",
    "    print '|         |         |         |         |'\n",
    "    print '|         |         |         |         |'\n",
    "    print '|         |         |         |         |'\n",
    "    print '|         |         |         |         |'\n",
    "    print '+ - - - - + - - - - + - - - - + - - - - +'\n",
    "    \n",
    "drawGrid()    "
   ]
  },
  {
   "cell_type": "markdown",
   "metadata": {},
   "source": [
    "## Chapter 5.1 - 5.7"
   ]
  },
  {
   "cell_type": "markdown",
   "metadata": {},
   "source": [
    "Modulus operator - yields the remainder when the first is divided the second. use the % sign. Useful for finding unit digits, or divisibility.\n",
    "\n",
    "Boolean expression - an expression that is either true or false. Use the == sign. True and False belong to type bool, not strings.\n",
    "\n",
    "Logical operators - three types:\n",
    "1. And - all parts of the statement must be true\n",
    "2. Or - either part of the conditions should be true\n",
    "3. Not - negates a boolean expression Ex. not(x>y) is true if x>y is false, if x is less than or equal to y\n",
    "\n",
    "Operands should be boolean expressions, but Python is not strict\n",
    "17 and True -> True\n",
    "\n",
    "Conditional Statement - statements that check conditions and change the behavior of the program. Boolean expression is the condition\n",
    "\n",
    "\"if\" statements have the same structure as function definitions: a header followed by an indented body. Statements like this are called compound statements.\n",
    "\n",
    "Has to be at least one statement in the body. \"pass\" statement can be used to do nothing.\n",
    "\n",
    "Alternative execution - two possiblities and the condition determines which one gets executed.\n",
    "\n",
    "if, else\n",
    "\n",
    "the alternatives are called branches, branch the flow of execution.\n",
    "\n",
    "Chained conditional - More than two possibilities of conditions and branches.\n",
    "\n",
    "if, elif, else\n",
    "\n",
    "doesn't have to use else\n",
    "\n",
    "Nested Conditional - Conditions can be nested.\n",
    "if():\n",
    "else:\n",
    "    if():\n",
    "    else:\n",
    "    \n",
    "Can become confusing, avoid when possible. Logical operators can simplify nesting.\n",
    "Instead of :\n",
    "if:\n",
    "    if:\n",
    "    \n",
    "Use:\n",
    "if    and\n"
   ]
  },
  {
   "cell_type": "markdown",
   "metadata": {},
   "source": [
    "### Exercise 3  \n",
    "\n",
    "Fermat’s Last Theorem says that there are no positive integers a, b, and c such that $a^n + b^n = c^n$ for any values of n greater than 2.\n",
    "\n",
    "(a) Write a function named `check_fermat` that takes four parameters—a, b, c and n—and that checks to see if Fermat’s theorem holds. If n is greater than 2 and it turns out to be true that\n",
    "$a^n + b^n = c^n$ the program should print, \"Holy smokes, Fermat was wrong!\" Otherwise the program should print, \"No, that doesn’t work.\""
   ]
  },
  {
   "cell_type": "code",
   "execution_count": 43,
   "metadata": {
    "collapsed": false
   },
   "outputs": [
    {
     "name": "stdout",
     "output_type": "stream",
     "text": [
      "No, that doesn't work\n",
      "No, that doesn't work\n"
     ]
    }
   ],
   "source": [
    "def check_fermat(a,b,c,n):\n",
    "    if(n > 2 and a**n+b**n == c**n):\n",
    "        print \"Holy smokes, Fermat was wrong!\"\n",
    "    else:\n",
    "        print \"No, that doesn't work\"\n",
    "        \n",
    "check_fermat(3,4,5,2)\n",
    "check_fermat(2,4,6,3)\n"
   ]
  },
  {
   "cell_type": "markdown",
   "metadata": {},
   "source": [
    "(b) Write a function that prompts the user to input values for a, b, c and n, converts them to integers, and uses check_fermat to check whether they violate Fermat’s theorem."
   ]
  },
  {
   "cell_type": "code",
   "execution_count": 44,
   "metadata": {
    "collapsed": false
   },
   "outputs": [
    {
     "name": "stdout",
     "output_type": "stream",
     "text": [
      "No, that doesn't work\n"
     ]
    }
   ],
   "source": [
    "def testing(a,b,c,n):\n",
    "    check_fermat(int(a),int(b),int(c),int(n))\n",
    "testing('3','4','5','3')    "
   ]
  },
  {
   "cell_type": "markdown",
   "metadata": {},
   "source": [
    "### Exercise 4  \n",
    "\n",
    "If you are given three sticks, you may or may not be able to arrange them in a triangle. For example, if one of the sticks is 12 inches long and the other two are one inch long, it is clear that you will not be able to get the short sticks to meet in the middle. For any three lengths, there is a simple test to see if it is possible to form a triangle:\n",
    "> If any of the three lengths is greater than the sum of the other two, then you cannot form a triangle. Otherwise, you can. (If the sum of two lengths equals the third, they form what is called a “degenerate” triangle.)\n",
    "\n",
    "(a) Write a function named `is_triangle` that takes three integers as arguments, and that prints either \"Yes\" or \"No,\" depending on whether you can or cannot form a triangle from sticks with the given lengths."
   ]
  },
  {
   "cell_type": "code",
   "execution_count": 50,
   "metadata": {
    "collapsed": false
   },
   "outputs": [
    {
     "name": "stdout",
     "output_type": "stream",
     "text": [
      "Yes\n",
      "No\n",
      "No\n",
      "Yes\n",
      "No\n",
      "Yes\n",
      "Yes\n",
      "No\n"
     ]
    }
   ],
   "source": [
    "import math\n",
    "\n",
    "def is_triangle(a,b,c):\n",
    "    if(a>=b and a>=c and a<b+c):\n",
    "        print \"Yes\"\n",
    "    elif(b>=a and b>=c and b<a+c):\n",
    "        print \"Yes\"\n",
    "    elif(c>=a and c>=b and c<a+b):\n",
    "        print \"Yes\"\n",
    "    else:\n",
    "        print \"No\"\n",
    "is_triangle(3,4,5)        \n",
    "is_triangle(2,8,5)  \n",
    "is_triangle(10,4,5)  \n",
    "is_triangle(6,4,5)  \n",
    "is_triangle(10,4,15)  \n",
    "is_triangle(10,10,10)  \n",
    "is_triangle(8,8,6)  \n",
    "is_triangle(3,3,7)  "
   ]
  },
  {
   "cell_type": "markdown",
   "metadata": {},
   "source": [
    "(b) Write a function that prompts the user to input three stick lengths, converts them to integers, and uses is_triangle to check whether sticks with the given lengths can form a triangle."
   ]
  },
  {
   "cell_type": "code",
   "execution_count": 54,
   "metadata": {
    "collapsed": false
   },
   "outputs": [
    {
     "name": "stdout",
     "output_type": "stream",
     "text": [
      "Yes\n",
      "No\n",
      "No\n",
      "Yes\n",
      "No\n",
      "Yes\n",
      "Yes\n",
      "No\n"
     ]
    }
   ],
   "source": [
    "def chicken(a,b,c):\n",
    "    is_triangle(int(a),int(b), int(c))\n",
    "    \n",
    "chicken('3','4','5')        \n",
    "chicken('2','8','5')  \n",
    "chicken('10','4','5')  \n",
    "chicken('6','4','5')  \n",
    "chicken('10','4','15')  \n",
    "chicken('10','10','10')  \n",
    "chicken('8','8','6')  \n",
    "chicken('3','3','7')  "
   ]
  },
  {
   "cell_type": "markdown",
   "metadata": {},
   "source": [
    "## Notes for the Instructors\n",
    "\n",
    "Please use the space below to write comments to help us plan the next class session.  For instance, if you want to see us go over an example of a particular type of problem, you can indicate that here.\n",
    "\n",
    "Please remember that the best way to get quick feedback from the instructors as well as your peers, is to use Piazza.  However, consider using this channel if it doesn't make sense to post your note to Piazza."
   ]
  },
  {
   "cell_type": "markdown",
   "metadata": {},
   "source": [
    "I'm a little confused in Chapter with the Grid exercise, about using the comma method. Is there a reason why I can't just print the grid line by line? I think that'd be easier and take less code"
   ]
  }
 ],
 "metadata": {
  "kernelspec": {
   "display_name": "Python 2",
   "language": "python",
   "name": "python2"
  },
  "language_info": {
   "codemirror_mode": {
    "name": "ipython",
    "version": 2
   },
   "file_extension": ".py",
   "mimetype": "text/x-python",
   "name": "python",
   "nbconvert_exporter": "python",
   "pygments_lexer": "ipython2",
   "version": "2.7.6"
  }
 },
 "nbformat": 4,
 "nbformat_minor": 0
}
