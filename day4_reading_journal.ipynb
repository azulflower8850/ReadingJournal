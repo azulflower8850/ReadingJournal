{
 "cells": [
  {
   "cell_type": "markdown",
   "metadata": {},
   "source": [
    "# Day 4 Reading Journal\n",
    "\n",
    "This journal includes several required exercises, but it is meant to encourage active reading more generally.  You should use the journal to take detailed notes, catalog questions, and explore the content from Think Python deeply.\n",
    "\n",
    "Reading: Think Python Chapter 10\n",
    "\n",
    "**Due: Thursday, February 4 at 12 noon**\n",
    "\n"
   ]
  },
  {
   "cell_type": "markdown",
   "metadata": {},
   "source": [
    "## [Chapter 10](http://www.greenteapress.com/thinkpython/html/thinkpython011.html)\n",
    "\n",
    "You may want to review [state diagrams in Chapter 2](http://www.greenteapress.com/thinkpython/html/thinkpython003.html#toc13). [Python Tutor](http://pythontutor.com/) is also helpful for visualizing the state of your program.\n",
    "\n"
   ]
  },
  {
   "cell_type": "markdown",
   "metadata": {},
   "source": [
    "Lists\n",
    "\n",
    "A list is a sequence of values. In a string, the values are characters, but in a list, they can be any type. The values in a list are called elements.\n",
    "\n",
    "The easiest operator to create a list is with the [] operator. Lists can be nested and can be a combination of any type of data.\n",
    "\n",
    "A list with no elements is an empty list.\n",
    "\n",
    "LISTS ARE MUTABLE\n",
    "\n",
    "The bracket operator appears on the left side of an assignment, it identifies the element of the list that will be assigned.\n",
    "\n",
    "The relationship bewteen indices and elements is called mapping, in which each index maps to one of the elements.\n",
    "\n",
    "Lists indices work the same as string indices:\n",
    "1. Any integer expression can be used as an index\n",
    "2. If you try to read or write an element that does not exist, you get an IndexError\n",
    "3. If an index has a negative value, it counts backward from the end of the list.\n",
    "\n",
    "The \"in\" operator also works on lists.\n",
    "\n",
    "Traversing a list - the most common way to traverse the elements of a list is with a for loop. The syntax is the same as for strings:\n",
    "\n",
    "Ex. for cheese in cheeses:\n",
    "    print cheese\n",
    "    \n",
    "    \n",
    "for i in range(len(numbers)):\n",
    "    numbers[i] = numbers[i]*2\n",
    "    \n",
    "    \n",
    "A for loop over an empty list never executes the body.\n",
    "\n",
    "Operations - the + operator concatenates lists, and the * operator repeats a list a given number of times. Slicing also works on lists:\n",
    "Ex. t[1:3], t[:4], t[3:], t[::-1]\n",
    "\n",
    "A operator on the left side of an assignment can update multiple elements.\n",
    "\n",
    "List methods - \n",
    "1. append - adds a new element to the end of a list\n",
    "2. extend - takes a list as an arguments and appends all of the elements.\n",
    "3. sort - arranges the elements of  the list from low to high\n",
    "\n",
    "list methods all void, will return none\n",
    "\n",
    "Augmented assignment statement - total += x is the same as total = total + x\n",
    "\n",
    "Built-in function \"sum\" can add all the elements of a list\n",
    "\n",
    "Reduce - an operation that combines a sequence of elements into a single value\n",
    "\n",
    "Map - an operation that maps a function onto each of the elements in a sequence\n",
    "\n",
    "Filter - an operation that selects some of the elements and filters out the others\n",
    "\n",
    "\n",
    "Deleting Elements:\n",
    "1. pop - t.pop() - modifies the list and returns the element that was removed. if not provided an index, it deletes and returns the last element.\n",
    "2. del - if you dont need the deleted value, use this. Ex. del t[1]\n",
    "3. remove - know the element to be removed, but not the index.\n",
    "4. more than one element at a time - del[a:b]\n",
    "\n",
    "list() - convert from a string to a list of characters\n",
    "\n",
    "Split() - break a string into words, Can use an argument that specifices which characters to use as word boundaries\n",
    "\n",
    "Join() - the opposite of split. Takes a list of strings and concatenates the elements. A string method, must invoke it on the delimiter and pass the list as a parameter.\n",
    "\n",
    "The \"is\" operator can be used to check whether two variables refer to the same object.\n",
    "\n",
    "When you create two variables that both have the same string, python only creates one string object. But when you create two lists, you get two different objects. The two lists are equivalent, but not identical.\n",
    "\n",
    "Reference - the association of a variable with an object.\n",
    "\n",
    "Alias - an object with more than one reference to it. If the object is mutable, then changes made with one alias affect the other.\n",
    "\n",
    "List as arguments - when a list is passed to a function, the function gets a reference to the list. if the function modifies a list parameter, the caller sees the change.\n",
    "\n",
    "THERE AN IMPORTANT DISTINCTION BETWEEN OPERATORS THAT MODIFY LISTS AND OPERATORS THAT CREATE NEW LISTS\n",
    "\n",
    "Ex. append modifies, the + operator creates a new one.\n",
    "\n",
    "Ex. The slice operator creates a new list, but doesn't have any effect on the list that was passed as an argument. Rather, use a function that creates and returns a new list.\n",
    "\n",
    "\n",
    "Debugging:\n",
    "1. Don't forget that most list methods modify the argument and return None.\n",
    "2. Pick an idiom and stick wtih it. Too many ways to do stuff, just pick one and use it\n",
    "3. Make copies to avoid aliasing.\n"
   ]
  },
  {
   "cell_type": "markdown",
   "metadata": {},
   "source": [
    "### Exercise 4  \n",
    "Write a function called `middle` that takes a list and returns a new list that contains all but the first and last elements. So `middle([1,2,3,4])` should return `[2,3]`."
   ]
  },
  {
   "cell_type": "code",
   "execution_count": 3,
   "metadata": {
    "collapsed": false
   },
   "outputs": [
    {
     "name": "stdout",
     "output_type": "stream",
     "text": [
      "Finding tests in NoName\n",
      "Trying:\n",
      "    middle([1, 2, 3, 4])\n",
      "Expecting:\n",
      "    [2, 3]\n",
      "ok\n",
      "Trying:\n",
      "    middle([1, 2])\n",
      "Expecting:\n",
      "    []\n",
      "ok\n",
      "Trying:\n",
      "    middle([1, 2, 3, 4, 5, 6, 7, 8, 9, 10])\n",
      "Expecting:\n",
      "    [2, 3, 4, 5, 6, 7, 8, 9]\n",
      "ok\n",
      "Trying:\n",
      "    middle([])\n",
      "Expecting:\n",
      "    []\n",
      "ok\n"
     ]
    }
   ],
   "source": [
    "import doctest\n",
    "\n",
    "def middle(tester):\n",
    "    \"\"\"\n",
    "    Making some test cases to see whether it works or not. This function should remove the first element and the last element \n",
    "    via slicing and return a new list.\n",
    "    \n",
    "    >>> middle([1, 2, 3, 4])\n",
    "    [2, 3]\n",
    "    >>> middle([1, 2])\n",
    "    []\n",
    "    >>> middle([1, 2, 3, 4, 5, 6, 7, 8, 9, 10])\n",
    "    [2, 3, 4, 5, 6, 7, 8, 9]\n",
    "    >>> middle([])\n",
    "    []\n",
    "    \"\"\"\n",
    "    \n",
    "    if len(tester) < 3:\n",
    "        return []\n",
    "    else:\n",
    "        return tester[1:len(tester)-1]\n",
    "    \n",
    "doctest.run_docstring_examples(middle, globals(),verbose=True)    "
   ]
  },
  {
   "cell_type": "markdown",
   "metadata": {},
   "source": [
    "### Exercise 5  \n",
    "Write a function called `chop` that takes a list, modifies it by removing the first and last elements, and returns `None`.\n",
    "\n",
    "What is the difference between `middle` and `chop`? Sketch out the program state or take a look at each in Python Tutor."
   ]
  },
  {
   "cell_type": "code",
   "execution_count": 25,
   "metadata": {
    "collapsed": false
   },
   "outputs": [
    {
     "name": "stdout",
     "output_type": "stream",
     "text": [
      "[1, 2, 3, 4, 5]\n",
      "None\n",
      "[2, 3, 4]\n",
      "[]\n",
      "None\n",
      "[]\n",
      "[1]\n",
      "None\n",
      "[]\n",
      "[1, 2]\n",
      "None\n",
      "[]\n"
     ]
    }
   ],
   "source": [
    "def chop(tester):\n",
    "    \"\"\"\n",
    "    Making some test cases to see whether it works or not. This function should remove the first element and the last element \n",
    "    via slicing only by modifying the original. There are no test cases for doctest this time around because if I'm correct doctest\n",
    "    only works with return methods, void methods weird, at when i tried it the output didn't make sense.\n",
    "\n",
    "    \"\"\"\n",
    "    if len(tester) > 0:    \n",
    "        del tester[len(tester)-1]\n",
    "    if len(tester) > 0:    \n",
    "        del tester[0]\n",
    "\n",
    "chicken = [1,2,3,4,5]\n",
    "print chicken\n",
    "print chop(chicken)\n",
    "print chicken \n",
    "\n",
    "chicken = []\n",
    "print chicken\n",
    "print chop(chicken)\n",
    "print chicken \n",
    "\n",
    "chicken = [1]\n",
    "print chicken\n",
    "print chop(chicken)\n",
    "print chicken \n",
    "\n",
    "chicken = [1,2]\n",
    "print chicken\n",
    "print chop(chicken)\n",
    "print chicken \n"
   ]
  },
  {
   "cell_type": "markdown",
   "metadata": {},
   "source": [
    "The difference between Middle and Chop is that Middle creates a list by returning something, so it's an operator that creates an entirely new object, whereas Chop only modifies the list that already existed by acting as a void method, so it's an operator that modifies the original."
   ]
  },
  {
   "cell_type": "markdown",
   "metadata": {},
   "source": [
    "### Exercise 7  \n",
    "Two words are anagrams if you can rearrange the letters from one to spell the other. Write a function called `is_anagram` that takes two strings and returns `True` if they are anagrams."
   ]
  },
  {
   "cell_type": "code",
   "execution_count": 28,
   "metadata": {
    "collapsed": false
   },
   "outputs": [
    {
     "name": "stdout",
     "output_type": "stream",
     "text": [
      "Finding tests in NoName\n",
      "Trying:\n",
      "    is_anagram('z', 'z')\n",
      "Expecting:\n",
      "    True\n",
      "ok\n",
      "Trying:\n",
      "    is_anagram('c', 'b')\n",
      "Expecting:\n",
      "    False\n",
      "ok\n",
      "Trying:\n",
      "    is_anagram('earth','heart')\n",
      "Expecting:\n",
      "    True\n",
      "ok\n",
      "Trying:\n",
      "    is_anagram('chicken','butt')\n",
      "Expecting:\n",
      "    False\n",
      "ok\n"
     ]
    }
   ],
   "source": [
    "def is_anagram(string1, string2):\n",
    "    \"\"\"\n",
    "    This function will use the split and sort command to check to see whether one string contains all the letters of the other string.\n",
    "    \n",
    "    >>> is_anagram('z', 'z')\n",
    "    True\n",
    "    >>> is_anagram('c', 'b')\n",
    "    False\n",
    "    >>> is_anagram('earth','heart')\n",
    "    True\n",
    "    >>> is_anagram('chicken','butt')\n",
    "    False\n",
    "    \"\"\"\n",
    "    \n",
    "    string1_list = list(string1)\n",
    "    string1_list.sort()\n",
    "    string2_list = list(string2)\n",
    "    string2_list.sort()\n",
    "    \n",
    "    for i in range(len(string1_list)):\n",
    "        if not string1_list[i] == string2_list[i]:\n",
    "            return False\n",
    "    return True    \n",
    "\n",
    "\n",
    "\n",
    "doctest.run_docstring_examples(is_anagram, globals(),verbose=True)  "
   ]
  },
  {
   "cell_type": "markdown",
   "metadata": {},
   "source": [
    "### Exercise 8  \n",
    "The (so-called) Birthday Paradox:\n",
    "1. Write a function called `has_duplicates` that takes a list and returns `True` if there is any element that appears more than once. It should not modify the original list.\n",
    "2. If there are 23 students in your class, what are the chances that two of you have the same birthday? You can estimate this probability by generating random samples of 23 birthdays and checking for matches. Hint: you can generate random birthdays with the randint function in the [random module](https://docs.python.org/2/library/random.html).\n",
    "\n",
    "\n",
    "You can read about this problem at http://en.wikipedia.org/wiki/Birthday_paradox, and you can download Allen's solution from http://thinkpython.com/code/birthday.py."
   ]
  },
  {
   "cell_type": "code",
   "execution_count": 49,
   "metadata": {
    "collapsed": false
   },
   "outputs": [
    {
     "name": "stdout",
     "output_type": "stream",
     "text": [
      "0.518\n",
      "0.497\n",
      "0.519\n",
      "0.507\n",
      "1.0\n"
     ]
    }
   ],
   "source": [
    "import random\n",
    "def has_duplicates(stuff):\n",
    "    \"\"\"\n",
    "    This function returns true if there are dupes, false otherwise.\n",
    "    \n",
    "    >>> has_duplicates([1,2,3,4])\n",
    "    False\n",
    "    >>> has_duplicates([1,2,3,3])\n",
    "    True\n",
    "    >>> has_duplicates([3,3])\n",
    "    True\n",
    "    \"\"\"\n",
    "    nodupes = []\n",
    "    \n",
    "    for item in stuff:\n",
    "        for thing in nodupes:\n",
    "            if(item == thing):\n",
    "                return True\n",
    "        nodupes.append(item)\n",
    "    return False\n",
    "\n",
    "#doctest.run_docstring_examples(has_duplicates, globals(),verbose=True)  \n",
    "\n",
    "def birthdays(number):\n",
    "    \"\"\"\n",
    "    This method will generate a list of random birthdays based on an inputted number that represents the number of people\n",
    "    you want to look at.\n",
    "    \"\"\"\n",
    "    students_bdays = []\n",
    "    for i in range(number):\n",
    "        students_bdays.append(random.randint(1,365))\n",
    "    return students_bdays\n",
    "\n",
    "def calc_prob(number):\n",
    "    \"\"\"\n",
    "    This method will calculate the probability that two people within an inputted number of people will have the same birthday.\n",
    "\n",
    "    \"\"\"\n",
    "    count = 0.0\n",
    "    for i in range(1000):\n",
    "        students_birthday_list = birthdays(number)\n",
    "        if has_duplicates(students_birthday_list):\n",
    "            count+=1.0\n",
    "    return count/1000.0\n",
    "\n",
    "\n",
    "print calc_prob(23)\n",
    "print calc_prob(23)\n",
    "print calc_prob(23)\n",
    "print calc_prob(23)\n",
    "\n",
    "print calc_prob(367)\n",
    "    \n",
    "\n",
    "    \n",
    "    "
   ]
  },
  {
   "cell_type": "markdown",
   "metadata": {},
   "source": [
    "### Challenge: Exercise 11 (optional)\n",
    "\n",
    "You should read [Chapter 9.1](http://www.greenteapress.com/thinkpython/html/thinkpython010.html) and do Exercise 1 first.\n",
    "\n",
    "To check whether a word is in the word list, you could use the `in` operator, but it would be relatively slow because it searches through the words in order (try it).\n",
    "\n",
    "Because the words are in alphabetical order, we can speed things up with a bisection search (also known as binary search), which is similar to what you do when you look a word up in the dictionary. You start in the middle and check to see whether the word you are looking for comes before the word in the middle of the list. If so, then you search the first half of the list the same way. Otherwise you search the second half.\n",
    "\n",
    "Either way, you cut the remaining search space in half. If the word list has 113,809 words, it will take about 17 steps to find the word or conclude that it’s not there.\n",
    "\n",
    "Write a function called `bisect` that takes a sorted list and a target value and returns the index of the value in the list, if it’s there, or `None` if it’s not.\n",
    "\n",
    "Or you could read the documentation of the `bisect` module and use that! Solution: http://thinkpython.com/code/inlist.py."
   ]
  },
  {
   "cell_type": "code",
   "execution_count": 48,
   "metadata": {
    "collapsed": false
   },
   "outputs": [
    {
     "name": "stdout",
     "output_type": "stream",
     "text": [
      "2\n",
      "13\n"
     ]
    }
   ],
   "source": [
    "def bisect(sortedlist,target):\n",
    "    \"\"\"\n",
    "    This function will do a binary search on a list and return an index if a match is found or None if there was nothing to return\n",
    "    It operates on the precondition that the list is sorted.\n",
    "    \"\"\"\n",
    "    low = 0\n",
    "    high = len(sortedlist)-1\n",
    "    while low <= high:\n",
    "        index = (low + high)/2\n",
    "        if sortedlist[index] > target:\n",
    "            high = index - 1\n",
    "        elif sortedlist[index] < target:\n",
    "            low = index + 1\n",
    "        else:\n",
    "            return index\n",
    "    return None\n",
    "\n",
    "chicken = ['alpha','beta','chicken','delta','epsilon','funnymuffins','gamma','horse']\n",
    "therealtest = \"Have any comments on this Reading Journal? Feel free to leave them below and well read them when you submit your journal entry.This could include suggestions to improve the exercises, topics youd like to see covered in class next time, or other feedback.If you have Python questions or run into problems while completing the reading, you should post them to Piazza instead so you canget a quick response before your journal is submitted.\"\n",
    "therealtest_list = therealtest.split(\" \")\n",
    "therealtest_list.sort()\n",
    "\n",
    "print bisect(chicken,'chicken')\n",
    "print bisect(therealtest_list, \"comments\")"
   ]
  },
  {
   "cell_type": "markdown",
   "metadata": {},
   "source": [
    "## Reading Journal feedback\n",
    "\n",
    "Have any comments on this Reading Journal? Feel free to leave them below and we'll read them when you submit your journal entry. This could include suggestions to improve the exercises, topics you'd like to see covered in class next time, or other feedback.\n",
    "\n",
    "If you have Python questions or run into problems while completing the reading, you should post them to Piazza instead so you can get a quick response before your journal is submitted."
   ]
  },
  {
   "cell_type": "markdown",
   "metadata": {},
   "source": [
    "All good, this was fun :)"
   ]
  },
  {
   "cell_type": "markdown",
   "metadata": {},
   "source": [
    " "
   ]
  }
 ],
 "metadata": {
  "kernelspec": {
   "display_name": "Python 2",
   "language": "python",
   "name": "python2"
  },
  "language_info": {
   "codemirror_mode": {
    "name": "ipython",
    "version": 2
   },
   "file_extension": ".py",
   "mimetype": "text/x-python",
   "name": "python",
   "nbconvert_exporter": "python",
   "pygments_lexer": "ipython2",
   "version": "2.7.6"
  }
 },
 "nbformat": 4,
 "nbformat_minor": 0
}
