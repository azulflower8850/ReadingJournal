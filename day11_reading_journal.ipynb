{
 "cells": [
  {
   "cell_type": "markdown",
   "metadata": {},
   "source": [
    "# Day 11 Reading Journal\n",
    "\n",
    "This journal includes several required exercises, but it is meant to encourage active reading more generally.  You should use the journal to take detailed notes, catalog questions, and explore the content from Think Python deeply.\n",
    "\n",
    "Reading: Review Think Python Chapters 15-17\n",
    "\n",
    "**Due: Monday, February 29 at 12 noon**\n",
    "\n"
   ]
  },
  {
   "cell_type": "markdown",
   "metadata": {},
   "source": [
    "## [Chapter 15](http://www.greenteapress.com/thinkpython/html/thinkpython016.html), [Chapter 16](http://www.greenteapress.com/thinkpython/html/thinkpython017.html), [Chapter 17](http://www.greenteapress.com/thinkpython/html/thinkpython018.html)\n",
    "\n",
    "\n",
    "By the end of chapter 17, we have all the tools we need to create our own user-defined types known as classes. In this reading journal, we're asking you to review and solidify your understanding of this material so we can build on it for the rest of the course. \n",
    "\n",
    "If you didn't get a chance to fully complete the Day 10 reading journal, you may want to do so now."
   ]
  },
  {
   "cell_type": "markdown",
   "metadata": {
    "problem": "Terminology"
   },
   "source": [
    "### Terminology\n",
    "\n",
    "You should be familiar with the following list of terms and concepts. If any of them are unclear to you, re-read, ask, write a definition in your own words, and try an example if appropriate.\n",
    "\n",
    " - class - a user defined type of data structure that can contain attributes and methods.\n",
    " - object - an instance of a class, kind of like a creation of the class, a manifestation of it\n",
    " - instance - a manifestation of a class, generally referring to objects of a class\n",
    " - attribute - a variable within a class that can be called using the dot notation\n",
    " - method - a function within a class that can be invoked using the dot notation\n",
    " - shallow vs deep copying - shallow copying only copies an object at the surface, any embedded remain pointing at the same reference. Deep copying is complete copying of an object and all references to embedded objects.\n",
    " - pure functions vs modifiers - pure functions are functions that return something, used in functional programming and need not modify any of the objects passed to it. modifiers are functions that directly modify the object that they are passed.\n",
    " - initializing object instances - use the class name with parentheses to initiate an object. If you want to be fancy you can use the __init__ function which allows you to directly initialize any attributes that are in the class.\n",
    " "
   ]
  },
  {
   "cell_type": "markdown",
   "metadata": {
    "is_question": true,
    "problem": "Exercise 1"
   },
   "source": [
    "### Exercise\n",
    "\n",
    "We're going to take the first steps toward writing a calendar application. To keep things simple, we'll restrict ourselves to a single day for now. Write an `Event` class with the following attributes:\n",
    "\n",
    " - `name`  : Title for the `Event`\n",
    " - `start` : `Time` object representing the start time for the `Event`\n",
    " - `end`   : `Time` object representing the end time for the `Event`\n",
    "\n",
    "You can also augment your `Event` class with additional attributes, such as location and attendees.\n",
    "\n",
    "Write `__init__` and `__str__` methods for your `Event` class."
   ]
  },
  {
   "cell_type": "code",
   "execution_count": 1,
   "metadata": {
    "collapsed": false,
    "solution": "Exercise 1"
   },
   "outputs": [
    {
     "name": "stdout",
     "output_type": "stream",
     "text": [
      "Finding tests in NoName\n",
      "Trying:\n",
      "    chicken = Event('Chickenfest', Time(8,30,15), Time(10,30,15))\n",
      "Expecting nothing\n",
      "ok\n",
      "Trying:\n",
      "    print chicken\n",
      "Expecting:\n",
      "    Chickenfest will start at 8:30:15 and end at 10:30:15\n",
      "ok\n"
     ]
    }
   ],
   "source": [
    "class Time(object):\n",
    "    \"\"\"\n",
    "    This class will merely be a filler class to account for Times in the Event class, which is the main show.\n",
    "    It will just contain the hour, minutes, and seconds attributes and then have __str__ to print them out\n",
    "    \"\"\"\n",
    "    def __init__(self, hour, minute, second):\n",
    "        self.hour = hour\n",
    "        self.minute = minute\n",
    "        self.second = second\n",
    "    def __str__(self):\n",
    "        return \"{}:{}:{}\".format(str(self.hour), str(self.minute), str(self.second))\n",
    "    \n",
    "class Event(object):\n",
    "    \"\"\"\n",
    "    This class will be an event class that utilizes the Time class to creates events for a calendar.\n",
    "    Name will be the title of the event, and start and end will be Time objects\n",
    "    \n",
    "    Some tests to ensure functionality\n",
    "    >>> chicken = Event('Chickenfest', Time(8,30,15), Time(10,30,15))\n",
    "    >>> print chicken\n",
    "    Chickenfest will start at 8:30:15 and end at 10:30:15\n",
    "    \"\"\"\n",
    "\n",
    "    def __init__(self, name, start, end):\n",
    "        self.name = name\n",
    "        self.start = start\n",
    "        self.end = end\n",
    "    def __str__(self):\n",
    "        return \"{} will start at {} and end at {}\".format(str(self.name), str(self.start),str(self.end))\n",
    "\n",
    "\n",
    "import doctest\n",
    "doctest.run_docstring_examples(Event, globals(), verbose=True)\n",
    "\n",
    "    \n",
    "    "
   ]
  },
  {
   "cell_type": "markdown",
   "metadata": {
    "is_question": true,
    "problem": "Exercise 2"
   },
   "source": [
    "### Exercise\n",
    "\n",
    "Write a `duration` method that returns the duration of the `Event` in minutes."
   ]
  },
  {
   "cell_type": "code",
   "execution_count": 6,
   "metadata": {
    "collapsed": false,
    "solution": "Exercise 2"
   },
   "outputs": [
    {
     "name": "stdout",
     "output_type": "stream",
     "text": [
      "Finding tests in NoName\n",
      "Trying:\n",
      "    chicken = Event(\"Chickenfest\", Time(8,30,15), Time(10,30,30))\n",
      "Expecting nothing\n",
      "ok\n",
      "Trying:\n",
      "    print duration(chicken)\n",
      "Expecting:\n",
      "    Chickenfest will take 120.25 minutes\n",
      "ok\n"
     ]
    }
   ],
   "source": [
    "def duration(Event):\n",
    "    \"\"\"\n",
    "    This method basically accesses the Time objects in the Event object and does some computation to find the difference\n",
    "    in minutes. Technically speaking, you could have already made a method to make this a lot easier in the Time class, but\n",
    "    for the purposes of this exercise, I'm going to do it all here.\n",
    "    \n",
    "    Tests to show functionality\n",
    "    >>> chicken = Event(\"Chickenfest\", Time(8,30,15), Time(10,30,30))\n",
    "    >>> print duration(chicken)\n",
    "    Chickenfest will take 120.25 minutes\n",
    "    \"\"\"\n",
    "    time_spent = (Event.end.hour-Event.start.hour)*60+(Event.end.minute-Event.start.minute)+(Event.end.second-Event.start.second)/60.0\n",
    "    return \"{} will take {} minutes\".format(Event.name, time_spent)\n",
    "\n",
    "\n",
    "doctest.run_docstring_examples(duration, globals(), verbose=True)"
   ]
  },
  {
   "cell_type": "markdown",
   "metadata": {
    "is_question": true,
    "problem": "Exercise 3"
   },
   "source": [
    "### Exercise\n",
    "\n",
    "Write an `Agenda` class that contains several `Event`s for the day.\n",
    "\n",
    "**Quick check: ** How should you store `Event`s within your `Agenda` class?\n",
    "\n",
    "Your `Agenda` class should include a `print_agenda` method that prints out your schedule for the day, in order.\n",
    "\n",
    "**Optional:** Include a `is_feasible` method that returns `True` if your schedule has no time conflicts. You may want to write additional helper methods for the `Event` class to make this easier."
   ]
  },
  {
   "cell_type": "code",
   "execution_count": 23,
   "metadata": {
    "collapsed": false,
    "solution": "Exercise 3"
   },
   "outputs": [
    {
     "name": "stdout",
     "output_type": "stream",
     "text": [
      "Finding tests in NoName\n",
      "Trying:\n",
      "    myAgenda = Agenda(Event('Chickenfest',Time(1,30,15), Time(2,30,00)),Event('HubbaHubbafest', Time(7, 45, 20), Time(10,10,10)),Event('Trollfest', Time(2,45,30), Time(5,15,20)))\n",
      "Expecting nothing\n",
      "ok\n",
      "Trying:\n",
      "    myAgenda.print_agenda()\n",
      "Expecting:\n",
      "    Your agenda for the day is: \n",
      "    Chickenfest will start at 1:30:15 and end at 2:30:0\n",
      "    Trollfest will start at 2:45:30 and end at 5:15:20\n",
      "    HubbaHubbafest will start at 7:45:20 and end at 10:10:10\n",
      "ok\n"
     ]
    }
   ],
   "source": [
    "class Agenda(object):\n",
    "    \"\"\"\n",
    "    The Agenda class holds a bunch of Events to be put into chronological order. I would use a tupled list so that I can \n",
    "    sort by start time. there will be a helper method that will compare the Time objects against each other. Print agenda \n",
    "    will then print out the sorted list. Is_feasible will then check for time conflicts, probably using compare to on\n",
    "    every end and start time of consecutive elements in the tupled list after it's been sorted.\n",
    "    \n",
    "    There is a more robust way to do this which is making the number of events allowed an unknown number, at which point you might use \n",
    "    *args as a tuple to collect all the arguments and then unpack them. Given that this exercise was a pretty big handful without\n",
    "    that part, I decided to simplify the problem.\n",
    "    \n",
    "    Testing for functionality\n",
    "    >>> myAgenda = Agenda(Event('Chickenfest',Time(1,30,15), Time(2,30,00)),Event('HubbaHubbafest', Time(7, 45, 20), Time(10,10,10)),Event('Trollfest', Time(2,45,30), Time(5,15,20)))\n",
    "    >>> myAgenda.print_agenda()\n",
    "    Your agenda for the day is: \n",
    "    Chickenfest will start at 1:30:15 and end at 2:30:0\n",
    "    Trollfest will start at 2:45:30 and end at 5:15:20\n",
    "    HubbaHubbafest will start at 7:45:20 and end at 10:10:10\n",
    "    \n",
    "    \"\"\"\n",
    "    \n",
    "    def __init__(self, event1, event2, event3):\n",
    "        self.chronologicalevents = [event1, event2, event3]\n",
    "        \n",
    "    def print_agenda(self):\n",
    "        self.sort_events()\n",
    "        print \"Your agenda for the day is: \"\n",
    "        for event in self.chronologicalevents:\n",
    "            print event\n",
    "            \n",
    "    def sort_events(self):\n",
    "        templist = []\n",
    "        for value in self.chronologicalevents:\n",
    "            templist.append((value.start,value))\n",
    "            \n",
    "        for i in range(len(templist)-1):  \n",
    "            minindex = i\n",
    "            for j in range(i+1, len(templist)):\n",
    "                if not self.is_chronological(templist[minindex][0], templist[j][0]):\n",
    "                    minindex = j\n",
    "            if minindex != i:\n",
    "                temp2 = templist[i]\n",
    "                templist[i] = templist[minindex]\n",
    "                templist[minindex] = temp2\n",
    "                \n",
    "        self.chronologicalevents = []        \n",
    "                    \n",
    "        for value, event in templist:\n",
    "            self.chronologicalevents.append(event)     \n",
    "        \n",
    "    def is_chronological(self, time1, time2): \n",
    "        if time1.hour > time2.hour:\n",
    "            return False\n",
    "        elif time1.minute > time2.minute:\n",
    "            return False\n",
    "        elif time1.second > time2.second:\n",
    "            return False\n",
    "        else:\n",
    "            return True\n",
    "        \n",
    "doctest.run_docstring_examples(Agenda, globals(), verbose=True)        "
   ]
  },
  {
   "cell_type": "markdown",
   "metadata": {
    "is_question": true,
    "problem": "Exercise 4"
   },
   "source": [
    "### Going Beyond (optional)\n",
    "\n",
    "Some ideas for taking your application further:\n",
    " - Add people and/or places to the mix to create a scheduling assistant\n",
    " - Extend support for day-of-week or full date. A word of warning: dealing with dates and times in real applications is difficult due to the huge number of special cases (Perfect example: this reading journal is due on Leap Day). Consider using something like the Python [datetime](https://docs.python.org/2/library/datetime.html) module.\n",
    " - Use pickle or some other persistence strategy to save and load your `Agenda`."
   ]
  },
  {
   "cell_type": "code",
   "execution_count": 30,
   "metadata": {
    "collapsed": false,
    "solution": "Exercise 4"
   },
   "outputs": [
    {
     "name": "stdout",
     "output_type": "stream",
     "text": [
      "You agenda for the day is \n",
      "Chickenfest will start at 1:30:15 and end at 2:30:0\n",
      "Trollfest will start at 2:45:30 and end at 5:15:20\n",
      "HubbaHubbafest will start at 7:45:20 and end at 10:10:10\n",
      "\n"
     ]
    }
   ],
   "source": [
    "import pickle\n",
    "\n",
    "def to_string(Agenda):\n",
    "    \"\"\"\n",
    "    The purpose of this method is to make a string that holds the Agenda of print_agenda such that it can be pickled.\n",
    "    \"\"\"\n",
    "    \n",
    "    result = \"\"\n",
    "    result += \"You agenda for the day is \\n\"\n",
    "    for event in Agenda.chronologicalevents:\n",
    "            result += str(event)\n",
    "            result += \"\\n\"\n",
    "    return result        \n",
    "    \n",
    "\n",
    "myAgenda = Agenda(Event('Chickenfest',Time(1,30,15), Time(2,30,00)),Event('HubbaHubbafest', Time(7, 45, 20), Time(10,10,10)),Event('Trollfest', Time(2,45,30), Time(5,15,20)))\n",
    "myAgenda.sort_events()\n",
    "chicken = to_string(myAgenda)\n",
    "\n",
    "filechicken = open(\"Agenda\", \"w\")\n",
    "pickle.dump(chicken, filechicken)\n",
    "filechicken.close()\n",
    "\n",
    "filechicken = open(\"Agenda\", 'r')\n",
    "chicken2 = pickle.load(filechicken)\n",
    "filechicken.close()\n",
    "\n",
    "print chicken\n",
    "\n"
   ]
  },
  {
   "cell_type": "markdown",
   "metadata": {
    "is_poll": true,
    "is_question": true,
    "problem": "Time spent"
   },
   "source": [
    "## Quick poll\n",
    "About how long did you spend working on this Reading Journal?"
   ]
  },
  {
   "cell_type": "markdown",
   "metadata": {
    "poll_response": true,
    "solution": "Time spent"
   },
   "source": [
    "This took me a little over an hour. "
   ]
  },
  {
   "cell_type": "markdown",
   "metadata": {
    "is_question": true,
    "problem": "Feedback"
   },
   "source": [
    "## Reading Journal feedback\n",
    "\n",
    "Have any comments on this Reading Journal? Feel free to leave them below and we'll read them when you submit your journal entry. This could include suggestions to improve the exercises, topics you'd like to see covered in class next time, or other feedback.\n",
    "\n",
    "If you have Python questions or run into problems while completing the reading, you should post them to Piazza instead so you can get a quick response before your journal is submitted."
   ]
  },
  {
   "cell_type": "markdown",
   "metadata": {
    "feedback_response": true,
    "solution": "Feedback"
   },
   "source": [
    " All good."
   ]
  }
 ],
 "metadata": {
  "celltoolbar": "Edit Metadata",
  "kernelspec": {
   "display_name": "Python 2",
   "language": "python",
   "name": "python2"
  },
  "language_info": {
   "codemirror_mode": {
    "name": "ipython",
    "version": 2
   },
   "file_extension": ".py",
   "mimetype": "text/x-python",
   "name": "python",
   "nbconvert_exporter": "python",
   "pygments_lexer": "ipython2",
   "version": "2.7.6"
  }
 },
 "nbformat": 4,
 "nbformat_minor": 0
}
