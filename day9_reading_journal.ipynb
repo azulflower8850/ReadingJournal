{
 "cells": [
  {
   "cell_type": "markdown",
   "metadata": {},
   "source": [
    "# Day 9 Reading Journal\n",
    "\n",
    "This journal includes several required exercises, but it is meant to encourage active reading more generally.  You should use the journal to take detailed notes, catalog questions, and explore the content from Think Python deeply.\n",
    "\n",
    "Reading: Think Python Chapter 13, 15\n",
    "\n",
    "**Due: Monday, February 22 at 12 noon**\n",
    "\n",
    "Chicken\n",
    "\n"
   ]
  },
  {
   "cell_type": "markdown",
   "metadata": {},
   "source": [
    "## [Chapter 13](http://www.greenteapress.com/thinkpython/html/thinkpython014.html)\n",
    "\n",
    "The content in this chapter could be very helpful for the text mining mini project. The reading and all exercises within are optional.\n",
    "\n",
    " - Section 13.3-4 gives a good example of some techniques for working with files, processing text, and doing some simple analysis. \n",
    " - Section 13.8 and the Markov generation in Exercise 8 can be a lot of fun. \n",
    " - Now that you know a wide range of different data structures, Section 13.9 starts to give some guidance for choosing between them\n",
    " - Section 13.10 explains Allen's \"4 r's\" of debugging strategy"
   ]
  },
  {
   "cell_type": "markdown",
   "metadata": {},
   "source": [
    "Data Structure Selection\n",
    "\n",
    "Deterministic - generate the same outputs every time. Good for expecting the same calculation to yield a particular result.\n",
    "Unpredictable is a thing, too, like in games.\n",
    "\n",
    "Pseudorandom - one way to make a program unpredictable, using a deterministic computation to generate a pool of numbers that basically appear random.\n",
    "\n",
    "The random module is nice, returns a random float bewteen 0.0 and 1.0, inclusive and exclusive respectively.\n",
    "\n",
    "Randint takes parameters low and high and returns a random number in bewteen the two inclusive.\n",
    "\n",
    "Choice can choose a random element from a sequence.\n",
    "\n",
    "Word histograms\n",
    "dicts = dict()\n",
    "for something in somethingelse:\n",
    "    do stuff\n",
    "    dicts[something] = dicts.get(something,0) + 1\n",
    "    \n",
    "Find the most common words with DSU\n",
    "\n",
    "def most_common(dicts):\n",
    "    t = []\n",
    "    for key, value in dicts.items():\n",
    "        t.append((value,key))\n",
    "    t.sort(reverse=True)\n",
    "    \n",
    "    return t\n",
    "    \n",
    "    \n",
    "optional parameters\n",
    "It is possible to write user defined functions with optional arguments\n",
    "\n",
    "def print_most_common(dicts, num =10)\n",
    "\n",
    "The first parameter is required, the second is optional. The default value of num is 10.\n",
    "\n",
    "print_most_common(hist,20)\n",
    "\n",
    "in this case, num gets the value of the argument isntead, the optional argument default value is overriden.\n",
    "\n",
    "\n",
    "Dictionary subtraction\n",
    "\n",
    "Finding the words from the book that are not in the word list from words.txt is a problem you might recognize as set subtraction; that is, we want to find all the worsd from one set that are not in another set.\n",
    "\n",
    "def subtract(d1, d2):\n",
    "    res = dict()\n",
    "    for key in d1:\n",
    "        if key not in d2:\n",
    "            res[key] = None\n",
    "    return res\n",
    "    \n",
    "    \n",
    "    \n",
    "Random words\n",
    "To choose a random words from histogram, build a list with multiple copies of each words, according to the observed frequency, and then choose from the list:\n",
    "\n",
    "def random_word(h):\n",
    "    t = []\n",
    "    for word, freq in h.items()\n",
    "        t.extend([word]*freq)\n",
    "    return random.choice(t)\n",
    "    \n",
    "Markov Analysis\n",
    "\n",
    "Characterizes for a given sequence of wrods, the probability of the words that comes next. Markov analysis maps each prefix word to all possible words that could come after it.\n",
    "\n",
    "Generate a random text by starting with any prefix and choosing at random from the possible suffixese. Next you can combine the end of the prefix and the new suffix to form the prefix, and repeat.\n",
    "\n",
    "Ex. Start with \"Half a\", next word is \"bee\", because the prefix only appears once in the text. The next prefix is \"bee\", so the next might be \"be\", or \"due\"\n",
    "\n",
    "\n",
    "Data Structures\n",
    "In Markov Analysis, three things:\n",
    "1. How to represent prefixes - strings, lists of strings, or tuples of strings.\n",
    "2. How to represent suffixes - one option is list, another is histogram\n",
    "3. How to represent the mapping of each prefix to suffixes - dictionary for mapping\n",
    "\n",
    "How to choose?\n",
    "1. Think about the operations you will need to implement for each data structure\n",
    "    Prefix - remove words from beginning and add to end, also need in as keys to dictionary, so tuples\n",
    "    \n",
    "    Suffix - adding a new suffix, of choosing a random one - use a list\n",
    "    \n",
    "Choosing data structures:\n",
    "1. Runtime\n",
    "2. benchmarking - implement different methods and see which one is faster.\n",
    "3. Storage space\n",
    "\n",
    "Can also use multiple data structures in between analysis and generation\n",
    "\n",
    "Debugging:\n",
    "1. Reading the code\n",
    "2. Running the code, running different versions, scaffolding\n",
    "3. Ruminating - what kind of error, what changed last\n",
    "4. Retreating - back off, undo, and go back to what works, restart\n",
    "\n"
   ]
  },
  {
   "cell_type": "markdown",
   "metadata": {},
   "source": [
    "## [Chapter 15](http://www.greenteapress.com/thinkpython/html/thinkpython016.html)\n",
    "\n",
    "This chapter has very few (and short) exercises, and is more focused on starting to think about classes and objects. If you haven't seen user defined types like classes before, you should read closely and try out some examples on your own. For example, you can write a [Python Tutor example like this one](http://pythontutor.com/visualize.html#code=%23+Example+for+visualizing+object+diagrams+by+stepping+through+the+code%0A%0Aclass+Point(object%29%3A%0A++++%22%22%22Represents+a+point+in+2-D+space.%22%22%22%0A++++pass%0A%0Aclass+Rectangle(object%29%3A%0A++++%22%22%22Represents+a+rectangle.+%0A%0A++++attributes%3A+width,+height,+corner.%0A++++%22%22%22%0A++++pass%0A%0A%0A%23+Create+a+point+to+serve+as+origin+for+our+rectangles%0Ap+%3D+Point(%29%0Ap.x+%3D+10%0Ap.y+%3D+15%0A%0A%23+Create+two+rectangles+with+different+size%0Ar1+%3D+Rectangle(%29%0Ar1.corner+%3D+p%0Ar1.width+%3D+100%0Ar1.height+%3D+100%0A%0Ar2+%3D+Rectangle(%29%0Ar2.corner+%3D+p%0Ar2.width+%3D+50%0Ar2.height+%3D+200%0A%0A%23+Change+the+width+of+r2+-+what+(if+any%29+is+the+effect+on+r1+and+why%3F%0Ar2.width+%3D+150%0Aprint+r1.width%0A%0A%23+Change+the+corner+position+of+r1+-+what+(if+any%29+is+the+effect+on+r2+and+why%3F%0Ar1.corner.x+%3D+20%0Aprint+r2.corner.x&mode=display&origin=opt-frontend.js&cumulative=false&heapPrimitives=false&textReferences=false&py=2&rawInputLstJSON=%5B%5D&curInstr=0) to explore object diagrams and aliasing.\n",
    "\n",
    "**Note**: The sequence of operations we use in this chapter to create class instances and assign their attributes, e.g. \n",
    "\n",
    "```\n",
    "box = Rectangle()\n",
    "box.width = 100.0\n",
    "box.height = 200.0\n",
    "box.corner = Point()\n",
    "box.corner.x = 0.0\n",
    "box.corner.y = 0.0\n",
    "```\n",
    "\n",
    "is somewhat clumsy and error prone. Things will get better in the next couple chapters; feel free to look ahead if you'd like a sneak preview.\n"
   ]
  },
  {
   "cell_type": "markdown",
   "metadata": {},
   "source": [
    "Class - a user-defined type\n",
    "\n",
    "class Point(object):\n",
    "    \"\"\" Represents a point in 2-D space\"\"\"\n",
    "    \n",
    "Creating a new object is instantiation\n",
    "\n",
    "The object is an instance of the class\n",
    "\n",
    "blank = Point()\n",
    "\n",
    "You can assign value to an instance using dot notation:\n",
    "\n",
    "blank.x = 3.0\n",
    "blank.y = 4.0\n",
    "\n",
    "These elements are called attributes\n",
    "\n",
    "Instances can be passedd as arguments in the usual way\n",
    "\n",
    "class Rectangle(object):\n",
    "    \"Represents a rectangle\"\n",
    "box = Rectangle()\n",
    "box.width = 199.0\n",
    "box.height = 200.0\n",
    "box.corner = Point()\n",
    "box.corner.x = 1.0\n",
    "box.corner.y = 2.0\n",
    "\n",
    "An object that is an attribute of another object is embedded\n",
    "\n",
    "Functions can return instances\n",
    "\n",
    "\n",
    "Objects are mutable - change the state of an object bymaking an assignment to one of its attributes.\n",
    "\n",
    "Write functions that modify objects.\n",
    "def grow_rectangle(rect, dwidth, dheight):\n",
    "    rect.width += dwidth\n",
    "    rect.height += dheight\n",
    "    \n",
    "Copying an object is an alternative to aliasing. THe copy module contains a function called copy that can duplicate any object\n",
    "\n",
    "p1 = Point()\n",
    "import copy\n",
    "p2 = copy.copy(p1)\n",
    "\n",
    "contain the same data, but not the same point\n",
    "\n",
    "for instances, the default behavior of == is the same as \"is\", which checks whether they are the same object\n",
    "\n",
    "If you copy a rectangle, you can copy the rectangle but the embedded point\n",
    "\n",
    "Shallow copy - copies the object and any references only, not the embedded\n",
    "\n",
    "Copy contains a function called deepcopy that copies all objects within an object.\n",
    "\n",
    "Debugging:\n",
    "1. Attributeerror - accessing an attribute that doesn't exist\n",
    "2. type(\"\"\"object\"\"\") check what type an object is\n",
    "3. hasattr checks whether an object has a particular attribute"
   ]
  },
  {
   "cell_type": "markdown",
   "metadata": {},
   "source": [
    "**Quick check:** In about one sentence using your own words, what is a class?"
   ]
  },
  {
   "cell_type": "markdown",
   "metadata": {},
   "source": [
    "A class is a user defined type of object, which the user can choose what attributes, methods, and other stuff it contains."
   ]
  },
  {
   "cell_type": "markdown",
   "metadata": {},
   "source": [
    " "
   ]
  },
  {
   "cell_type": "markdown",
   "metadata": {
    "is_question": true,
    "problem": "Exercise 15.1"
   },
   "source": [
    "### Exercise 1  \n",
    "\n",
    "Write a function called `distance_between_points` that takes two `Points` as arguments and returns the distance between them."
   ]
  },
  {
   "cell_type": "code",
   "execution_count": 4,
   "metadata": {
    "collapsed": false,
    "solution": "Exercise 15.1"
   },
   "outputs": [
    {
     "name": "stdout",
     "output_type": "stream",
     "text": [
      "Finding tests in NoName\n",
      "Trying:\n",
      "    chicken1 = Point(0,3)\n",
      "Expecting nothing\n",
      "ok\n",
      "Trying:\n",
      "    chicken2 = Point(4,0)\n",
      "Expecting nothing\n",
      "ok\n",
      "Trying:\n",
      "    print distance_between_points(chicken1, chicken2)\n",
      "Expecting:\n",
      "    5.0\n",
      "ok\n",
      "Trying:\n",
      "    chicken3 = Point(-4,0)\n",
      "Expecting nothing\n",
      "ok\n",
      "Trying:\n",
      "    print distance_between_points(chicken3, chicken2)\n",
      "Expecting:\n",
      "    8.0\n",
      "ok\n"
     ]
    }
   ],
   "source": [
    "import math\n",
    "def distance_between_points(p1,p2):\n",
    "    \"\"\"\n",
    "    This method takes two objects and computes the distance between the x and y attributes. Had to import math.\n",
    "    \n",
    "    Test cases just to prove it works.\n",
    "        \n",
    "    >>> chicken1 = Point(0,3)\n",
    "    >>> chicken2 = Point(4,0)\n",
    "    >>> print distance_between_points(chicken1, chicken2)\n",
    "    5.0\n",
    "    >>> chicken3 = Point(-4,0)\n",
    "    >>> print distance_between_points(chicken3, chicken2)\n",
    "    8.0\n",
    "    >>>\n",
    "    \"\"\"\n",
    "    xdist = p1.x - p2.x\n",
    "    ydist = p1.y - p2.y\n",
    "    return math.sqrt(xdist**2 + ydist ** 2)\n",
    "\n",
    "class Point(object):\n",
    "    \"\"\"\n",
    "    This is class that utilizes the init built in method which allows for constructor-like operations, saves a lot\n",
    "    of lines of code.\n",
    "    \n",
    "    Some test cases for this are hard to do since it requires an object, might as well do it up there.\n",
    "\n",
    "    \"\"\"\n",
    "    def __init__(self, xpoint, ypoint):\n",
    "        self.x = xpoint\n",
    "        self.y = ypoint\n",
    "\n",
    "    \n",
    "import doctest\n",
    "\n",
    "doctest.run_docstring_examples(distance_between_points, globals(),verbose=True)"
   ]
  },
  {
   "cell_type": "markdown",
   "metadata": {
    "is_question": true,
    "problem": "Exercise 15.2"
   },
   "source": [
    "### Exercise 2  \n",
    "\n",
    "Write a function named `move_rectangle` that takes a `Rectangle` and two numbers named `dx` and `dy`. It should change the location of the rectangle by adding `dx` to the `x` coordinate of `corner` and adding `dy` to the `y` coordinate of `corner`."
   ]
  },
  {
   "cell_type": "code",
   "execution_count": 6,
   "metadata": {
    "collapsed": false,
    "solution": "Exercise 15.2"
   },
   "outputs": [
    {
     "name": "stdout",
     "output_type": "stream",
     "text": [
      "Finding tests in NoName\n",
      "Trying:\n",
      "    chicken1 = Rectangle(10, 20, 5, 5)\n",
      "Expecting nothing\n",
      "ok\n",
      "Trying:\n",
      "    move_rectangle(chicken1, 10, -15)\n",
      "Expecting nothing\n",
      "ok\n",
      "Trying:\n",
      "    print chicken1.corner.x, chicken1.corner.y\n",
      "Expecting:\n",
      "    15 -10\n",
      "ok\n"
     ]
    }
   ],
   "source": [
    "def move_rectangle(rect, dx, dy):\n",
    "    \"\"\"\n",
    "    This method utilizes the embedded object notion to access the corner Point values and change them.\n",
    "    \n",
    "    Some tests for feasibility.\n",
    "    \n",
    "    >>> chicken1 = Rectangle(10, 20, 5, 5)\n",
    "    >>> move_rectangle(chicken1, 10, -15)\n",
    "    >>> print chicken1.corner.x, chicken1.corner.y\n",
    "    15 -10\n",
    "    \"\"\"\n",
    "    rect.corner.x += dx\n",
    "    rect.corner.y += dy\n",
    "    \n",
    "    \n",
    "class Rectangle(object):\n",
    "    \n",
    "    def __init__(self, h, w, xpoint, ypoint):\n",
    "        self.height = h\n",
    "        self.width = w\n",
    "        self.corner = Point(xpoint,ypoint)\n",
    "\n",
    "doctest.run_docstring_examples(move_rectangle, globals(), verbose=True)        "
   ]
  },
  {
   "cell_type": "markdown",
   "metadata": {
    "is_question": true,
    "problem": "Exercise 15.3"
   },
   "source": [
    "### Exercise 3  \n",
    "\n",
    "Write a version of `move_rectangle` that creates and returns a new `Rectangle` instead of modifying the old one."
   ]
  },
  {
   "cell_type": "code",
   "execution_count": 11,
   "metadata": {
    "collapsed": false,
    "solution": "Exercise 15.3"
   },
   "outputs": [
    {
     "name": "stdout",
     "output_type": "stream",
     "text": [
      "Finding tests in NoName\n",
      "Trying:\n",
      "    chicken1 = Rectangle(10,20,5,5)\n",
      "Expecting nothing\n",
      "ok\n",
      "Trying:\n",
      "    print chicken1.corner.x, chicken1.corner.y\n",
      "Expecting:\n",
      "    5 5\n",
      "ok\n",
      "Trying:\n",
      "    the_big_chicken = make_new_rectangle(chicken1, 10, 10)\n",
      "Expecting nothing\n",
      "ok\n",
      "Trying:\n",
      "    print chicken1.corner.x, chicken1.corner.y\n",
      "Expecting:\n",
      "    5 5\n",
      "ok\n",
      "Trying:\n",
      "    print the_big_chicken.corner.x, the_big_chicken.corner.y\n",
      "Expecting:\n",
      "    15 15\n",
      "ok\n",
      "Trying:\n",
      "    print the_big_chicken is chicken1\n",
      "Expecting:\n",
      "    False\n",
      "ok\n",
      "Trying:\n",
      "    print the_big_chicken.corner is chicken1.corner\n",
      "Expecting:\n",
      "    False\n",
      "ok\n"
     ]
    }
   ],
   "source": [
    "import copy\n",
    "\n",
    "def make_new_rectangle(rect, dx, dy):\n",
    "    \"\"\"\n",
    "    This method creates a new rectangle using the copy method and then changes the one's values for corner instead of \n",
    "    the old one. I made sure to use deep copy to ensure that I copied the embedded ones as well.\n",
    "    \n",
    "    Some tests to make sure that it worked, especially the deep copy part.\n",
    "    \n",
    "    >>> chicken1 = Rectangle(10,20,5,5)\n",
    "    >>> print chicken1.corner.x, chicken1.corner.y\n",
    "    5 5\n",
    "    >>> the_big_chicken = make_new_rectangle(chicken1, 10, 10)\n",
    "    >>> print chicken1.corner.x, chicken1.corner.y\n",
    "    5 5\n",
    "    >>> print the_big_chicken.corner.x, the_big_chicken.corner.y\n",
    "    15 15\n",
    "    >>> print the_big_chicken is chicken1\n",
    "    False\n",
    "    >>> print the_big_chicken.corner is chicken1.corner\n",
    "    False\n",
    "    \"\"\"\n",
    "    newchicken = copy.deepcopy(rect)\n",
    "    newchicken.corner.x += dx\n",
    "    newchicken.corner.y += dy\n",
    "    \n",
    "    return newchicken\n",
    "    \n",
    "doctest.run_docstring_examples(make_new_rectangle, globals(), verbose=True)    "
   ]
  },
  {
   "cell_type": "markdown",
   "metadata": {
    "is_question": true,
    "problem": "Time spent"
   },
   "source": [
    "## Quick poll\n",
    "About how long did you spend working on this Reading Journal?"
   ]
  },
  {
   "cell_type": "markdown",
   "metadata": {
    "poll_response": true,
    "solution": "Time spent"
   },
   "source": [
    " Like 1.5 hours. I read Chapter 13 and took notes, and I've also seen classes a lot before (Took 4 years of Java in high school, this stuff was ez money). I would consider myself an outlier in this poll."
   ]
  },
  {
   "cell_type": "markdown",
   "metadata": {
    "is_question": true,
    "problem": "Feedback"
   },
   "source": [
    "## Reading Journal feedback\n",
    "\n",
    "Have any comments on this Reading Journal? Feel free to leave them below and we'll read them when you submit your journal entry. This could include suggestions to improve the exercises, topics you'd like to see covered in class next time, or other feedback.\n",
    "\n",
    "If you have Python questions or run into problems while completing the reading, you should post them to Piazza instead so you can get a quick response before your journal is submitted."
   ]
  },
  {
   "cell_type": "markdown",
   "metadata": {
    "feedback_response": true,
    "solution": "Feedback"
   },
   "source": [
    "Java is all about OOP, so I've definitely seen all of this before. It was still really cool to be able to do OOP again, missed it since Java is hard to use since it requires a virtual machine. In java, we can do things like inheritance, interfaces, and abstract methods, etc. Does python have that too? "
   ]
  }
 ],
 "metadata": {
  "celltoolbar": "Edit Metadata",
  "kernelspec": {
   "display_name": "Python 2",
   "language": "python",
   "name": "python2"
  },
  "language_info": {
   "codemirror_mode": {
    "name": "ipython",
    "version": 2
   },
   "file_extension": ".py",
   "mimetype": "text/x-python",
   "name": "python",
   "nbconvert_exporter": "python",
   "pygments_lexer": "ipython2",
   "version": "2.7.6"
  }
 },
 "nbformat": 4,
 "nbformat_minor": 0
}
