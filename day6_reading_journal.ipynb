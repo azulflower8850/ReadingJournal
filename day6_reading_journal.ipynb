{
 "cells": [
  {
   "cell_type": "markdown",
   "metadata": {},
   "source": [
    "# Day 6 Reading Journal\n",
    "\n",
    "This journal includes several required exercises, but it is meant to encourage active reading more generally.  You should use the journal to take detailed notes, catalog questions, and explore the content from Think Python deeply.\n",
    "\n",
    "Reading: Think Python Chapter 5.8-5.14, 6.5-6.11\n",
    "\n",
    "**Due: Thursday, February 11 at 12 noon**\n",
    "\n"
   ]
  },
  {
   "cell_type": "markdown",
   "metadata": {},
   "source": [
    "## [Chapter 5.8 - 5.14](http://www.greenteapress.com/thinkpython/html/thinkpython006.html)\n",
    "\n",
    "[Python Tutor](http://pythontutor.com/) can be helpful for visualizing stack diagrams, including for recursive execution.\n",
    "\n",
    "Chapter 5 leads into Chapter 6, and all the required exercises for this reading are in the Chapter 6 section.\n",
    "\n"
   ]
  },
  {
   "cell_type": "markdown",
   "metadata": {},
   "source": [
    "Recursion is a function that calls itself.\n",
    "\n",
    "Every time a function gets called, Python creates a new function frame, which contains the function's local variables and parameters. For a recursive function, there might be more than one frame on the stack at the same time. \n",
    "\n",
    "The base case lies at the bottom of the stack, and prevents any more recursive calls.\n",
    "\n",
    "A function that nevers reaches a base case is called infinite recursion. Generally not good.\n",
    "\n",
    "Keyboard Input - \"raw_input\" command. Makes the program stop and wait for the user to type something. When the user presses Enter, the program resumes and raw_input returns what the user typed as a string.\n",
    "\n",
    "raw_input can take an argument string that allows for the programmer to tell the user what he/she should be typing in.\n",
    "\n",
    "\\n means newline, which is a special character for line break.\n",
    "\n",
    "\n",
    "Traceback debugger: What kind of error it was, and where it occurred.\n",
    "\n",
    "Be careful of whitespace errors for syntax.\n",
    "\n",
    "For runtime errors, the same thing can occur. Beware of dividing two integers, which can turn out to be 0.\n",
    "\n",
    "In Python 3 the division operator performs floating point division even with integer operands."
   ]
  },
  {
   "cell_type": "markdown",
   "metadata": {},
   "source": [
    "## [Chapter 6.5 - 6.11](http://www.greenteapress.com/thinkpython/html/thinkpython007.html)"
   ]
  },
  {
   "cell_type": "markdown",
   "metadata": {},
   "source": [
    "More recursion\n",
    "\n",
    "Evaluate a few recursively defined mathematical formulas. A recursive definition is similar to a circular definiton, in the sense that the definition contains a reference to the thing being defined. A truly circular definition is not very useful. \n",
    "\n",
    "If you can write a recursive definition of something you can usually write a python program to evaluate it. \n",
    "\n",
    "The first step is to decide what the parameters should be. For a factorial function, the method takes an integer. If the argument is 0, return 1. For the recursive call to work, we must find the factorial of n-1 and multiply it by n.\n",
    "\n",
    "The leap of faith - an alternative way to read programs besides the flow of execution. \n",
    "\n",
    "When you come to a function call, instead of following the flow of execution, you assume that the function works correctly and returns the right result.\n",
    "\n",
    "For recursion, when you get to the recursive call, instead of following the flow of execution, you should assume that the recursive call works and then ask youself \"Assuming that I can find the factorial of n-1, can I compute the factorial of n?\"\n",
    "\n",
    "Fibonacci - another most common example of a recursively defined mathematical function. You can use the leap of faith to assume that it's two recursive calls work.\n",
    "\n",
    "Checking Types\n",
    "\n",
    "What happens if we give the factorial function 1.5 as an argument? Then it returns an error because it skips 0. To solve this, there are two choices:\n",
    "1. Generalize the function to work with floating point numbers\n",
    "2. Make the function check the type of its argument.\n",
    "\n",
    "First is called gamma function, too hard. Check types instead.\n",
    "\n",
    "Use the built-in function isinstance\n",
    "\n",
    "Guardian - Conditions that come at the beginning of a function to protect the code that follows from values that might cause an error.\n",
    "\n",
    "Breaking a large program into smaller functions creates natural checkpoints for debugging. If a function is not working, there are three possibilities:\n",
    "1. There is something wrong with the arguments the functions is getting; a precondition s violated.\n",
    "2. There is something wrong with the function; a postcondition is violated\n",
    "3. There is something wrong with the return value or the way it is being used.\n",
    "\n",
    "To rule out first possibility, add a print statement at the beginning of the function and display the values of the parameters.\n",
    "\n",
    "Then add a print statement before each return statement that displays the return value. If possible, check the result by hand. Consider calling the function with values that make it easy to check the result.\n",
    "\n",
    "If the function seems to be working, look at the function call to make sure the return value is being used correctly.\n",
    "\n",
    "Adding print statements at the beginning and end of a function can help make the flow of execution more visible."
   ]
  },
  {
   "cell_type": "markdown",
   "metadata": {
    "is_question": true,
    "problem": "Exercise 6.4"
   },
   "source": [
    "### Exercise 4  \n",
    "\n",
    "Draw a stack diagram for the following program. What does the program print? \n",
    "\n",
    "You can do this on paper, using [Python Tutor](http://pythontutor.com/), or with [Lumpy](http://www.greenteapress.com/thinkpython/swampy/) as used in [Allen's solution](http://thinkpython.com/code/stack_diagram.py)."
   ]
  },
  {
   "cell_type": "code",
   "execution_count": null,
   "metadata": {
    "collapsed": false,
    "solution": "Exercise 6.4"
   },
   "outputs": [],
   "source": [
    "def b(z):\n",
    "    prod = a(z, z)\n",
    "    print z, prod\n",
    "    return prod\n",
    "\n",
    "def a(x, y):\n",
    "    x = x + 1\n",
    "    return x * y\n",
    "\n",
    "def c(x, y, z):\n",
    "    total = x + y + z\n",
    "    square = b(total)**2\n",
    "    return square\n",
    "\n",
    "x = 1\n",
    "y = x + 1\n",
    "print c(x, y+3, x+y)"
   ]
  },
  {
   "cell_type": "markdown",
   "metadata": {},
   "source": [
    "    module|   x -> 1    y -> 2                             |\n",
    "\n",
    "    c    | x -> 1 y -> 5 z -> 3 total -> 9 square -> 8100  |\n",
    "    \n",
    "    b    | z -> 9 prod -> 90                               |\n",
    "    \n",
    "    a    | x -> 10 y -> 9                                  |\n",
    "    \n",
    "    \n",
    "    \n",
    "    \n",
    "This function would print out:\n",
    "\n",
    "9 90\n",
    "\n",
    "8100"
   ]
  },
  {
   "cell_type": "markdown",
   "metadata": {
    "is_question": true,
    "problem": "Exercise 6.6"
   },
   "source": [
    "### Exercise 6  \n",
    "\n",
    "A palindrome is a word that is spelled the same backward and forward, like “noon” and “redivider”. Recursively, a word is a palindrome if the first and last letters are the same and the middle is a palindrome.\n",
    "\n",
    "You can use the `first`, `last`, and `middle` helper functions defined in Think Python, or do the string slices inside your function directly. Be sure to think about your base cases.\n",
    "    \n",
    "Write a function called `is_palindrome` that takes a string argument and returns `True` if it is a palindrome and `False` otherwise. Remember that you can use the built-in function `len` to check the length of a string.\n",
    "\n",
    "\n",
    "Write some unit tests for your function (optionally using doctest) to show that it works as intended."
   ]
  },
  {
   "cell_type": "code",
   "execution_count": 39,
   "metadata": {
    "collapsed": false,
    "solution": "Exercise 6.6"
   },
   "outputs": [
    {
     "name": "stdout",
     "output_type": "stream",
     "text": [
      "Finding tests in NoName\n",
      "Trying:\n",
      "    is_palindrome(\"cavbac\")\n",
      "Expecting:\n",
      "    False\n",
      "ok\n",
      "Trying:\n",
      "    is_palindrome(\"noon\")\n",
      "Expecting:\n",
      "    True\n",
      "ok\n",
      "Trying:\n",
      "    is_palindrome(\"redivider\")\n",
      "Expecting:\n",
      "    True\n",
      "ok\n",
      "Trying:\n",
      "    is_palindrome(\"livevil\")\n",
      "Expecting:\n",
      "    True\n",
      "ok\n",
      "Trying:\n",
      "    is_palindrome(\"chicken\")\n",
      "Expecting:\n",
      "    False\n",
      "ok\n"
     ]
    }
   ],
   "source": [
    "import doctest\n",
    "\n",
    "def is_palindrome(word):\n",
    "    \"\"\"\n",
    "    This function will take in a string and then determine whether it\n",
    "    is a palindrome by checking the first and last letters, and then\n",
    "    recursively checking the middle letters.\n",
    "    \n",
    "    Testing to make sure it hits all the way to the innermost letters, as well as\n",
    "    simple cases for robustness.\n",
    "    \n",
    "    >>> is_palindrome(\"cavbac\")\n",
    "    False\n",
    "    >>> is_palindrome(\"noon\")\n",
    "    True\n",
    "    >>> is_palindrome(\"redivider\")\n",
    "    True\n",
    "    >>> is_palindrome(\"livevil\")\n",
    "    True\n",
    "    >>> is_palindrome(\"chicken\")\n",
    "    False\n",
    "    \"\"\"\n",
    "    if len(word) < 2:\n",
    "        return True\n",
    "    elif word[0] != word[-1]:\n",
    "        return False\n",
    "    else:\n",
    "        return is_palindrome(word[1:-1])\n",
    "        \n",
    "    \n",
    "doctest.run_docstring_examples(is_palindrome, globals(),verbose=True)   "
   ]
  },
  {
   "cell_type": "markdown",
   "metadata": {
    "is_question": true,
    "problem": "Exercise 6.6 challenge"
   },
   "source": [
    "### Challenge (optional)\n",
    "\n",
    "Use the word list from [Chapter 9.1](http://www.greenteapress.com/thinkpython/html/thinkpython010.html) Exercise 1 to find all of the palindromes."
   ]
  },
  {
   "cell_type": "code",
   "execution_count": 30,
   "metadata": {
    "collapsed": false,
    "solution": "Exercise 6.6 challenge"
   },
   "outputs": [
    {
     "name": "stdout",
     "output_type": "stream",
     "text": [
      "['aa', 'aba', 'aga', 'aha', 'ala', 'alula', 'ama', 'ana', 'anna', 'ava', 'awa', 'bib', 'bob', 'boob', 'bub', 'civic', 'dad', 'deed', 'deified', 'deked', 'deled', 'denned', 'dewed', 'did', 'dud', 'eke', 'eme', 'ere', 'eve', 'ewe', 'eye', 'gag', 'gig', 'hah', 'halalah', 'hallah', 'huh', 'kaiak', 'kayak', 'keek', 'kook', 'level', 'madam', 'marram', 'mem', 'mim', 'minim', 'mom', 'mum', 'noon', 'nun', 'oho', 'otto', 'pap', 'peep', 'pep', 'pip', 'poop', 'pop', 'pup', 'radar', 'redder', 'refer', 'reifier', 'repaper', 'reviver', 'rotator', 'rotor', 'sagas', 'sees', 'selles', 'sememes', 'semes', 'seres', 'sexes', 'shahs', 'sis', 'solos', 'sos', 'stets', 'tat', 'tenet', 'terret', 'tit', 'toot', 'tot', 'tut', 'vav', 'waw', 'wow', 'yay']\n"
     ]
    }
   ],
   "source": [
    "fin = open('words.txt')\n",
    "all_palindromes = []\n",
    "for line in fin:\n",
    "    word = line.strip()\n",
    "    if is_palindrome(word):\n",
    "        all_palindromes.append(word)\n",
    "print all_palindromes        "
   ]
  },
  {
   "cell_type": "markdown",
   "metadata": {
    "is_question": true,
    "problem": "Exercise 6.7"
   },
   "source": [
    "### Exercise 7  \n",
    "\n",
    "A number `a` is a power of `b` if it is divisible by `b` and `a/b` is a power of `b`. Write a function called `is_power` that takes parameters `a` and `b` and returns `True` if `a` is a power of `b`. Note: you will have to think about the base case."
   ]
  },
  {
   "cell_type": "code",
   "execution_count": 34,
   "metadata": {
    "collapsed": false,
    "solution": "Exercise 6.7"
   },
   "outputs": [
    {
     "name": "stdout",
     "output_type": "stream",
     "text": [
      "Finding tests in NoName\n",
      "Trying:\n",
      "    is_power(243, 3)\n",
      "Expecting:\n",
      "    True\n",
      "ok\n",
      "Trying:\n",
      "    is_power(125, 7)\n",
      "Expecting:\n",
      "    False\n",
      "ok\n",
      "Trying:\n",
      "    is_power(100, 5)\n",
      "Expecting:\n",
      "    False\n",
      "ok\n",
      "Trying:\n",
      "    is_power(2048, 2)\n",
      "Expecting:\n",
      "    True\n",
      "ok\n",
      "Trying:\n",
      "    is_power(2,1)\n",
      "Expecting:\n",
      "    False\n",
      "ok\n"
     ]
    }
   ],
   "source": [
    "def is_power(a, b):\n",
    "    \"\"\"\n",
    "    This function determines whether a is a power b through recursion.\n",
    "    Testing for edge cases such as embedded false positives, long recursions,\n",
    "    and when b is equal to 1\n",
    "    \n",
    "    >>> is_power(243, 3)\n",
    "    True\n",
    "    >>> is_power(125, 7)\n",
    "    False\n",
    "    >>> is_power(100, 5)\n",
    "    False\n",
    "    >>> is_power(2048, 2)\n",
    "    True\n",
    "    >>> is_power(2,1)\n",
    "    False\n",
    "    \"\"\"\n",
    "    if a/b == 1:\n",
    "        return True\n",
    "    elif a%b !=0 or b==1:\n",
    "        return False\n",
    "    else:\n",
    "        return is_power(a/b,b)\n",
    "    \n",
    "doctest.run_docstring_examples(is_power, globals(), verbose=True)"
   ]
  },
  {
   "cell_type": "markdown",
   "metadata": {
    "is_question": true,
    "problem": "Exercise 6.8"
   },
   "source": [
    "### Challenge (optional) - Exercise 8  \n",
    "\n",
    "The greatest common divisor (GCD) of `a` and `b` is the largest number that divides both of them with no remainder.\n",
    "\n",
    "One way to find the GCD of two numbers is based on the observation that if `r` is the remainder when `a` is divided by `b`, then `gcd(a, b) = gcd(b, r)`. As a base case, we can use `gcd(a, 0) = a`.\n",
    "\n",
    "Write a function called `gcd` that takes parameters `a` and `b` and returns their greatest common divisor."
   ]
  },
  {
   "cell_type": "code",
   "execution_count": 38,
   "metadata": {
    "collapsed": false,
    "problem": "Exercise 6.8"
   },
   "outputs": [
    {
     "name": "stdout",
     "output_type": "stream",
     "text": [
      "Finding tests in NoName\n",
      "Trying:\n",
      "    gcd(45,15)\n",
      "Expecting:\n",
      "    15\n",
      "ok\n",
      "Trying:\n",
      "    gcd(100,120)\n",
      "Expecting:\n",
      "    20\n",
      "ok\n",
      "Trying:\n",
      "    gcd(7,11)\n",
      "Expecting:\n",
      "    1\n",
      "ok\n",
      "Trying:\n",
      "    gcd(9999999999, 7777777777)\n",
      "Expecting:\n",
      "    1111111111\n",
      "ok\n",
      "Trying:\n",
      "    gcd(1,2)\n",
      "Expecting:\n",
      "    1\n",
      "ok\n"
     ]
    }
   ],
   "source": [
    "def gcd(a,b):\n",
    "    \"\"\"\n",
    "    This function determines the greatest common divisor of two numbers.\n",
    "    Checks for when the remainder works out, else it recurses.\n",
    "    \n",
    "    Testing for when they're very large, and for they're very small.\n",
    "    \n",
    "    >>> gcd(45,15)\n",
    "    15\n",
    "    >>> gcd(100,120)\n",
    "    20\n",
    "    >>> gcd(7,11)\n",
    "    1\n",
    "    >>> gcd(9999999999, 7777777777)\n",
    "    1111111111\n",
    "    >>> gcd(1,2)\n",
    "    1\n",
    "    \"\"\"\n",
    "    if b == 0:\n",
    "        return a\n",
    "    elif a%b == 0:\n",
    "        return b\n",
    "    else:\n",
    "        return gcd(b,a%b)\n",
    "    \n",
    "doctest.run_docstring_examples(gcd,globals(),verbose=True)    "
   ]
  },
  {
   "cell_type": "markdown",
   "metadata": {},
   "source": [
    "## Reading Journal feedback\n",
    "\n",
    "Have any comments on this Reading Journal? Feel free to leave them below and we'll read them when you submit your journal entry. This could include suggestions to improve the exercises, topics you'd like to see covered in class next time, or other feedback.\n",
    "\n",
    "If you have Python questions or run into problems while completing the reading, you should post them to Piazza instead so you can get a quick response before your journal is submitted."
   ]
  },
  {
   "cell_type": "markdown",
   "metadata": {
    "feedback_response": true
   },
   "source": [
    "This was a fun chapter. I like recursion, wish we could do more with it. "
   ]
  }
 ],
 "metadata": {
  "kernelspec": {
   "display_name": "Python 2",
   "language": "python",
   "name": "python2"
  },
  "language_info": {
   "codemirror_mode": {
    "name": "ipython",
    "version": 2
   },
   "file_extension": ".py",
   "mimetype": "text/x-python",
   "name": "python",
   "nbconvert_exporter": "python",
   "pygments_lexer": "ipython2",
   "version": "2.7.6"
  }
 },
 "nbformat": 4,
 "nbformat_minor": 0
}
