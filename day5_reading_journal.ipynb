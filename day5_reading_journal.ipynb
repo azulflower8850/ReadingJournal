{
 "cells": [
  {
   "cell_type": "markdown",
   "metadata": {},
   "source": [
    "# Day 5 Reading Journal\n",
    "\n",
    "This journal includes several required exercises, but it is meant to encourage active reading more generally.  You should use the journal to take detailed notes, catalog questions, and explore the content from Think Python deeply.\n",
    "\n",
    "Reading: Think Python Chapter 4\n",
    "\n",
    "**Due: Monday, February 8 at 12 noon**\n",
    "\n"
   ]
  },
  {
   "cell_type": "markdown",
   "metadata": {},
   "source": [
    "## [Chapter 4](http://www.greenteapress.com/thinkpython/html/thinkpython005.html)\n",
    "\n",
    "In today's reading, you'll be exploring TurtleWorld!\n",
    "TurtleWorld is part of the [swampy](http://www.greenteapress.com/thinkpython/swampy/) package, written by Allen Downey.\n",
    "As part of the [Get Set](https://sites.google.com/site/sd16spring/home/assignments-and-mini-projects/setup-your-environment) assignment, you installed the swampy package using the pip Python package management tool. If you somehow missed that step or you see errors when you try to import TurtleWorld, you can install swampy by running:\n",
    "\n",
    "```\n",
    "sudo pip install swampy\n",
    "```\n",
    "\n",
    "at the command line.\n",
    "\n",
    "### Turtle wrangling\n",
    "\n",
    "You can always run your code as separate Python scripts, but here are a few tips for mixing TurtleWorld with Jupyter notebook:\n",
    "\n",
    " - TurtleWorld will appear in a new GUI window, rather than inline in the notebook like typical results do\n",
    " - You will not be able to close the TurtleWorld window unless you run `wait_for_user()` as the last line of your code.\n",
    " - Jupyter notebook works like one big Python script, even though it is broken up into sections. This means that you could create a Turtle in one cell, move it in a later cell, and then `wait_for_user()` in yet another. Despite this, it might be easier to treat each cell in this assignment as a separate script, creating a new world at the beginning and destroying it at the end of each."
   ]
  },
  {
   "cell_type": "markdown",
   "metadata": {},
   "source": [
    "Case Study: Interface Design\n",
    "\n",
    "A package is a collection of modules.\n",
    "\n",
    "TurtleWorld is a module from the Swampy package which provides a set of functions for drawing lines by steering turtle around the screen.\n",
    "\n",
    "Object oriented - \"bob\" refers to an instance of a Turtle as defined in module TurtleWorld. In this context, \"instance\" means a member of a set; this Turtle is one of the set of possible Turtles\n",
    "\n",
    "TurtleWorld has a lot of turtle-steering functions:\n",
    "1. fd - forward\n",
    "2. bk - backward\n",
    "3. lt - left turn\n",
    "4. rt - right turn\n",
    "5. pu - pen up, doesn't leave a trail\n",
    "6. pd - pen down, leaves a trail\n",
    "\n",
    "You can use a for loop in TurtleWorld to make repetitive commands more concise.\n",
    "\n",
    "Encapsulation - wrapping a piece of code up in a function. \n",
    "Benefits include attaching a name to the code block for documentation and the ability to invoke it and re-use the code.\n",
    "\n",
    "Generalization - adding a parameter to a function because it makes the function more general.\n",
    "\n",
    "Keyword arguments - arguments that include the parameter names as \"keywords\"\n",
    "\n",
    "Interface of a function is a summary of how it is used.\n",
    "1. What are the parameters\n",
    "2. What does the function do\n",
    "3. What is the return value\n",
    "\n",
    "Refactoring - the process of rearranging a program to improve function interfaces and facilitate code reuse.\n",
    "\n",
    "Development Plan - a process for writing programs.\n",
    "1. Start by writing a small program with no function definitions.\n",
    "2. Once you get the program working, encapsulate it in a function and give it a name.\n",
    "3. Generalize the function by adding appropriate parameters..\n",
    "4. Repeat steps 1-3 until you have a set of working functions. Copy and paste working code to avoid retyping.\n",
    "5. Look for opportunities to improve the program by refactoring.\n",
    "\n",
    "docstring - a string at the beginning of a function that explains the interface. It is a tripe quoted string, also know as a multiline string. Important to interface design.\n",
    "\n",
    "An interface is like a contract between a function and a caller. The caller agrees to provide certain parameters and the funciton agrees to do certain work. \n",
    "\n",
    "These requirements are called preconditions because they are supposed to be true before the function starts executing.\n",
    "\n",
    "Postconditions are the conditions at the end of the functions, such as intended effects."
   ]
  },
  {
   "cell_type": "markdown",
   "metadata": {},
   "source": [
    "### Get started\n",
    "\n",
    "Run the code in the cell below and make sure everything works. You should see brave Alice spring into the world and run forward. You can close the window when you're done by clicking on the 'X'. If this simple test doesn't work, check your swampy install (especially if you get an `ImportError`) and ask for help."
   ]
  },
  {
   "cell_type": "code",
   "execution_count": 32,
   "metadata": {
    "collapsed": true
   },
   "outputs": [],
   "source": [
    "from swampy.TurtleWorld import *\n",
    "\n",
    "# Create the world, and a turtle to put in it\n",
    "world = TurtleWorld()\n",
    "alice = Turtle()\n",
    "\n",
    "# Get moving, turtle!\n",
    "fd(alice, 50)\n",
    "\n",
    "# Wait for the user to close the window\n",
    "wait_for_user()\n",
    "\n",
    "\n",
    "\n",
    "#It worked. yay!"
   ]
  },
  {
   "cell_type": "markdown",
   "metadata": {
    "is_question": true,
    "problem": "Section 4.3"
   },
   "source": [
    "### Section 4.3 exercises\n",
    "Work through exercises 1-5 in Section 4.3, creating the `square`, `polygon`, `circle`, and `arc` functions. You can reference Allen's solutions, but please try the problems on your own first."
   ]
  },
  {
   "cell_type": "code",
   "execution_count": 53,
   "metadata": {
    "collapsed": false,
    "solution": "Section 4.3"
   },
   "outputs": [],
   "source": [
    "import math\n",
    "\n",
    "def drawSquare(t, length):\n",
    "    draw(t,length, 4, 360)\n",
    "    \n",
    "def drawPolygon(t, length, numsides):\n",
    "    draw(t,length, numsides, 360)\n",
    "    \n",
    "def drawCircle(t,r): #circle is slightly off due to approximation\n",
    "    circumference = 2 * math.pi * r\n",
    "    n = int(circumference /4) + 1\n",
    "    length = circumference / n\n",
    "    draw(t, length, n, 360)\n",
    "    \n",
    "def drawArc(t, r, angle): \n",
    "    circumference = 2 * math.pi * r\n",
    "    arc_length = circumference * angle / 360\n",
    "    number_of_sides = int(arc_length/3) + 1\n",
    "    step_length = arc_length / number_of_sides\n",
    "    draw(t, step_length, number_of_sides, angle)\n",
    "        \n",
    "def draw(t, length, numsides, arc_angle): #everything stems from this function\n",
    "    for i in range(numsides): #utilizes a very generalized set of parameters to create \n",
    "        fd(t,length) #all the shapes expected\n",
    "        rt(t, arc_angle/numsides)\n",
    "\n",
    "world = TurtleWorld()\n",
    "Chicken = Turtle()\n",
    "Chicken.delay = 0.01\n",
    "\n",
    "drawSquare(Chicken, 100)\n",
    "drawPolygon(Chicken,50,7)\n",
    "drawCircle(Chicken, 30)\n",
    "drawArc(Chicken, 40, 90)\n",
    "wait_for_user()"
   ]
  },
  {
   "cell_type": "markdown",
   "metadata": {
    "is_question": true,
    "problem": "More fun"
   },
   "source": [
    "### Exercise: More fun with Turtles!\n",
    "Complete at least one of Exercise 2, 3, 4, or 5. If you come up with some cool drawings you'd like to share with the rest of the class, let us know!"
   ]
  },
  {
   "cell_type": "code",
   "execution_count": 55,
   "metadata": {
    "collapsed": false,
    "solution": "More fun"
   },
   "outputs": [],
   "source": [
    "#I will be doing Exercise 4.3\n",
    "import math\n",
    "\n",
    "def drawPie(t, length, numsides): #umbrella function\n",
    "    drawPolygon(t,length,numsides)\n",
    "    drawRadius(t,length, numsides)\n",
    "    \n",
    "def drawPolygon(t, length, numsides): #draws the outer polygon shape\n",
    "    draw(t,length, numsides, 360)\n",
    "    \n",
    "def drawRadius(t, length, numsides): #draws the radius that go to the center\n",
    "    angle_of_polygon = 180.0*(numsides-2) /numsides\n",
    "    angle_of_triangle = angle_of_polygon / 2\n",
    "    length_of_radius = length/(2 * math.sin(math.radians(180.0/numsides)))\n",
    "    \n",
    "    for i in range(numsides):\n",
    "        rt(t,angle_of_triangle)\n",
    "        fd(t, length_of_radius)\n",
    "        bk(t, length_of_radius)\n",
    "        lt(t,angle_of_triangle)\n",
    "        fd(t, length)\n",
    "        rt(t, 180-angle_of_polygon)\n",
    "        \n",
    "    \n",
    "def draw(t, length, numsides, arc_angle): #copied from the previous exercise\n",
    "    for i in range(numsides): \n",
    "        fd(t,length) \n",
    "        rt(t, arc_angle/numsides)\n",
    "\n",
    "world = TurtleWorld()\n",
    "Chicken = Turtle()\n",
    "Chicken.delay = 0.01\n",
    "\n",
    "drawPie(Chicken, 50, 5)\n",
    "drawPie(Chicken, 50, 6)\n",
    "drawPie(Chicken, 50, 7)\n",
    "\n",
    "wait_for_user()"
   ]
  },
  {
   "cell_type": "markdown",
   "metadata": {},
   "source": [
    "## Reading Journal feedback\n",
    "\n",
    "Have any comments on this Reading Journal? Feel free to leave them below and we'll read them when you submit your journal entry. This could include suggestions to improve the exercises, topics you'd like to see covered in class next time, or other feedback.\n",
    "\n",
    "If you have Python questions or run into problems while completing the reading, you should post them to Piazza instead so you can get a quick response before your journal is submitted."
   ]
  },
  {
   "cell_type": "markdown",
   "metadata": {},
   "source": [
    "This was interesting, but the shapes and stuff were really tedious. I've done something similar to this in Java, called GridWorld, and it was mostly for understanding how programming works. Assuming that this is similar, I'd say maybe consider focusing less on geometry and more on programming fundamentals.\n"
   ]
  }
 ],
 "metadata": {
  "kernelspec": {
   "display_name": "Python 2",
   "language": "python",
   "name": "python2"
  },
  "language_info": {
   "codemirror_mode": {
    "name": "ipython",
    "version": 2
   },
   "file_extension": ".py",
   "mimetype": "text/x-python",
   "name": "python",
   "nbconvert_exporter": "python",
   "pygments_lexer": "ipython2",
   "version": "2.7.6"
  }
 },
 "nbformat": 4,
 "nbformat_minor": 0
}
