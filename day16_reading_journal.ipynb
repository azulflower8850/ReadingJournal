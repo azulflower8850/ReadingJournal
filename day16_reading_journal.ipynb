{
 "cells": [
  {
   "cell_type": "markdown",
   "metadata": {},
   "source": [
    "# Day 16 Reading Journal\n",
    "\n",
    "This journal includes several required exercises, but it is meant to encourage active reading more generally.  You should use the journal to take detailed notes, catalog questions, and explore the content from Think Python deeply.\n",
    "\n",
    "Reading: Think Python Appendix B (through B.2)\n",
    "\n",
    "**Due: Monday, March 28 at 12 noon**\n"
   ]
  },
  {
   "cell_type": "markdown",
   "metadata": {},
   "source": [
    "## [Appendix B](http://www.greenteapress.com/thinkpython/html/thinkpython022.html)\n",
    "\n",
    "You only need to read as far as section B.2 (inclusive), but feel free to go further and try more exercises if you are interested."
   ]
  },
  {
   "cell_type": "markdown",
   "metadata": {},
   "source": [
    "Analysis of algorithms\n",
    "\n",
    "A branch of compsci that studies performance, looking at space and time.\n",
    "\n",
    "Goal - predict the performance of different algorithms in order to guide design decisions \n",
    "\n",
    "Goals of algorithms analysis is to make meaningful comparisons between algorithms, but problems include:\n",
    "\n",
    "1. performance depends on hardware (could specify a machine model)\n",
    "2. performance depends on details (average case, partially sorted or random)\n",
    "3. performance depends on size (compare asymptotically as size increases)\n",
    "\n",
    "Order of Growth\n",
    "\n",
    "Algorithm A - 100n+1\n",
    "Algorithm B - n^2+n+1\n",
    "\n",
    "A is faster for large data sets, but slower for smaller data sets.\n",
    "\n",
    "Any function that contains the n^2 term will grow faster than the n term. The leading term is the term with the highest exponent\n",
    "\n",
    "The leading term's coefficient can affect smaller data values, but regardless of coefficients, in the end it all comes down to the power.\n",
    "\n",
    "If two algorithms have the same leading term, then it is to say that they are equilvalent.\n",
    "\n",
    "An order of growth is a set of functions whose asymptotic growth behavior is considered equivalent. 2n, 100n, and n+1 all the same order, which is O(n).\n",
    "\n",
    "There are a bunch of Big O:\n",
    "1. O(1)\n",
    "2. O(logn)\n",
    "3. O(n)\n",
    "4. O(n*logn)\n",
    "5. O(n^2)\n",
    "6. O(n^3)\n",
    "7. O(2^n)\n",
    "\n",
    "\n",
    "Analysis of basic Python operations\n",
    "\n",
    "Arithmetic operations are constant\n",
    "1. multiply is longer than addition and subtraction\n",
    "2. division even longer, but none of this depends on the mag of the operands\n",
    "3. larger integers are exception in that they will take longer with more digits.\n",
    "\n",
    "Indexing operations are constant, regardless of size.\n",
    "\n",
    "A for loop is linear, as long as body operations are constant\n",
    "\n",
    "Built in function sums is also linear, but tends to be faster, smaller leading coefficient.\n",
    "\n",
    "Same loop to add a list of strings, run time is quadratic because string concatenation is its own loop.\n",
    "\n",
    "Join method is faster b/c linear in total legnth of the string.\n",
    "\n",
    "Rule of Thumb:\n",
    "If body of loop is O(n^a), then the whole thing is O(n^a(+1))\n",
    "The number of times the loop is run doesn't' matter.\n",
    "\n",
    "String and tuple operations are linear, except indexing and len which are constant. Bulit in methods min and max are linear. Slice operations proportional to the length of the output, but not the input.\n",
    "\n",
    "List methods are linear, but with exceptions:\n",
    "1. adding element to end is constant\n",
    "2. removing an element from the end is constant\n",
    "3. sorting is O(nlogn)\n",
    "\n",
    "Dictionary operations are constant time, with exceptions:\n",
    "1. copy is proportional to the number of elements, but not the size of the elements\n",
    "2. update is proportional to size of dictionary passed, but dictionary that's updated.\n",
    "3. keys, values, and items, are linear because they return new lists. iterkeys, itervalues, and iteritems, are constant because they return iterators. Looping through them will be linear.\n",
    "\n"
   ]
  },
  {
   "cell_type": "markdown",
   "metadata": {
    "is_question": true,
    "problem": "Exercise B.1"
   },
   "source": [
    "### Exercise 1  \n",
    "\n",
    "Read the [Wikipedia page on Big-Oh notation](http://en.wikipedia.org/wiki/Big_O_notation) and answer the following questions:\n",
    "\n",
    " 1. What is the order of growth of n<sup>3</sup> + n<sup>2</sup>? What about 1000000 n<sup>3</sup> + n<sup>2</sup>? What about n<sup>3</sup> + 1000000 n<sup>2</sup>?\n",
    " 2. What is the order of growth of (n<sup>2</sup> + n) * (n + 1)? Before you start multiplying, remember that you only need the leading term.\n",
    " 3. If f is in O(g), for some unspecified function g, what can we say about af+b?\n",
    " 4. If f<sub>1</sub> and f<sub>2</sub> are in O(g), what can we say about f<sub>1</sub> + f<sub>2</sub>?\n",
    " 5. If f<sub>1</sub> is in O(g) and f<sub>2</sub> is in O(h), what can we say about f<sub>1</sub> + f<sub>2</sub>?\n",
    " 6. If f<sub>1</sub> is in O(g) and f<sub>2</sub> is O(h), what can we say about f<sub>1</sub> * f<sub>2</sub>? "
   ]
  },
  {
   "cell_type": "markdown",
   "metadata": {
    "collapsed": false,
    "solution": "Exercise B.1"
   },
   "source": [
    "  1. Order of growth of all three functions is O(n^3). \n",
    "  2. Looking at the leading terms of the two polynomials, one is n^2 and the other is n. Multiplying this yields n^3, which would be the order of growth of the overall function since it's going to be the leading term. So the order of growth is O(n^3)\n",
    "  3. The order of growth of af+b is still O(g), as coefficients and constants can change the runtime for small data sets, but in the long run it will remain the same g growth, so the order remains the same.\n",
    "  4. The order will still be O(g), because just simply adding them doesn't change the order of growth. Their coefficients might change, but the leading term will still be the same power, so nothing really changes.\n",
    "  5. It's hard to tell, because we don't know which one is a higher growth order. Since we're just adding the two together, the leading term will be the same order of growth, so in this instance the order of growth will be either O(g) or O(h), depending on which one is bigger\n",
    "  6. In this case we are multiplying, so that changes things. The multiplication will likely change the leading term by changing the power or something, so the order of growth is probably something like O(g*h). It's hard to pinpoint exactly because there are edge cases and the functions are arbitrary which elevates the ambiguity, but in general when multiplying two functions together, it should result in the multiplcation of their order of growths."
   ]
  },
  {
   "cell_type": "markdown",
   "metadata": {
    "is_poll": true,
    "is_question": true,
    "problem": "Time spent"
   },
   "source": [
    "## Quick poll\n",
    "About how long did you spend working on this Reading Journal?"
   ]
  },
  {
   "cell_type": "markdown",
   "metadata": {
    "poll_response": true,
    "solution": "Time spent"
   },
   "source": [
    " About an hour, maybe less."
   ]
  },
  {
   "cell_type": "markdown",
   "metadata": {
    "is_question": true,
    "problem": "Feedback"
   },
   "source": [
    "## Reading Journal feedback\n",
    "\n",
    "Have any comments on this Reading Journal? Feel free to leave them below and we'll read them when you submit your journal entry. This could include suggestions to improve the exercises, topics you'd like to see covered in class next time, or other feedback.\n",
    "\n",
    "If you have Python questions or run into problems while completing the reading, you should post them to Piazza instead so you can get a quick response before your journal is submitted."
   ]
  },
  {
   "cell_type": "markdown",
   "metadata": {
    "feedback_response": true,
    "solution": "Feedback"
   },
   "source": [
    "I'm wondering why we're having this now. I think it's really cool and I do enjoy learning about algorithm analysis, but it seems a little mistplaced. Maybe have done this earlier or with some context or something? Also it's very short, so I'm wondering about the usefulness of this reading journal. It was a cool little exposure I suppose.\n"
   ]
  }
 ],
 "metadata": {
  "celltoolbar": "Edit Metadata",
  "kernelspec": {
   "display_name": "Python 2",
   "language": "python",
   "name": "python2"
  },
  "language_info": {
   "codemirror_mode": {
    "name": "ipython",
    "version": 2
   },
   "file_extension": ".py",
   "mimetype": "text/x-python",
   "name": "python",
   "nbconvert_exporter": "python",
   "pygments_lexer": "ipython2",
   "version": "2.7.6"
  }
 },
 "nbformat": 4,
 "nbformat_minor": 0
}
