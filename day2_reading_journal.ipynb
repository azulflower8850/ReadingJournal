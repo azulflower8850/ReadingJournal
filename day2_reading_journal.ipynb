{
 "cells": [
  {
   "cell_type": "markdown",
   "metadata": {},
   "source": [
    "# Day 2 Reading Journal\n",
    "\n",
    "This journal includes several required exercises, but it is meant to encourage active reading more generally.  You should use the journal to take detailed notes, catalog questions, and explore the content from Think Python deeply.\n",
    "\n",
    "Reading: Think Python Chapter 6.1-6.4, 7\n",
    "\n",
    "**Due: Thursday, January 28 at 12 noon**\n",
    "\n"
   ]
  },
  {
   "cell_type": "markdown",
   "metadata": {},
   "source": [
    "Hello This is a test."
   ]
  },
  {
   "cell_type": "markdown",
   "metadata": {},
   "source": [
    "## [Chapter 6.1-6.4](http://www.greenteapress.com/thinkpython/html/thinkpython007.html)\n",
    "\n",
    "Note: the exercise numbers below match up with the reading for ease of cross referencing."
   ]
  },
  {
   "cell_type": "markdown",
   "metadata": {},
   "source": [
    "Fruitful functions\n",
    "\n",
    "In a fruitful function the return statement includes an expression, which means \"Return immediately from this function and use the following expression as a return value\"\n",
    "\n",
    "As soon as a return statement executes, the function terminates without executing any subsequent statements. Code that appears after a return statement, or any other place the flow of execution can never reach is called dead code.\n",
    "\n",
    "In a fruitful function, it is a good idea to ensure that every possible path through the program hits a return statement.\n",
    "\n",
    "Incremental developement: adding and testing only a small amount of code at a time to avoid long debugging sessions.\n",
    "\n",
    "Start with the function syntax, then move onto basic assignment and computation, and then get more and more complicated until finished.\n",
    "\n",
    "Scaffolding: code that is helpful for building the program but is not part of the final product. Examples are print statements used to check incremental development of the program to make sure that each part is working properly before going to next part.\n",
    "\n",
    "Key parts of Incremental Development:\n",
    "1. Start with a working program and make small incremental changes. At any point, if there is an error, you should have a good idea where it is.\n",
    "2. Use temporary variables to hold intermediate values so you can display and check them\n",
    "3. Once the program is working, you might want to remove some scaffolding or consoldiate statements.\n",
    "\n",
    "Composition - the concept of calling one function from within another\n",
    "Ex. Calculating the area of a circle while calling a distance function to calculate the radius\n",
    "\n",
    "Boolean functions - returning a boolean value.\n",
    "It is common to give boolean function names that sound like yes/no questions. Ex. is_divisible\n",
    "\n",
    "Often used in conditional statements, and can be used concisely without returning or comparing to a boolean:\n",
    "\n",
    "def is_divisible(x,y):\n",
    "    return x%y == 0\n",
    "\n",
    "if is_divisible(x,y):\n",
    "    print \"Chicken\"\n",
    "    \n"
   ]
  },
  {
   "cell_type": "markdown",
   "metadata": {},
   "source": [
    "**Quick check:** What is a _fruitful function_?"
   ]
  },
  {
   "cell_type": "markdown",
   "metadata": {},
   "source": [
    "A fruitful function is a function that returns a value after executing statements or other stuff when it is called. It is in comparison to a void function, which merely does stuff and then stop without returning anything, or more specifically, returning \"None\"."
   ]
  },
  {
   "cell_type": "markdown",
   "metadata": {},
   "source": [
    " "
   ]
  },
  {
   "cell_type": "markdown",
   "metadata": {},
   "source": [
    "### Exercise 1  \n",
    "Write a `compare` function that returns `1` if `x > y`, `0` if `x == y`, and `-1` if `x < y`."
   ]
  },
  {
   "cell_type": "code",
   "execution_count": 39,
   "metadata": {
    "collapsed": false
   },
   "outputs": [
    {
     "name": "stdout",
     "output_type": "stream",
     "text": [
      "-1\n",
      "1\n",
      "0\n",
      "-1\n",
      "1\n"
     ]
    }
   ],
   "source": [
    "def compare(x,y): #compares two numbers to see if the first one is bigger, or if they're the same.\n",
    "    if(x > y):\n",
    "        return 1\n",
    "    elif(x == y):\n",
    "        return 0\n",
    "    else:\n",
    "        return -1\n",
    "    \n",
    "print compare(4,5)\n",
    "print compare(101,100)\n",
    "print compare(5,5)\n",
    "print compare(1.1,5.5)\n",
    "print compare(\"b\",\"a\")"
   ]
  },
  {
   "cell_type": "markdown",
   "metadata": {},
   "source": [
    "**Quick check:** Modify the `absolute_value` function so that it returns the correct result for all integer inputs."
   ]
  },
  {
   "cell_type": "code",
   "execution_count": 5,
   "metadata": {
    "collapsed": false
   },
   "outputs": [
    {
     "name": "stdout",
     "output_type": "stream",
     "text": [
      "5\n",
      "5\n",
      "0\n"
     ]
    }
   ],
   "source": [
    "def absolute_value(x): #function was corrected to account for 0\n",
    "    if x < 0:\n",
    "        return -x\n",
    "    if x > 0:\n",
    "        return x\n",
    "    return 0\n",
    "\n",
    "print absolute_value(5)\n",
    "print absolute_value(-5)\n",
    "print absolute_value(0)"
   ]
  },
  {
   "cell_type": "markdown",
   "metadata": {},
   "source": [
    "### Exercise 2  \n",
    "Use incremental development to write a function called `hypotenuse` that returns the length of the hypotenuse of a right triangle given the lengths of the two legs as arguments. Record each stage of the development process as you go, using as many cells as you need."
   ]
  },
  {
   "cell_type": "code",
   "execution_count": 9,
   "metadata": {
    "collapsed": false
   },
   "outputs": [
    {
     "name": "stdout",
     "output_type": "stream",
     "text": [
      "0\n"
     ]
    }
   ],
   "source": [
    "def hypotenuse(a,b): #starting with a function to ensure functional syntax\n",
    "    return 0\n",
    "\n",
    "print hypotenuse(3,4)"
   ]
  },
  {
   "cell_type": "code",
   "execution_count": 10,
   "metadata": {
    "collapsed": false
   },
   "outputs": [
    {
     "name": "stdout",
     "output_type": "stream",
     "text": [
      "7\n"
     ]
    }
   ],
   "source": [
    "def hypotenuse(a,b): #now adding in temp variables, checking that they're correct\n",
    "    leg1 = a\n",
    "    leg2 = b\n",
    "    return a + b\n",
    "\n",
    "print hypotenuse(3,4)"
   ]
  },
  {
   "cell_type": "code",
   "execution_count": 11,
   "metadata": {
    "collapsed": false
   },
   "outputs": [
    {
     "name": "stdout",
     "output_type": "stream",
     "text": [
      "25\n"
     ]
    }
   ],
   "source": [
    "def hypotenuse(a,b): #computing basic squaring first\n",
    "    leg1 = a\n",
    "    leg2 = b\n",
    "    squared = a**2+b**2\n",
    "    return squared\n",
    "\n",
    "print hypotenuse(3,4)"
   ]
  },
  {
   "cell_type": "code",
   "execution_count": 14,
   "metadata": {
    "collapsed": false
   },
   "outputs": [
    {
     "name": "stdout",
     "output_type": "stream",
     "text": [
      "5\n"
     ]
    }
   ],
   "source": [
    "import math\n",
    "\n",
    "def hypotenuse(a,b): #final iteration with the real calculation\n",
    "    leg1 = a\n",
    "    leg2 = b\n",
    "    squared = a**2+b**2\n",
    "    result = math.sqrt(squared)\n",
    "    return result\n",
    "\n",
    "print int(hypotenuse(3,4))"
   ]
  },
  {
   "cell_type": "markdown",
   "metadata": {},
   "source": [
    "### Exercise 3  \n",
    "Write a function `is_between(x, y, z)` that returns `True` if `x ≤ y ≤ z` or `False` otherwise."
   ]
  },
  {
   "cell_type": "code",
   "execution_count": 7,
   "metadata": {
    "collapsed": false
   },
   "outputs": [
    {
     "name": "stdout",
     "output_type": "stream",
     "text": [
      "True\n",
      "False\n"
     ]
    }
   ],
   "source": [
    "def is_between(x,y,z): #used a one line return statement for concision\n",
    "    return x <= y and y<=z\n",
    "\n",
    "print is_between(3,4,5)\n",
    "print is_between(2,5,3)"
   ]
  },
  {
   "cell_type": "markdown",
   "metadata": {},
   "source": [
    "## [Chapter 7](http://www.greenteapress.com/thinkpython/html/thinkpython008.html)\n",
    "\n"
   ]
  },
  {
   "cell_type": "markdown",
   "metadata": {},
   "source": [
    "Iteration\n",
    "\n",
    "It is legal to make more than one assignment to the same variable. A new assignment makes an existing variable refer to a new value (and stop referring to the old value).\n",
    "\n",
    "Be careful to distinguish between an assignment operaton and a statement of equality. \" = \" is an assignment operator, and \" == \" is the equality operator.\n",
    "\n",
    "One of the most common forms of multiple assignment is update, where the new vaue of the variable depends on the old.\n",
    "Ex. x = x + 1\n",
    "This means \"get the current value of x, add one, and then update x with the new value.\"\n",
    "\n",
    "Python evaluates the right side of an assignment before assigning the value.\n",
    "\n",
    "Before you can update, you have to initalize it, usually with a simple assignment.\n",
    "\n",
    "Updating a variable by adding 1 is called an increment, subtracting 1 is called a decrement.\n",
    "\n",
    "Iteration - performing repetition. Use a for loop, or a while loop\n",
    "\n",
    "while n > 0:\n",
    "    print n\n",
    "    n = n - 1\n",
    "    \n",
    "It means \"While n is greater than 0, display the value of n and then reduce the value of n by 1. When you get to 0, exit the loop.\"\n",
    "\n",
    "Formal flow of a while statement:\n",
    "1. Evaluate the condition, yielding either True or False\n",
    "2. If the condition is false, exit the loop and continue execution at the next statement.\n",
    "3. If the condition is true, execute the body and then go back to step 1\n",
    "\n",
    "The body of the loop should change the value of one or more variables so that eventually the condition becomes false and the loop terminates. Otherwise the loop will repeat forever, which is called an infinite loop.\n",
    "\n",
    "A break statement can jump out of a loop halfway through the body.\n",
    "Ex. while True:\n",
    "        line  = raw_input('> ')\n",
    "        if line == 'done':\n",
    "            break\n",
    "        print line\n",
    "        \n",
    "print \"Done\"!\n",
    "\n",
    "\n",
    "Square Roots\n",
    "Loops often used in programs that compute numerical results by starting with an approximate answer and iteratively improving it.\n",
    "Ex. using a loop on square roots\n",
    "    while True:\n",
    "          print x\n",
    "          y = (x + a/x) / 2\n",
    "          if y == x:\n",
    "              break\n",
    "          x = y\n",
    "          \n",
    "Algorithms - a mechanical process for solving a category of problems.\n",
    "They do not require any intelligence to carry out. Each step follows from the last according to a simple set of rules\n",
    "\n",
    "Ex. addition with carrying, subtraction with borrowing, and long division\n",
    "\n",
    "Debugging larger and larger programs gets harder. \n",
    "Try debugging by bisection - look near the middle for an intermediate value you can check. Add a print statement and run the program. Depending on whether it worked, you know which half of the program to look at.\n",
    "In general, look specifically for where bugs are most likely to appear and where it is easy to check with a print statement or whatever."
   ]
  },
  {
   "cell_type": "markdown",
   "metadata": {},
   "source": [
    "**Quick check:** How do you test for equality in Python?"
   ]
  },
  {
   "cell_type": "markdown",
   "metadata": {},
   "source": [
    "You can use the \" == \" operator"
   ]
  },
  {
   "cell_type": "markdown",
   "metadata": {},
   "source": [
    " "
   ]
  },
  {
   "cell_type": "markdown",
   "metadata": {},
   "source": [
    "**Challenge:** Prove/disprove the Collatz conjecture :)"
   ]
  },
  {
   "cell_type": "markdown",
   "metadata": {},
   "source": [
    "I can prove it for half of the even numbers in the set n > 0 , but the rest is MUCH harder, so no thanks -.-"
   ]
  },
  {
   "cell_type": "markdown",
   "metadata": {},
   "source": [
    "### Exercise 2  \n",
    "Encapsulate the loop from Section 7.5 in a function called `square_root` that takes `a` as a parameter, chooses a reasonable value of `x`, and returns an estimate of the square root of `a`."
   ]
  },
  {
   "cell_type": "code",
   "execution_count": 38,
   "metadata": {
    "collapsed": false
   },
   "outputs": [
    {
     "name": "stdout",
     "output_type": "stream",
     "text": [
      "1.5\n",
      "1.75\n",
      "1.73214285714\n",
      "1.73205081001\n",
      "1.73205080757\n",
      "50\n",
      "26\n",
      "14\n",
      "10\n"
     ]
    }
   ],
   "source": [
    "def square_root(a):\n",
    "    number = a\n",
    "    x =a/2\n",
    "    epsilon = .0000000000001   #used to protect against infinite looping\n",
    "    while True:\n",
    "        print x\n",
    "        y = (x + a/x) / 2\n",
    "        if abs(y-x) < epsilon:\n",
    "            break\n",
    "        x = y\n",
    "        \n",
    "        \n",
    "square_root(3.0)  \n",
    "square_root(100)"
   ]
  },
  {
   "cell_type": "markdown",
   "metadata": {},
   "source": [
    "### Exercise 3  \n",
    "To test the square root algorithm you developed in Exercise 2, you could compare it with Python's `math.sqrt` function. Write a function named `test_square_root` that prints a table like this:\n",
    "\n",
    "```python\n",
    "1.0 1.0           1.0           0.0\n",
    "2.0 1.41421356237 1.41421356237 2.22044604925e-16\n",
    "3.0 1.73205080757 1.73205080757 0.0\n",
    "4.0 2.0           2.0           0.0\n",
    "5.0 2.2360679775  2.2360679775  0.0\n",
    "6.0 2.44948974278 2.44948974278 0.0\n",
    "7.0 2.64575131106 2.64575131106 0.0\n",
    "8.0 2.82842712475 2.82842712475 4.4408920985e-16\n",
    "9.0 3.0           3.0           0.0\n",
    "```\n",
    "\n",
    "The first column is a number, `a`; the second column is the square root of a computed with the function from Section 7.5; the third column is the square root computed by `math.sqrt`; the fourth column is the absolute value of the difference between the two estimates."
   ]
  },
  {
   "cell_type": "code",
   "execution_count": 37,
   "metadata": {
    "collapsed": false
   },
   "outputs": [
    {
     "name": "stdout",
     "output_type": "stream",
     "text": [
      "1.0. 1.0\t 1.0 \t1.11022302463e-15\n",
      "2.0. 1.41421356237\t 1.41421356237 \t2.22044604925e-16\n",
      "3.0. 1.73205080757\t 1.73205080757 \t0.0\n",
      "4.0. 2.0\t 2.0 \t0.0\n",
      "5.0. 2.2360679775\t 2.2360679775 \t0.0\n",
      "6.0. 2.44948974278\t 2.44948974278 \t8.881784197e-16\n",
      "7.0. 2.64575131106\t 2.64575131106 \t0.0\n",
      "8.0. 2.82842712475\t 2.82842712475 \t4.4408920985e-16\n",
      "9.0. 3.0\t 3.0 \t0.0\n",
      "10.0. 3.16227766017\t 3.16227766017 \t4.4408920985e-16\n",
      "11.0. 3.31662479036\t 3.31662479036 \t0.0\n",
      "12.0. 3.46410161514\t 3.46410161514 \t0.0\n",
      "13.0. 3.60555127546\t 3.60555127546 \t4.4408920985e-16\n",
      "14.0. 3.74165738677\t 3.74165738677 \t4.4408920985e-16\n",
      "15.0. 3.87298334621\t 3.87298334621 \t8.881784197e-16\n",
      "16.0. 4.0\t 4.0 \t4.4408920985e-15\n",
      "17.0. 4.12310562562\t 4.12310562562 \t1.50990331349e-14\n",
      "18.0. 4.24264068712\t 4.24264068712 \t5.06261699229e-14\n",
      "19.0. 4.35889894354\t 4.35889894354 \t8.881784197e-16\n",
      "20.0. 4.472135955\t 4.472135955 \t0.0\n",
      "21.0. 4.58257569496\t 4.58257569496 \t0.0\n",
      "22.0. 4.69041575982\t 4.69041575982 \t0.0\n",
      "23.0. 4.79583152331\t 4.79583152331 \t0.0\n",
      "24.0. 4.89897948557\t 4.89897948557 \t0.0\n",
      "25.0. 5.0\t 5.0 \t0.0\n",
      "26.0. 5.09901951359\t 5.09901951359 \t0.0\n",
      "27.0. 5.19615242271\t 5.19615242271 \t0.0\n",
      "28.0. 5.29150262213\t 5.29150262213 \t0.0\n",
      "29.0. 5.38516480713\t 5.38516480713 \t8.881784197e-16\n",
      "30.0. 5.47722557505\t 5.47722557505 \t0.0\n",
      "31.0. 5.56776436283\t 5.56776436283 \t8.881784197e-16\n",
      "32.0. 5.65685424949\t 5.65685424949 \t8.881784197e-16\n",
      "33.0. 5.74456264654\t 5.74456264654 \t0.0\n",
      "34.0. 5.83095189485\t 5.83095189485 \t0.0\n",
      "35.0. 5.9160797831\t 5.9160797831 \t0.0\n",
      "36.0. 6.0\t 6.0 \t0.0\n",
      "37.0. 6.0827625303\t 6.0827625303 \t8.881784197e-16\n",
      "38.0. 6.16441400297\t 6.16441400297 \t8.881784197e-16\n",
      "39.0. 6.2449979984\t 6.2449979984 \t0.0\n",
      "40.0. 6.32455532034\t 6.32455532034 \t8.881784197e-16\n",
      "41.0. 6.40312423743\t 6.40312423743 \t0.0\n",
      "42.0. 6.48074069841\t 6.48074069841 \t0.0\n",
      "43.0. 6.5574385243\t 6.5574385243 \t0.0\n",
      "44.0. 6.63324958071\t 6.63324958071 \t0.0\n",
      "45.0. 6.7082039325\t 6.7082039325 \t0.0\n",
      "46.0. 6.78232998313\t 6.78232998313 \t0.0\n",
      "47.0. 6.8556546004\t 6.8556546004 \t0.0\n",
      "48.0. 6.92820323028\t 6.92820323028 \t8.881784197e-16\n",
      "49.0. 7.0\t 7.0 \t0.0\n",
      "50.0. 7.07106781187\t 7.07106781187 \t8.881784197e-16\n",
      "51.0. 7.14142842854\t 7.14142842854 \t8.881784197e-16\n",
      "52.0. 7.21110255093\t 7.21110255093 \t2.6645352591e-15\n",
      "53.0. 7.28010988928\t 7.28010988928 \t2.6645352591e-15\n",
      "54.0. 7.34846922835\t 7.34846922835 \t3.5527136788e-15\n",
      "55.0. 7.4161984871\t 7.4161984871 \t6.2172489379e-15\n",
      "56.0. 7.48331477355\t 7.48331477355 \t8.881784197e-15\n",
      "57.0. 7.54983443527\t 7.54983443527 \t1.24344978758e-14\n",
      "58.0. 7.61577310586\t 7.61577310586 \t1.68753899743e-14\n",
      "59.0. 7.68114574787\t 7.68114574787 \t2.39808173319e-14\n",
      "60.0. 7.74596669241\t 7.74596669241 \t3.19744231092e-14\n",
      "61.0. 7.81024967591\t 7.81024967591 \t4.35207425653e-14\n",
      "62.0. 7.87400787401\t 7.87400787401 \t5.77315972805e-14\n",
      "63.0. 7.93725393319\t 7.93725393319 \t7.63833440942e-14\n",
      "64.0. 8.0\t 8.0 \t0.0\n",
      "65.0. 8.0622577483\t 8.0622577483 \t0.0\n",
      "66.0. 8.12403840464\t 8.12403840464 \t0.0\n",
      "67.0. 8.18535277187\t 8.18535277187 \t0.0\n",
      "68.0. 8.24621125124\t 8.24621125124 \t0.0\n",
      "69.0. 8.30662386292\t 8.30662386292 \t0.0\n",
      "70.0. 8.36660026534\t 8.36660026534 \t0.0\n",
      "71.0. 8.42614977318\t 8.42614977318 \t0.0\n",
      "72.0. 8.48528137424\t 8.48528137424 \t1.7763568394e-15\n",
      "73.0. 8.54400374532\t 8.54400374532 \t1.7763568394e-15\n",
      "74.0. 8.60232526704\t 8.60232526704 \t0.0\n",
      "75.0. 8.66025403784\t 8.66025403784 \t1.7763568394e-15\n",
      "76.0. 8.71779788708\t 8.71779788708 \t1.7763568394e-15\n",
      "77.0. 8.77496438739\t 8.77496438739 \t1.7763568394e-15\n",
      "78.0. 8.83176086633\t 8.83176086633 \t0.0\n",
      "79.0. 8.88819441732\t 8.88819441732 \t0.0\n",
      "80.0. 8.94427191\t 8.94427191 \t0.0\n",
      "81.0. 9.0\t 9.0 \t0.0\n",
      "82.0. 9.05538513814\t 9.05538513814 \t0.0\n",
      "83.0. 9.11043357914\t 9.11043357914 \t0.0\n",
      "84.0. 9.16515138991\t 9.16515138991 \t0.0\n",
      "85.0. 9.21954445729\t 9.21954445729 \t0.0\n",
      "86.0. 9.2736184955\t 9.2736184955 \t0.0\n",
      "87.0. 9.32737905309\t 9.32737905309 \t0.0\n",
      "88.0. 9.38083151965\t 9.38083151965 \t0.0\n",
      "89.0. 9.43398113206\t 9.43398113206 \t1.7763568394e-15\n",
      "90.0. 9.48683298051\t 9.48683298051 \t0.0\n",
      "91.0. 9.53939201417\t 9.53939201417 \t0.0\n",
      "92.0. 9.59166304663\t 9.59166304663 \t0.0\n",
      "93.0. 9.64365076099\t 9.64365076099 \t0.0\n",
      "94.0. 9.69535971483\t 9.69535971483 \t0.0\n",
      "95.0. 9.74679434481\t 9.74679434481 \t1.7763568394e-15\n",
      "96.0. 9.79795897113\t 9.79795897113 \t0.0\n",
      "97.0. 9.8488578018\t 9.8488578018 \t0.0\n",
      "98.0. 9.89949493661\t 9.89949493661 \t0.0\n",
      "99.0. 9.94987437107\t 9.94987437107 \t0.0\n"
     ]
    }
   ],
   "source": [
    "import math, decimal\n",
    "\n",
    "def square_root_1(a):\n",
    "    number = a\n",
    "    x = a/2\n",
    "    epsilon = .0000000000001   #used to protect against infinite looping\n",
    "    while True:\n",
    "        y = (x + a/x) / 2\n",
    "        if abs(y-x) < epsilon:\n",
    "            return x #changed to return a value at the end\n",
    "        x = y\n",
    "        \n",
    "        \n",
    "def test_square_root():\n",
    "    for i in range (1,100):\n",
    "        print str(float(i)) + \". \" + str(square_root_1(float(i))) + \"\\t \" + str(math.sqrt(float(i))) + \" \\t\" + str(abs(square_root_1(float(i))-math.sqrt(float(i))))\n",
    "\n",
    "        \n",
    "test_square_root()        "
   ]
  },
  {
   "cell_type": "markdown",
   "metadata": {},
   "source": [
    "### Challenge: Exercise 5  (optional)\n",
    "The mathematician Srinivasa Ramanujan found an infinite series that can be used to generate a numerical approximation of\n",
    "$\\frac{1}{\\pi}$:\n",
    "\n",
    "$$\\frac{1}{\\pi} = \\frac{2 \\sqrt{2}}{9801} \\sum_{k=0}^{\\infty} \\frac{(4k)! (1103+26390k)}{(k!)^4 396^{4k}}$$\n",
    " \n",
    "Write a function called `estimate_pi` that uses this formula to compute and return an estimate of $\\pi$. It should use a `while` loop to compute terms of the summation until the last term is smaller than `1e-15` (which is Python notation for $10^{−15}$). You can check the result by comparing it to `math.pi`.\n",
    "\n",
    "[Possible solution](http://thinkpython.com/code/pi.py) (give the exercise a try before viewing the solution)"
   ]
  },
  {
   "cell_type": "code",
   "execution_count": 27,
   "metadata": {
    "collapsed": false
   },
   "outputs": [
    {
     "name": "stdout",
     "output_type": "stream",
     "text": [
      "3.14159272683\n",
      "7.32391991498e-08\n"
     ]
    }
   ],
   "source": [
    "import math\n",
    "\n",
    "def estimate_pi():\n",
    "    epilson = 1e-15;\n",
    "    k = 0\n",
    "    y=0;\n",
    "    while True:\n",
    "        temp = (math.factorial(4*0))*(1103+26390*k)/(math.pow(math.factorial(k),4)*math.pow(396,4*k))\n",
    "        if temp < epilson:\n",
    "            return 1/((2*math.sqrt(2)/9801)*y)\n",
    "        y = y + temp\n",
    "        k = k + 1\n",
    "\n",
    "print estimate_pi()\n",
    "print estimate_pi()-math.pi\n"
   ]
  },
  {
   "cell_type": "markdown",
   "metadata": {},
   "source": [
    "## Reading Journal feedback\n",
    "\n",
    "Have any comments on this Reading Journal? Feel free to leave them below and we'll read them when you submit your journal entry. This could include suggestions to improve the exercises, topics you'd like to see covered in class next time, or other feedback.\n",
    "\n",
    "If you have Python questions or run into problems while completing the reading, you should post them to Piazza instead so you can get a quick response before your journal is submitted."
   ]
  },
  {
   "cell_type": "markdown",
   "metadata": {},
   "source": [
    "I had some trouble with getting the table in Exercise 3 of Chapter 7 to format correctly, as you can see. The columns wouldn't line up properly. Do you know how to do that?"
   ]
  },
  {
   "cell_type": "markdown",
   "metadata": {},
   "source": [
    " "
   ]
  }
 ],
 "metadata": {
  "kernelspec": {
   "display_name": "Python 2",
   "language": "python",
   "name": "python2"
  },
  "language_info": {
   "codemirror_mode": {
    "name": "ipython",
    "version": 2
   },
   "file_extension": ".py",
   "mimetype": "text/x-python",
   "name": "python",
   "nbconvert_exporter": "python",
   "pygments_lexer": "ipython2",
   "version": "2.7.6"
  }
 },
 "nbformat": 4,
 "nbformat_minor": 0
}
